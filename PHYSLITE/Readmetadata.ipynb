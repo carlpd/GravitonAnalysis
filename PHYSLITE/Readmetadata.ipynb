{
 "cells": [
  {
   "cell_type": "code",
   "execution_count": 1,
   "id": "6d9f3317",
   "metadata": {},
   "outputs": [
    {
     "name": "stdout",
     "output_type": "stream",
     "text": [
      "Welcome to JupyROOT 6.28/04\n"
     ]
    },
    {
     "ename": "ModuleNotFoundError",
     "evalue": "No module named 'numpy'",
     "output_type": "error",
     "traceback": [
      "\u001b[0;31m---------------------------------------------------------------------------\u001b[0m",
      "\u001b[0;31mModuleNotFoundError\u001b[0m                       Traceback (most recent call last)",
      "\u001b[0;32m/tmp/ipykernel_1827449/2580426468.py\u001b[0m in \u001b[0;36m<module>\u001b[0;34m\u001b[0m\n\u001b[1;32m      3\u001b[0m \u001b[0;32mimport\u001b[0m \u001b[0mROOT\u001b[0m\u001b[0;34m\u001b[0m\u001b[0;34m\u001b[0m\u001b[0m\n\u001b[1;32m      4\u001b[0m \u001b[0;32mimport\u001b[0m \u001b[0mtime\u001b[0m\u001b[0;34m\u001b[0m\u001b[0;34m\u001b[0m\u001b[0m\n\u001b[0;32m----> 5\u001b[0;31m \u001b[0;32mimport\u001b[0m \u001b[0mnumpy\u001b[0m \u001b[0;32mas\u001b[0m \u001b[0mnp\u001b[0m\u001b[0;34m\u001b[0m\u001b[0;34m\u001b[0m\u001b[0m\n\u001b[0m\u001b[1;32m      6\u001b[0m \u001b[0;32mimport\u001b[0m \u001b[0msys\u001b[0m\u001b[0;34m\u001b[0m\u001b[0;34m\u001b[0m\u001b[0m\n\u001b[1;32m      7\u001b[0m \u001b[0;32mimport\u001b[0m \u001b[0mshutil\u001b[0m\u001b[0;34m\u001b[0m\u001b[0;34m\u001b[0m\u001b[0m\n",
      "\u001b[0;32m/storage/shared/root_install/lib/ROOT/_facade.py\u001b[0m in \u001b[0;36m_importhook\u001b[0;34m(name, *args, **kwds)\u001b[0m\n\u001b[1;32m    152\u001b[0m                 \u001b[0;32mexcept\u001b[0m \u001b[0mException\u001b[0m\u001b[0;34m:\u001b[0m\u001b[0;34m\u001b[0m\u001b[0;34m\u001b[0m\u001b[0m\n\u001b[1;32m    153\u001b[0m                     \u001b[0;32mpass\u001b[0m\u001b[0;34m\u001b[0m\u001b[0;34m\u001b[0m\u001b[0m\n\u001b[0;32m--> 154\u001b[0;31m             \u001b[0;32mreturn\u001b[0m \u001b[0m_orig_ihook\u001b[0m\u001b[0;34m(\u001b[0m\u001b[0mname\u001b[0m\u001b[0;34m,\u001b[0m \u001b[0;34m*\u001b[0m\u001b[0margs\u001b[0m\u001b[0;34m,\u001b[0m \u001b[0;34m**\u001b[0m\u001b[0mkwds\u001b[0m\u001b[0;34m)\u001b[0m\u001b[0;34m\u001b[0m\u001b[0;34m\u001b[0m\u001b[0m\n\u001b[0m\u001b[1;32m    155\u001b[0m         \u001b[0m__builtin__\u001b[0m\u001b[0;34m.\u001b[0m\u001b[0m__import__\u001b[0m \u001b[0;34m=\u001b[0m \u001b[0m_importhook\u001b[0m\u001b[0;34m\u001b[0m\u001b[0;34m\u001b[0m\u001b[0m\n\u001b[1;32m    156\u001b[0m \u001b[0;34m\u001b[0m\u001b[0m\n",
      "\u001b[0;31mModuleNotFoundError\u001b[0m: No module named 'numpy'"
     ]
    }
   ],
   "source": [
    "import glob\n",
    "import re\n",
    "import ROOT\n",
    "import time\n",
    "import numpy as np\n",
    "import sys\n",
    "import shutil\n",
    "import json\n",
    "try:\n",
    "    import pandas as pd\n",
    "except:\n",
    "    !{sys.executable} -m pip install pandas\n",
    "    import pandas as pd\n",
    "xsec_dic = {}"
   ]
  },
  {
   "cell_type": "code",
   "execution_count": null,
   "id": "db1d6799",
   "metadata": {},
   "outputs": [],
   "source": [
    "! g++ -shared -fPIC -o ./../commontools/helperFunctions.so ./../commontools/helperFunctions.cxx `root-config --cflags --glibs`"
   ]
  },
  {
   "cell_type": "code",
   "execution_count": null,
   "id": "f763d040",
   "metadata": {},
   "outputs": [],
   "source": [
    "#Load the c++ library with filter functions\n",
    "ROOT.gSystem.AddDynamicPath(\"../commontools/.\")\n",
    "ROOT.gROOT.ProcessLine(\".include ./../commontools\");\n",
    "ROOT.gInterpreter.AddIncludePath(\"./../commontools\");\n",
    "ROOT.gInterpreter.Declare('#include \"./../commontools/helperFunctions.h\"') # Header with the definition of the myFilter function\n",
    "ROOT.gSystem.Load(\"../commontools/helperFunctions.so\") # Library with the myFilter function"
   ]
  },
  {
   "cell_type": "code",
   "execution_count": null,
   "id": "ea27fcb1",
   "metadata": {},
   "outputs": [],
   "source": [
    "def getCategory(dsid,dsname,vb = 0):\n",
    "    if dsid >= 601348 and dsid <= 601355: return \"singletop_nom\"\n",
    "    if dsid in [601455,601457,601459,601461]: return \"singletop_sys\"\n",
    "    if dsid in [601229]: return \"ttbar_singlelep_nom\"\n",
    "    if dsid in [601230]: return \"ttbar_dilep_nom\"\n",
    "    if dsid in [601237]: return \"ttbar_allhad_nom\"\n",
    "    if dsid in [601414]: return \"ttbar_singlelep_PhH7EG\"\n",
    "    if dsid in [601415]: return \"ttbar_dilep_PhH7EG\"\n",
    "    if dsid >= 700659 and dsid <= 700662: \n",
    "        if dsid in [700659]: return \"ttbar_allhad_sherpa\"\n",
    "        if dsid in [700660]: return \"ttbar_dilep_sherpa\"\n",
    "        if dsid in [700661]: return \"ttbar_singlelepM_sherpa\"\n",
    "        if dsid in [700662]: return \"ttbar_singlelepP_sherpa\"\n",
    "    if dsid in [601398]: return \"ttbar_singlelep_phpy\"\n",
    "    if dsid in [601399]: return \"ttbar_dilep_phpy\"\n",
    "    if dsid in [700578,700579,700706]: \n",
    "        if dsid in [700578]: return \"ttW_0L\" \n",
    "        if dsid in [700579]: return \"ttW_1L\" \n",
    "        if dsid in [700706]: return \"ttW_dilep\" \n",
    "    if (dsid >= 700566 and dsid <= 700574) or (dsid >= 700600 and dsid <= 700605): return \"Diboson_nom\"\n",
    "    if (dsid == 700678): return \"Diboson_Sh2212\"\n",
    "    if dsid >= 700760 and dsid <= 700763: return \"Triboson\"\n",
    "    if dsid >= 601183 and dsid <= 601191:\n",
    "        if dsid in [601183,601186]: return \"Weejets_phpy\"\n",
    "        if dsid in [601184,601187]: return \"Wmumujets_phpy\"\n",
    "        if dsid in [601185,601188]: return \"Wtauttaujets_phpy\"\n",
    "        if dsid in [601189]: return \"Zeejets_phpy\" #Try\n",
    "        if dsid in [601190]: return \"Zmumujets_phpy\"\n",
    "        if dsid in [601191]: return \"Ztautaujets_phpy\"\n",
    "    if dsid >= 700559 and dsid <= 700565: return \"Vgamma_nom\"\n",
    "    if dsid in [700606,700607,700608,700627,700628,700629]: return \"Wenu_nom\"\n",
    "    if dsid in [700609,700610,700611,700630,700631,700632]: return \"Wmunu_nom\"\n",
    "    if dsid in [700612,700613,700614,700633,700634,700635]: return \"Wtaunu_nom\"\n",
    "    if dsid in [700615,700616,700617,700636,700637,700638]: return \"Zee_nom\" #Remove\n",
    "    if dsid in [700618,700619,700620,700639,700640,700641]: return \"Zmumu_nom\" #Remove\n",
    "    if dsid in [700621,700622,700623,700642,700643,700644]: return \"Ztautau_nom\" #Remove\n",
    "    if dsid in [700624,700625,700626]: return \"Znunu_nom\" #Remove\n",
    "    if dsid in [700697,700698,700699]: return \"Zee_lowmll_nom\" #Remove\n",
    "    if dsid in [700700,700701,700702]: return \"Zmumu_lowmll_nom\" #Remove\n",
    "    if dsid in [700703,700704,700705]: return \"Ztautau_lowmll_nom\" #Remove\n",
    "    if dsid >= 601469 and dsid <= 601474: return \"Higgs_tautau\"\n",
    "    if dsid >= 601481 and dsid <= 601484: return \"Higgs_gamgam\"\n",
    "    if (dsid >= 601499 and dsid <= 601505) or (dsid >= 601525 and dsid <= 601530) or (dsid >= 601582 and dsid <= 601588): return \"Higgs_4lep\"\n",
    "    if dsid >= 601506 and dsid <= 601512: return \"Higgs_mumu\"\n",
    "    if dsid in [601580,601581,601400,601402]: return \"Higgs_tautau\"\n",
    "    if dsid >= 601477 and dsid <= 601480: return \"diHiggs\" \n",
    "    if dsid >= 801165 and dsid <= 801174: return \"multijet_nom\"\n",
    "    if dsid >= 700688 and dsid <= 700696: return \"multijet_sherpa\"\n",
    "    if (dsid >= 801663 and dsid <= 801676) or (dsid >= 801649 and dsid <= 801660): return \"singlephoton\"\n",
    "    if \"Jpsi\" in dsname: return \"Jpsi\"\n",
    "    if \"_Zp_\" in dsname or \"_Zprime\" in dsname: return \"BSM_zprime\" \n",
    "    if dsid >= 801697 and dsid <= 801751: return \"BSM_qstar\"\n",
    "    if \"_FxFx\" in dsname: return \"CPsamples\"\n",
    "    if vb:\n",
    "        print(\"Could not find category for DSID %i with name %s\"%(dsid,dsname))\n",
    "    return \"unknown\""
   ]
  },
  {
   "cell_type": "code",
   "execution_count": null,
   "id": "db9cef96",
   "metadata": {},
   "outputs": [],
   "source": [
    "def count_tags(ds):\n",
    "    #print(ds)\n",
    "    ne = len(re.findall(\"\\W{1}e{1}\\d{3,4}\", ds))\n",
    "    ne += len(re.findall(\"_{1}e{1}\\d{3,4}\", ds))\n",
    "    ns = len(re.findall(\"_{1}s{1}\\d{3,4}\", ds))\n",
    "    na = len(re.findall(\"_{1}a{1}\\d{3,4}\", ds))\n",
    "    nr = len(re.findall(\"_{1}r{1}\\d{3,4}\", ds))\n",
    "    npt = len(re.findall(\"_{1}p{1}\\d{3,4}\", ds))\n",
    "    \n",
    "    return ne,ns,na,nr,npt"
   ]
  },
  {
   "cell_type": "code",
   "execution_count": null,
   "id": "29eacee3",
   "metadata": {},
   "outputs": [],
   "source": [
    "def loadxsec(dsids,xsec_dic,xsecfile=\"/cvmfs/atlas.cern.ch/repo/sw/database/GroupData/dev/PMGTools/PMGxsecDB_mc21.txt\"):\n",
    "    lines = [line.rstrip() for line in open(xsecfile)]\n",
    "    #xsec_dic = {}\n",
    "    i = 0\n",
    "    for l in lines:\n",
    "        if i == 0:\n",
    "            keys = l.split(\":\")\n",
    "            i += 1\n",
    "            continue\n",
    "        val = l.split()\n",
    "        dsid = val[0]\n",
    "        if not dsid in dsids:\n",
    "            continue\n",
    "        if not dsid in xsec_dic:\n",
    "            xsec_dic[dsid] = {}\n",
    "        for j in range(len(val)):\n",
    "            xsec_dic[dsid][keys[j].split(\"/\")[0]] = val[j]\n",
    "    #return xsec_dic"
   ]
  },
  {
   "cell_type": "code",
   "execution_count": null,
   "id": "823f5a76",
   "metadata": {},
   "outputs": [],
   "source": [
    "infiles = glob.glob(\"/storage/shared/data/PHYSLITEforML/*\")\n",
    "inputDS = {}\n",
    "multitag_dsid = []\n",
    "for infile in infiles:\n",
    "    #print(infile)\n",
    "    folder = infile.split(\"/\")[-1]\n",
    "    dsid = folder.split(\".\")[1]\n",
    "    ne,ns,na,nr,npt = count_tags(folder)\n",
    "    # Checking for 4-tag datasets (basically one tag for each step: \n",
    "    # event gen. (e), simulation (s/a), reconstruction (r) and derivation (p), \n",
    "    # removing all which do not satisfy conditions\n",
    "    if (ne+ns+na+nr+npt) != 4:\n",
    "        #print(\"Dataset %s is bad\" %folder)\n",
    "        multitag_dsid.append(dsid)\n",
    "        try:\n",
    "            print(\"remove %s\"%infile)\n",
    "            # uncomment if you want to clea up, \n",
    "            # note that this is already done :-)\n",
    "            #shutil.rmtree(infile)\n",
    "        except OSError as e:\n",
    "            print(\"Error: %s - %s.\" % (e.filename, e.strerror))\n",
    "        continue\n",
    "    if not dsid in inputDS.keys():\n",
    "        inputDS[dsid] = infile\n",
    "    else:\n",
    "        print(\"ERROR \\t DSID %s already added with %s. Trying to add with %s\"%(dsid,inputDS[dsid],infile))   \n",
    "    category = getCategory(int(dsid),inputDS[dsid].split(\"/\")[-1])    \n",
    "    if not dsid in xsec_dic.keys():\n",
    "        xsec_dic[dsid] = {}\n",
    "    xsec_dic[dsid][\"category\"] = category\n",
    "print(\"Added %i datasets\" %len(inputDS.keys()))"
   ]
  },
  {
   "cell_type": "code",
   "execution_count": null,
   "id": "aa2cf08b",
   "metadata": {},
   "outputs": [],
   "source": [
    "loadxsec(xsec_dic.keys(),xsec_dic)\n",
    "xsec_dic"
   ]
  },
  {
   "cell_type": "code",
   "execution_count": null,
   "id": "68ac661b",
   "metadata": {},
   "outputs": [],
   "source": [
    "from pathlib import Path\n",
    "import time\n",
    "timer_dic = []\n",
    "ROOT.EnableImplicitMT(5)\n",
    "idid = -1\n",
    "for did in inputDS.keys():\n",
    "    idid += 1\n",
    "    if not did in xsec_dic.keys():\n",
    "        print(\"ERROR \\t We don't have xsec for %s\"%inputDS[did].split(\"/\")[-1])\n",
    "        continue\n",
    "    root_directory = Path(inputDS[did])\n",
    "    rfiles = glob.glob(inputDS[did]+\"/*.pool.root.1\")\n",
    "    tot_size = sum(f.stat().st_size for f in root_directory.glob(\"*pool.root.1\") if f.is_file())/1.0e9\n",
    "    sow = 0\n",
    "    start = time.time()\n",
    "    df = ROOT.RDataFrame(\"MetaData\", inputDS[did]+\"/*.pool.root.1\")\n",
    "    df = df.Define(\"sow\",\"getSumOfWeights(CutBookkeepersAux.name,CutBookkeepersAux.sumOfEventWeights)\")#.Sum(\"CutBookkeepersAux.sumOfEventWeights\").GetValue()\n",
    "    nentries = df.Count().GetValue()\n",
    "    if nentries > len(rfiles):\n",
    "        print(\"ERROR \\t Ambigious number of entries is %i > %i\"%(nentries,len(rfiles)))\n",
    "    sow = df.Sum(\"sow\").GetValue()\n",
    "    #print(sow)\n",
    "    end = time.time()\n",
    "    \n",
    "    print(\"INFO \\t Got metadata for DSID %s : %i/%i with %i files. Spent %.0f seconds\"%(did,idid,len(inputDS.keys()),len(rfiles),end-start))\n",
    "    \n",
    "    timer_dic.append({\"tsize\":tot_size,\"nfiles\":len(rfiles),\"time\":(end-start)})\n",
    "    \n",
    "    xsec_dic[did][\"sumofweights\"] = sow\n",
    "    del df"
   ]
  },
  {
   "cell_type": "code",
   "execution_count": null,
   "id": "df4cfb2c",
   "metadata": {},
   "outputs": [],
   "source": [
    "with open(\"metadata_physlite.json\", \"w\") as outfile:\n",
    "    json.dump(xsec_dic, outfile)"
   ]
  },
  {
   "cell_type": "code",
   "execution_count": null,
   "id": "8d484a3f",
   "metadata": {
    "scrolled": true
   },
   "outputs": [],
   "source": [
    "pandas_df = pd.DataFrame.from_dict(xsec_dic,orient='index')\n",
    "# remove rows with NaN values in any of the columns\n",
    "pandas_df.drop(pandas_df[pandas_df.isna().any(axis=1)].index,inplace=True)\n",
    "pandas_df.to_csv('physlite_metadata.csv', index=False, header=True)"
   ]
  },
  {
   "cell_type": "code",
   "execution_count": null,
   "id": "0e94cd14",
   "metadata": {},
   "outputs": [],
   "source": [
    "with open(\"timer_5workers_DASK.json\", \"w\") as outfile:\n",
    "    json.dump(timer_dic, outfile)"
   ]
  },
  {
   "cell_type": "code",
   "execution_count": null,
   "id": "001c8360",
   "metadata": {},
   "outputs": [],
   "source": [
    "pandas_df['dataset_number'].isnull().values.any()\n",
    "#pandas_df[\"dataset_number\"]"
   ]
  }
 ],
 "metadata": {
  "kernelspec": {
   "display_name": "Python 3 (ipykernel)",
   "language": "python",
   "name": "python3"
  },
  "language_info": {
   "codemirror_mode": {
    "name": "ipython",
    "version": 3
   },
   "file_extension": ".py",
   "mimetype": "text/x-python",
   "name": "python",
   "nbconvert_exporter": "python",
   "pygments_lexer": "ipython3",
   "version": "3.9.6"
  }
 },
 "nbformat": 4,
 "nbformat_minor": 5
}
