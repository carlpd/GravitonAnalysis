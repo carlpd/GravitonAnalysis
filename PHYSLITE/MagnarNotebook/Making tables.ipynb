{
 "cells": [
  {
   "cell_type": "code",
   "execution_count": 3,
   "id": "1be877ec",
   "metadata": {},
   "outputs": [
    {
     "ename": "KeyError",
     "evalue": "'4E'",
     "output_type": "error",
     "traceback": [
      "\u001b[0;31m---------------------------------------------------------------------------\u001b[0m",
      "\u001b[0;31mKeyError\u001b[0m                                  Traceback (most recent call last)",
      "\u001b[0;32m/tmp/ipykernel_3810844/2132522799.py\u001b[0m in \u001b[0;36m<module>\u001b[0;34m\u001b[0m\n\u001b[1;32m     15\u001b[0m     \u001b[0;32mif\u001b[0m \u001b[0;34m'channel='\u001b[0m \u001b[0;32min\u001b[0m \u001b[0ml\u001b[0m\u001b[0;34m:\u001b[0m \u001b[0;31m#Such a line gives the inputs for a given channel\u001b[0m\u001b[0;34m\u001b[0m\u001b[0;34m\u001b[0m\u001b[0m\n\u001b[1;32m     16\u001b[0m         \u001b[0mcountexp\u001b[0m\u001b[0;34m[\u001b[0m\u001b[0;34m'combined'\u001b[0m\u001b[0;34m]\u001b[0m\u001b[0;34m.\u001b[0m\u001b[0maddChannel\u001b[0m\u001b[0;34m(\u001b[0m\u001b[0mname\u001b[0m \u001b[0;34m=\u001b[0m \u001b[0mchannel\u001b[0m\u001b[0;34m,\u001b[0m \u001b[0mbkg\u001b[0m \u001b[0;34m=\u001b[0m \u001b[0mbackground\u001b[0m\u001b[0;34m,\u001b[0m \u001b[0mbkgUnc\u001b[0m \u001b[0;34m=\u001b[0m \u001b[0mbackgroundUncertainty\u001b[0m\u001b[0;34m,\u001b[0m \u001b[0mNobs\u001b[0m \u001b[0;34m=\u001b[0m \u001b[0mNobs\u001b[0m\u001b[0;34m,\u001b[0m \u001b[0meff\u001b[0m \u001b[0;34m=\u001b[0m \u001b[0mefficiency\u001b[0m\u001b[0;34m,\u001b[0m \u001b[0meffUnc\u001b[0m \u001b[0;34m=\u001b[0m \u001b[0mefficiencyUncertainty\u001b[0m\u001b[0;34m)\u001b[0m\u001b[0;34m;\u001b[0m\u001b[0;34m\u001b[0m\u001b[0;34m\u001b[0m\u001b[0m\n\u001b[0;32m---> 17\u001b[0;31m         \u001b[0mcountexp\u001b[0m\u001b[0;34m[\u001b[0m\u001b[0mchannel\u001b[0m\u001b[0;34m]\u001b[0m\u001b[0;34m.\u001b[0m\u001b[0maddChannel\u001b[0m\u001b[0;34m(\u001b[0m\u001b[0mname\u001b[0m \u001b[0;34m=\u001b[0m \u001b[0mchannel\u001b[0m\u001b[0;34m,\u001b[0m \u001b[0mbkg\u001b[0m \u001b[0;34m=\u001b[0m \u001b[0mbackground\u001b[0m\u001b[0;34m,\u001b[0m \u001b[0mbkgUnc\u001b[0m \u001b[0;34m=\u001b[0m \u001b[0mbackgroundUncertainty\u001b[0m\u001b[0;34m,\u001b[0m \u001b[0mNobs\u001b[0m \u001b[0;34m=\u001b[0m \u001b[0mNobs\u001b[0m\u001b[0;34m,\u001b[0m \u001b[0meff\u001b[0m \u001b[0;34m=\u001b[0m \u001b[0mefficiency\u001b[0m\u001b[0;34m,\u001b[0m \u001b[0meffUnc\u001b[0m \u001b[0;34m=\u001b[0m \u001b[0mefficiencyUncertainty\u001b[0m\u001b[0;34m)\u001b[0m\u001b[0;34m;\u001b[0m\u001b[0;34m\u001b[0m\u001b[0;34m\u001b[0m\u001b[0m\n\u001b[0m",
      "\u001b[0;31mKeyError\u001b[0m: '4E'"
     ]
    }
   ],
   "source": [
    "import limitPlot;\n",
    "import pyStats;\n",
    "countexp = {};\n",
    "limitPlots = {'combined': limitPlot.limitPlot('Combined')};\n",
    "f = open('inputs.txt');\n",
    "for l in f.readlines():\n",
    "\n",
    "    exec(l); #Input file consists of valid Python statements such as mass=300 etc. \n",
    "\n",
    "    if 'mass=' in l: #Such a line defines a new point in the limit plot\n",
    "        for channel in limitPlots.keys():\n",
    "            countexp[channel] = pyStats.countingExperiment(name = 'mass = '+str(mass), intLum = intLum, intLumUnc = intLumUncertainty);\n",
    "            #limitPlots[channel].addPoint(mass, countexp[channel], theoryCrossSection);\n",
    "\n",
    "    if 'channel=' in l: #Such a line gives the inputs for a given channel     \n",
    "        countexp['combined'].addChannel(name = channel, bkg = background, bkgUnc = backgroundUncertainty, Nobs = Nobs, eff = efficiency, effUnc = efficiencyUncertainty);\n",
    "        countexp[channel].addChannel(name = channel, bkg = background, bkgUnc = backgroundUncertainty, Nobs = Nobs, eff = efficiency, effUnc = efficiencyUncertainty);"
   ]
  },
  {
   "cell_type": "code",
   "execution_count": 1,
   "id": "08b2bf49",
   "metadata": {},
   "outputs": [
    {
     "name": "stdout",
     "output_type": "stream",
     "text": [
      "Welcome to JupyROOT 6.30/04\n",
      "Will make the following limit plots:\n",
      "{'combined': Limit plot \"Combined\", '4E': Limit plot \"4E\", '4M': Limit plot \"4M\", 'EEMM': Limit plot \"EEMM\"}\n"
     ]
    }
   ],
   "source": [
    "import limitPlot;\n",
    "\n",
    "import pyStats\n",
    "from ROOT import TMath;\n",
    "limitPlots = {'combined': limitPlot.limitPlot('Combined')};\n",
    "\n",
    "#peek in the input file to check which channels are there\n",
    "inputFile = open('inputs.txt','r');\n",
    "lines = inputFile.readlines();\n",
    "for l in lines:\n",
    "\n",
    "    exec(l); #Input file consists of valid Python statements such as mass=300 etc.\n",
    "\n",
    "    if 'channel=' in l:\n",
    "        if not channel in limitPlots.keys():\n",
    "            limitPlots[channel] = limitPlot.limitPlot(channel);\n",
    "\n",
    "print( 'Will make the following limit plots:' );\n",
    "print(limitPlots);\n",
    "            \n",
    "countexp = {};\n",
    "xtitle='Mass';\n",
    "ytitle='Cross section';\n",
    "yrange=[-999.0,-999.0];\n",
    "\n",
    "#read the inputs and fill in the respective limit plots with background levels, observed counts, etc. \n",
    "f = open('inputs.txt');\n",
    "for l in f.readlines():\n",
    "\n",
    "    exec(l); #Input file consists of valid Python statements such as mass=300 etc. \n",
    "\n",
    "    if 'mass=' in l: #Such a line defines a new point in the limit plot\n",
    "        for channel in limitPlots.keys():\n",
    "            countexp[channel] = pyStats.countingExperiment(name = 'mass = '+str(mass), intLum = intLum, intLumUnc = intLumUncertainty);\n",
    "            limitPlots[channel].addPoint(mass, countexp[channel], theoryCrossSection);\n",
    "\n",
    "    if 'channel=' in l: #Such a line gives the inputs for a given channel     \n",
    "        countexp['combined'].addChannel(name = channel, bkg = background, bkgUnc = backgroundUncertainty, Nobs = Nobs, eff = efficiency, effUnc = efficiencyUncertainty);\n",
    "        countexp[channel].addChannel(name = channel, bkg = background, bkgUnc = backgroundUncertainty, Nobs = Nobs, eff = efficiency, effUnc = efficiencyUncertainty);"
   ]
  },
  {
   "cell_type": "code",
   "execution_count": 3,
   "id": "583fd0eb",
   "metadata": {},
   "outputs": [
    {
     "name": "stdout",
     "output_type": "stream",
     "text": [
      "{'combined': Counting experiment \"mass = 2000\", '4E': Counting experiment \"mass = 2000\", '4M': Counting experiment \"mass = 2000\", 'EEMM': Counting experiment \"mass = 2000\"}\n",
      "---------------------------\n",
      "Counting experiment \"mass = 2000\"\n",
      "---------------------------\n",
      "Int. luminosity = 29049.3 +/- 639.0845999999999\n",
      "---------------------------\n",
      "Channel \"4E\":\n",
      "   Background = 0.3377012322516323 +/- 0.05770600774022736\n",
      "   Observed events = 0\n",
      "   Signal efficiency = 0.32926800148510776 +/- 0.0053799474517765\n",
      "\n"
     ]
    }
   ],
   "source": [
    "print(countexp)\n",
    "print(countexp['4E'])"
   ]
  },
  {
   "cell_type": "code",
   "execution_count": 4,
   "id": "f21da4bc",
   "metadata": {},
   "outputs": [
    {
     "ename": "TypeError",
     "evalue": "'countingExperiment' object is not subscriptable",
     "output_type": "error",
     "traceback": [
      "\u001b[0;31m---------------------------------------------------------------------------\u001b[0m",
      "\u001b[0;31mTypeError\u001b[0m                                 Traceback (most recent call last)",
      "\u001b[0;32m/tmp/ipykernel_3812819/1797254825.py\u001b[0m in \u001b[0;36m<module>\u001b[0;34m\u001b[0m\n\u001b[0;32m----> 1\u001b[0;31m \u001b[0mprint\u001b[0m\u001b[0;34m(\u001b[0m\u001b[0mcountexp\u001b[0m\u001b[0;34m[\u001b[0m\u001b[0;34m'4E'\u001b[0m\u001b[0;34m]\u001b[0m\u001b[0;34m[\u001b[0m\u001b[0;34m'Background'\u001b[0m\u001b[0;34m]\u001b[0m\u001b[0;34m)\u001b[0m\u001b[0;34m\u001b[0m\u001b[0;34m\u001b[0m\u001b[0m\n\u001b[0m",
      "\u001b[0;31mTypeError\u001b[0m: 'countingExperiment' object is not subscriptable"
     ]
    }
   ],
   "source": [
    "print(countexp['4E']['Background'])"
   ]
  },
  {
   "cell_type": "code",
   "execution_count": 18,
   "id": "a07f96bc",
   "metadata": {},
   "outputs": [
    {
     "name": "stdout",
     "output_type": "stream",
     "text": [
      "['NmassPoints=12;  Nchannels=3;  intLum=29049.3;  intLumUncertainty=639.0845999999999;\\n', 'mass=300;  threshold=1;  theoryCrossSection=0.277538 ;\\n', 'channel=\"4E\";  efficiency=0.013195479891803702;  efficiencyUncertainty=0.0005338049577595238;  background=94.67682855682258;  backgroundUncertainty=1.4987309780072928;  Nobs=51 ;\\n', 'channel=\"4M\";  efficiency=1.874141067549459e-06;  efficiencyUncertainty=3.493794925645418e-08;  background=151.04233181172305;  backgroundUncertainty=2.017049204898475;  Nobs=157 ;\\n', 'channel=\"EEMM\";  efficiency=7.26617908468736e-11;  efficiencyUncertainty=1.2872128481279382e-12;  background=243.21921878371606;  backgroundUncertainty=2.4647364615744896;  Nobs=292 ;\\n', 'mass=400;  threshold=1;  theoryCrossSection=0.125793 ;\\n', 'channel=\"4E\";  efficiency=0.09100999419819399;  efficiencyUncertainty=0.0023623630555634732;  background=85.14352780207092;  backgroundUncertainty=1.465845455865661;  Nobs=28 ;\\n', 'channel=\"4M\";  efficiency=1.7972055229986048e-05;  efficiencyUncertainty=2.2792704280344436e-07;  background=322.639972541618;  backgroundUncertainty=2.9402276889203884;  Nobs=168 ;\\n', 'channel=\"EEMM\";  efficiency=6.95300572327595e-10;  efficiencyUncertainty=8.402322433102606e-12;  background=522.7413094857166;  backgroundUncertainty=3.60423723922874;  Nobs=318 ;\\n', 'mass=500;  threshold=1;  theoryCrossSection=0.030987 ;\\n', 'channel=\"4E\";  efficiency=0.060911555111969315;  efficiencyUncertainty=0.0012625442857090296;  background=24.48689473918958;  backgroundUncertainty=0.7069187496369347;  Nobs=3 ;\\n', 'channel=\"4M\";  efficiency=7.809392722415009e-06;  efficiencyUncertainty=1.263690551989196e-07;  background=35.55399575665004;  backgroundUncertainty=0.9208228990606528;  Nobs=13 ;\\n', 'channel=\"EEMM\";  efficiency=2.9966426258698904e-10;  efficiencyUncertainty=4.2703525185758295e-12;  background=62.014785371739585;  backgroundUncertainty=1.1762004290062893;  Nobs=30 ;\\n', 'mass=600;  threshold=1;  theoryCrossSection=0.00954 ;\\n', 'channel=\"4E\";  efficiency=0.027783783116448663;  efficiencyUncertainty=0.0008911587264815941;  background=10.337994592686776;  backgroundUncertainty=0.47918285167516184;  Nobs=0 ;\\n', 'channel=\"4M\";  efficiency=4.88111540522196e-06;  efficiencyUncertainty=1.5895314682211642e-07;  background=17.226399556675286;  backgroundUncertainty=0.617684810480337;  Nobs=5 ;\\n', 'channel=\"EEMM\";  efficiency=1.9187035521918933e-10;  efficiencyUncertainty=6.677647081684747e-12;  background=26.141404706812065;  backgroundUncertainty=0.7472263324486985;  Nobs=7 ;\\n', 'mass=700;  threshold=1;  theoryCrossSection=0.003919 ;\\n', 'channel=\"4E\";  efficiency=0.08557182296271694;  efficiencyUncertainty=0.0015003046257474608;  background=7.928075239425944;  backgroundUncertainty=0.6009592308605547;  Nobs=0 ;\\n', 'channel=\"4M\";  efficiency=9.376604538797809e-06;  efficiencyUncertainty=2.5423186617388746e-07;  background=10.071245576163196;  backgroundUncertainty=0.47111700486805974;  Nobs=2 ;\\n', 'channel=\"EEMM\";  efficiency=3.7706146025271736e-10;  efficiencyUncertainty=4.128925758655619e-12;  background=14.594167163920336;  backgroundUncertainty=0.5565873635135897;  Nobs=3 ;\\n', 'mass=1000;  threshold=1;  theoryCrossSection=0.000564 ;\\n', 'channel=\"4E\";  efficiency=0.12530980420212498;  efficiencyUncertainty=0.001950281289208448;  background=1.6351708334022856;  backgroundUncertainty=0.1412531893429369;  Nobs=0 ;\\n', 'channel=\"4M\";  efficiency=1.6883526359662176e-05;  efficiencyUncertainty=1.3444087942144803e-06;  background=3.461861611705931;  backgroundUncertainty=0.27556630334040044;  Nobs=0 ;\\n', 'channel=\"EEMM\";  efficiency=6.428967458826356e-10;  efficiencyUncertainty=2.0235023892820608e-11;  background=6.27994079939068;  backgroundUncertainty=0.39550633477717223;  Nobs=0 ;\\n', 'mass=1100;  threshold=1;  theoryCrossSection=0.000327 ;\\n', 'channel=\"4E\";  efficiency=0.15744759272127765;  efficiencyUncertainty=0.0025109786601756777;  background=0.7861991722754151;  backgroundUncertainty=0.11117457964960976;  Nobs=0 ;\\n', 'channel=\"4M\";  efficiency=2.046062922236554e-05;  efficiencyUncertainty=2.2228855254135978e-07;  background=2.7573256434504114;  backgroundUncertainty=0.2464374308692881;  Nobs=0 ;\\n', 'channel=\"EEMM\";  efficiency=8.539949656653731e-10;  efficiencyUncertainty=7.28966228209455e-12;  background=4.664541999900079;  backgroundUncertainty=0.31710925812283747;  Nobs=0 ;\\n', 'mass=1200;  threshold=1;  theoryCrossSection=0.000197 ;\\n', 'channel=\"4E\";  efficiency=0.16849154757897708;  efficiencyUncertainty=0.002277878334066625;  background=0.6986794154174896;  backgroundUncertainty=0.0816179514487785;  Nobs=0 ;\\n', 'channel=\"4M\";  efficiency=2.7643398660477215e-05;  efficiencyUncertainty=2.3253852856711405e-07;  background=1.729916305394904;  backgroundUncertainty=0.17145715016046242;  Nobs=0 ;\\n', 'channel=\"EEMM\";  efficiency=1.1310569587693487e-09;  efficiencyUncertainty=8.654070577266954e-12;  background=2.9733398164661913;  backgroundUncertainty=0.2070788206924418;  Nobs=0 ;\\n', 'mass=1500;  threshold=1;  theoryCrossSection=6.9e-05 ;\\n', 'channel=\"4E\";  efficiency=0.1751870441461817;  efficiencyUncertainty=0.0027254425981224533;  background=0.32950901736458205;  backgroundUncertainty=0.05253658300385266;  Nobs=0 ;\\n', 'channel=\"4M\";  efficiency=2.674467768755598e-05;  efficiencyUncertainty=2.3832854639975814e-07;  background=0.8539279639686935;  backgroundUncertainty=0.10349972714491715;  Nobs=0 ;\\n', 'channel=\"EEMM\";  efficiency=9.900164948638786e-10;  efficiencyUncertainty=1.0819220711829635e-11;  background=0.5572105869750337;  backgroundUncertainty=0.1550607310831022;  Nobs=0 ;\\n', 'mass=1700;  threshold=1;  theoryCrossSection=2.2e-05 ;\\n', 'channel=\"4E\";  efficiency=0.430685983970628;  efficiencyUncertainty=0.005890490091661485;  background=0.3743977220403736;  backgroundUncertainty=0.04924163290860045;  Nobs=0 ;\\n', 'channel=\"4M\";  efficiency=7.10272794392104e-05;  efficiencyUncertainty=5.194269572906544e-07;  background=1.285288549727651;  backgroundUncertainty=0.13017697650841079;  Nobs=0 ;\\n', 'channel=\"EEMM\";  efficiency=2.8906657197685374e-09;  efficiencyUncertainty=2.2990052957674972e-11;  background=0.9404516557488437;  backgroundUncertainty=0.10696225694770607;  Nobs=0 ;\\n', 'mass=1800;  threshold=1;  theoryCrossSection=1.5e-05 ;\\n', 'channel=\"4E\";  efficiency=0.4729986471631421;  efficiencyUncertainty=0.006387533325163755;  background=0.447393802998563;  backgroundUncertainty=0.06350170127464719;  Nobs=0 ;\\n', 'channel=\"4M\";  efficiency=8.17873025701298e-05;  efficiencyUncertainty=9.429093777791492e-07;  background=0.9314589919157663;  backgroundUncertainty=0.10792297627786913;  Nobs=0 ;\\n', 'channel=\"EEMM\";  efficiency=3.13820928764474e-09;  efficiencyUncertainty=2.819912958656068e-11;  background=1.223436934931094;  backgroundUncertainty=0.1473348289638638;  Nobs=0 ;\\n', 'mass=2000;  threshold=1;  theoryCrossSection=8e-06 ;\\n', 'channel=\"4E\";  efficiency=0.32926800148510776;  efficiencyUncertainty=0.0053799474517765;  background=0.3377012322516323;  backgroundUncertainty=0.05770600774022736;  Nobs=0 ;\\n', 'channel=\"4M\";  efficiency=0.0002459106946794112;  efficiencyUncertainty=7.721423696715428e-06;  background=1.4277139302232138;  backgroundUncertainty=0.1433145716460928;  Nobs=0 ;\\n', 'channel=\"EEMM\";  efficiency=8.353220433778542e-09;  efficiencyUncertainty=6.505177282783514e-11;  background=1.980383044515772;  backgroundUncertainty=0.16985489772228932;  Nobs=0 ;\\n', 'xtitle=\"G* mass[GeV]\"; ytitle=\"Cross section [fb]\"; yrange=[0.05, 5000.0]; \\n']\n",
      "mass=300\n",
      "300\n",
      "['channel=\"4E\"', '  efficiency=0.013195479891803702', '  efficiencyUncertainty=0.0005338049577595238', '  background=94.67682855682258', '  backgroundUncertainty=1.4987309780072928', '  Nobs=51 ', '\\n']\n"
     ]
    },
    {
     "ename": "KeyError",
     "evalue": "'\"4E\"'",
     "output_type": "error",
     "traceback": [
      "\u001b[0;31m---------------------------------------------------------------------------\u001b[0m",
      "\u001b[0;31mKeyError\u001b[0m                                  Traceback (most recent call last)",
      "\u001b[0;32m/tmp/ipykernel_3844149/896206949.py\u001b[0m in \u001b[0;36m<module>\u001b[0;34m\u001b[0m\n\u001b[1;32m     19\u001b[0m         \u001b[0;32mfor\u001b[0m \u001b[0ma\u001b[0m \u001b[0;32min\u001b[0m \u001b[0mll\u001b[0m\u001b[0;34m:\u001b[0m\u001b[0;34m\u001b[0m\u001b[0;34m\u001b[0m\u001b[0m\n\u001b[1;32m     20\u001b[0m             \u001b[0mP\u001b[0m\u001b[0;34m=\u001b[0m\u001b[0ma\u001b[0m\u001b[0;34m.\u001b[0m\u001b[0msplit\u001b[0m\u001b[0;34m(\u001b[0m\u001b[0;34m\"=\"\u001b[0m\u001b[0;34m)\u001b[0m\u001b[0;34m\u001b[0m\u001b[0;34m\u001b[0m\u001b[0m\n\u001b[0;32m---> 21\u001b[0;31m             \u001b[0mlll\u001b[0m\u001b[0;34m[\u001b[0m\u001b[0mP\u001b[0m\u001b[0;34m[\u001b[0m\u001b[0;36m0\u001b[0m\u001b[0;34m]\u001b[0m\u001b[0;34m]\u001b[0m\u001b[0;34m=\u001b[0m\u001b[0mlll\u001b[0m\u001b[0;34m[\u001b[0m\u001b[0mP\u001b[0m\u001b[0;34m[\u001b[0m\u001b[0;36m1\u001b[0m\u001b[0;34m]\u001b[0m\u001b[0;34m]\u001b[0m\u001b[0;34m\u001b[0m\u001b[0;34m\u001b[0m\u001b[0m\n\u001b[0m\u001b[1;32m     22\u001b[0m         \u001b[0mchannel\u001b[0m\u001b[0;34m=\u001b[0m\u001b[0mlll\u001b[0m\u001b[0;34m[\u001b[0m\u001b[0;36m0\u001b[0m\u001b[0;34m]\u001b[0m\u001b[0;34m[\u001b[0m\u001b[0;36m0\u001b[0m\u001b[0;34m]\u001b[0m\u001b[0;34m\u001b[0m\u001b[0;34m\u001b[0m\u001b[0m\n\u001b[1;32m     23\u001b[0m         \u001b[0mliste\u001b[0m\u001b[0;34m[\u001b[0m\u001b[0mmass\u001b[0m\u001b[0;34m]\u001b[0m\u001b[0;34m[\u001b[0m\u001b[0mchannel\u001b[0m\u001b[0;34m]\u001b[0m\u001b[0;34m=\u001b[0m\u001b[0;34m{\u001b[0m\u001b[0;34m\"efficiency\"\u001b[0m\u001b[0;34m:\u001b[0m \u001b[0mefficiency\u001b[0m\u001b[0;34m,\u001b[0m \u001b[0;34m\"efficiencyUncertainty\"\u001b[0m\u001b[0;34m:\u001b[0m \u001b[0mefficiencyUncertainty\u001b[0m\u001b[0;34m,\u001b[0m \u001b[0;34m\"background\"\u001b[0m\u001b[0;34m:\u001b[0m \u001b[0mbackground\u001b[0m\u001b[0;34m,\u001b[0m \u001b[0;34m\"backgroundUncertainty\"\u001b[0m\u001b[0;34m:\u001b[0m \u001b[0mbackgroundUncertainty\u001b[0m\u001b[0;34m,\u001b[0m \u001b[0;34m\"Nobs\"\u001b[0m\u001b[0;34m:\u001b[0m \u001b[0mNobs\u001b[0m\u001b[0;34m}\u001b[0m\u001b[0;34m\u001b[0m\u001b[0;34m\u001b[0m\u001b[0m\n",
      "\u001b[0;31mKeyError\u001b[0m: '\"4E\"'"
     ]
    }
   ],
   "source": [
    "inputFile = open('inputs.txt','r');\n",
    "lines = inputFile.readlines()\n",
    "print(lines)\n",
    "liste={}\n",
    "for l in lines:\n",
    "    #print(l)\n",
    "    \n",
    "    if \"mass=\" in l:\n",
    "        ll=l.split(\";\")\n",
    "        print(ll[0])\n",
    "        lll=ll[0].split(\"=\")\n",
    "        masse=lll[1]\n",
    "        print(masse)\n",
    "        liste[masse]={}\n",
    "    if \"channel=\" in l:\n",
    "        ll=l.split(\";\")\n",
    "        print(ll)\n",
    "        lll={}\n",
    "        for a in ll:\n",
    "            P=a.split(\"=\")\n",
    "            lll[P[0]]=lll[P[1]]\n",
    "        channel=lll[0][0]\n",
    "        liste[mass][channel]={\"efficiency\": efficiency, \"efficiencyUncertainty\": efficiencyUncertainty, \"background\": background, \"backgroundUncertainty\": backgroundUncertainty, \"Nobs\": Nobs}\n"
   ]
  },
  {
   "cell_type": "code",
   "execution_count": 31,
   "id": "1d8c65af",
   "metadata": {},
   "outputs": [
    {
     "name": "stdout",
     "output_type": "stream",
     "text": [
      "dict_keys([2000])\n"
     ]
    }
   ],
   "source": [
    "print(liste.keys())"
   ]
  },
  {
   "cell_type": "code",
   "execution_count": null,
   "id": "614af869",
   "metadata": {},
   "outputs": [],
   "source": []
  }
 ],
 "metadata": {
  "kernelspec": {
   "display_name": "Python 3 (ipykernel)",
   "language": "python",
   "name": "python3"
  },
  "language_info": {
   "codemirror_mode": {
    "name": "ipython",
    "version": 3
   },
   "file_extension": ".py",
   "mimetype": "text/x-python",
   "name": "python",
   "nbconvert_exporter": "python",
   "pygments_lexer": "ipython3",
   "version": "3.9.6"
  }
 },
 "nbformat": 4,
 "nbformat_minor": 5
}
