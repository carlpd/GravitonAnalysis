{
 "cells": [
  {
   "cell_type": "code",
   "execution_count": 1,
   "id": "3183d4a3",
   "metadata": {},
   "outputs": [
    {
     "name": "stdout",
     "output_type": "stream",
     "text": [
      "Welcome to JupyROOT 6.30/04\n"
     ]
    }
   ],
   "source": [
    "#from software.Scripts.Statistics import pyStats\n",
    "import pyStats\n",
    "from ROOT import TMath;\n",
    "#import ROOT\n",
    "#path=\"/software/Scripts/Statistics/\"\n",
    "#ROOT.gROOT.SetMacroPath(path)"
   ]
  },
  {
   "cell_type": "code",
   "execution_count": 2,
   "id": "9fe1e091",
   "metadata": {},
   "outputs": [
    {
     "name": "stdout",
     "output_type": "stream",
     "text": [
      "---------------------------\n",
      "Counting experiment \"myCountingExperiment\"\n",
      "---------------------------\n",
      "Int. luminosity = 1.0 +/- 0.0\n",
      "---------------------------\n",
      "Channel \"myChannel\":\n",
      "   Background = 6.86571261029315 +/- 2.222980093459385\n",
      "   Observed events = 14\n",
      "   Signal efficiency = 1.0 +/- 0.0\n",
      "\n",
      "Significance 1.6843585799464962\n"
     ]
    }
   ],
   "source": [
    "countexp = pyStats.countingExperiment();\n",
    "countexp.addChannel('myChannel', bkg = 6.86571261029315, bkgUnc = 2.222980093459385, Nobs = 14);\n",
    "print(countexp);\n",
    "print(\"Significance\",countexp.getSignificance());"
   ]
  },
  {
   "cell_type": "code",
   "execution_count": 3,
   "id": "92cfd63b",
   "metadata": {},
   "outputs": [
    {
     "name": "stdout",
     "output_type": "stream",
     "text": [
      "Will make the following limit plots:\n",
      "{'combined': Limit plot \"Combined\", '4E': Limit plot \"4E\", '4M': Limit plot \"4M\", 'EEMM': Limit plot \"EEMM\"}\n"
     ]
    }
   ],
   "source": [
    "import limitPlot;\n",
    "\n",
    "limitPlots = {'combined': limitPlot.limitPlot('Combined')};\n",
    "\n",
    "#peek in the input file to check which channels are there\n",
    "inputFile = open('inputsHiggs.txt','r');\n",
    "lines = inputFile.readlines();\n",
    "for l in lines:\n",
    "\n",
    "    exec(l); #Input file consists of valid Python statements such as mass=300 etc.\n",
    "\n",
    "    if 'channel=' in l:\n",
    "        if not channel in limitPlots.keys():\n",
    "            limitPlots[channel] = limitPlot.limitPlot(channel);\n",
    "\n",
    "print( 'Will make the following limit plots:' );\n",
    "print(limitPlots);\n",
    "            \n",
    "countexp = {};\n",
    "xtitle='Mass';\n",
    "ytitle='Cross section';\n",
    "yrange=[-999.0,-999.0];\n",
    "\n",
    "#read the inputs and fill in the respective limit plots with background levels, observed counts, etc. \n",
    "f = open('inputsHiggs.txt');\n",
    "for l in f.readlines():\n",
    "\n",
    "    exec(l); #Input file consists of valid Python statements such as mass=300 etc. \n",
    "\n",
    "    if 'mass=' in l: #Such a line defines a new point in the limit plot\n",
    "        for channel in limitPlots.keys():\n",
    "            countexp[channel] = pyStats.countingExperiment(name = 'mass = '+str(mass), intLum = intLum, intLumUnc = intLumUncertainty);\n",
    "            limitPlots[channel].addPoint(mass, countexp[channel], theoryCrossSection);\n",
    "\n",
    "    if 'channel=' in l: #Such a line gives the inputs for a given channel     \n",
    "        countexp['combined'].addChannel(name = channel, bkg = background, bkgUnc = backgroundUncertainty, Nobs = Nobs, eff = efficiency, effUnc = efficiencyUncertainty);\n",
    "        countexp[channel].addChannel(name = channel, bkg = background, bkgUnc = backgroundUncertainty, Nobs = Nobs, eff = efficiency, effUnc = efficiencyUncertainty);"
   ]
  },
  {
   "cell_type": "code",
   "execution_count": 4,
   "id": "2de2bb86",
   "metadata": {},
   "outputs": [
    {
     "name": "stdout",
     "output_type": "stream",
     "text": [
      "dict_keys(['combined', '4E', '4M', 'EEMM'])\n"
     ]
    }
   ],
   "source": [
    "print(limitPlots.keys())"
   ]
  },
  {
   "cell_type": "code",
   "execution_count": 5,
   "id": "1c656a5f",
   "metadata": {},
   "outputs": [
    {
     "name": "stdout",
     "output_type": "stream",
     "text": [
      "==========================\n",
      "==========================\n",
      "Limit plot \"Combined\"\n",
      "==========================\n",
      "==========================\n",
      "\n",
      "The plot consists of the following points:\n",
      "\n",
      "=============================================\n",
      "x-axis value: 125\n",
      "theory prediction: 74.276\n",
      "---------------------------\n",
      "Counting experiment \"mass = 125\"\n",
      "---------------------------\n",
      "Int. luminosity = 29049.3 +/- 639.0845999999999\n",
      "---------------------------\n",
      "Channel \"4E\":\n",
      "   Background = 22.27604651170145 +/- 3.532474719858844\n",
      "   Observed events = 18\n",
      "   Signal efficiency = 0.03597546810172375 +/- 9.121782819697899e-05\n",
      "Channel \"4M\":\n",
      "   Background = 17.443037533500448 +/- 0.710918862664258\n",
      "   Observed events = 34\n",
      "   Signal efficiency = 0.07468642915191577 +/- 0.00013199936443515907\n",
      "Channel \"EEMM\":\n",
      "   Background = 21.726491701588753 +/- 1.1139605713337377\n",
      "   Observed events = 49\n",
      "   Signal efficiency = 0.10354357442950801 +/- 0.00015994832002381144\n",
      "\n"
     ]
    }
   ],
   "source": [
    "print(limitPlots['combined']);"
   ]
  },
  {
   "cell_type": "code",
   "execution_count": 6,
   "id": "1fedbafc",
   "metadata": {},
   "outputs": [
    {
     "name": "stdout",
     "output_type": "stream",
     "text": [
      "INFO: Adjusting step length and retrying limit calculation\n"
     ]
    }
   ],
   "source": [
    "#limitPlots['combined'].calculate();\n",
    "limitPlots['4M'].calculate();"
   ]
  },
  {
   "cell_type": "code",
   "execution_count": 7,
   "id": "a18d5c7d",
   "metadata": {},
   "outputs": [
    {
     "name": "stdout",
     "output_type": "stream",
     "text": [
      "==========================\n",
      "==========================\n",
      "Limit plot \"4M\"\n",
      "==========================\n",
      "==========================\n",
      "\n",
      "The plot consists of the following points:\n",
      "\n",
      "=============================================\n",
      "x-axis value: 125\n",
      "theory prediction: 74.276\n",
      "---------------------------\n",
      "Counting experiment \"mass = 125\"\n",
      "---------------------------\n",
      "Int. luminosity = 29049.3 +/- 639.0845999999999\n",
      "---------------------------\n",
      "Channel \"4M\":\n",
      "   Background = 17.443037533500448 +/- 0.710918862664258\n",
      "   Observed events = 34\n",
      "   Signal efficiency = 0.07468642915191577 +/- 0.00013199936443515907\n",
      "---------------------------\n",
      "Limit setting results:\n",
      "Observed limit: 0.012912363175265984\n",
      "Expected limit and bands:\n",
      "  -2sigma                 -1sigma                 median                +1sigma                +2sigma\n",
      "0.002634122087754228    0.00330556497286805    0.004545151837693568    0.006688604124787692    0.009219427307139838    \n",
      "\n"
     ]
    }
   ],
   "source": [
    "#print(limitPlots['combined']);\n",
    "print(limitPlots['4M']);"
   ]
  },
  {
   "cell_type": "code",
   "execution_count": 8,
   "id": "281c95f7",
   "metadata": {},
   "outputs": [
    {
     "name": "stdout",
     "output_type": "stream",
     "text": [
      "7.316e-06\n"
     ]
    }
   ],
   "source": [
    "print(0.000124*0.059)"
   ]
  },
  {
   "cell_type": "code",
   "execution_count": 9,
   "id": "f03a21bc",
   "metadata": {},
   "outputs": [
    {
     "name": "stderr",
     "output_type": "stream",
     "text": [
      "Info in <TCanvas::Print>: png file limitplot.png has been created\n"
     ]
    },
    {
     "data": {
      "image/png": "[encoded data removed]",
      "text/plain": [
       "<IPython.core.display.Image object>"
      ]
     },
     "metadata": {},
     "output_type": "display_data"
    }
   ],
   "source": [
    "#%jsroot on\n",
    "limitPlots['combined'].drawPlot(xtitle=\"H* mass [GeV]\", ytitle=\"Cross section [fb]\", yrange=[5.0e-7,5.0e3]);\n",
    "#limitPlots['combined'].drawPlot(xtitle=\"G* mass [GeV]\", ytitle=\"Cross section [fb]\", yrange=[1,11]);"
   ]
  },
  {
   "cell_type": "code",
   "execution_count": 10,
   "id": "59aa98ff",
   "metadata": {},
   "outputs": [],
   "source": [
    "f = open('inputsHiggs.txt');\n",
    "inpdic={}\n",
    "firstline={}\n",
    "for l in f.readlines():\n",
    "    exec(l); #Input file consists of valid Python statements such as mass=300 etc.\n",
    "    if \"NmassPoints=\" in l:\n",
    "        firstline[\"NmassPoints\"]=NmassPoints\n",
    "        firstline[\"Nchannels\"]=Nchannels\n",
    "        firstline[\"intLum\"]=intLum\n",
    "        firstline[\"intLumUncertainty\"]=intLumUncertainty\n",
    "    if \"mass=\" in l:\n",
    "        inpdic[mass]={}\n",
    "    if \"channel=\" in l:\n",
    "        inpdic[mass][channel]={}\n",
    "        inpdic[mass][channel][\"efficiency\"]=efficiency\n",
    "        inpdic[mass][channel][\"efficiencyUncertainty\"]=efficiencyUncertainty\n",
    "        inpdic[mass][channel][\"background\"]=background\n",
    "        inpdic[mass][channel][\"backgroundUncertainty\"]=backgroundUncertainty\n",
    "        inpdic[mass][channel][\"Nobs\"]=Nobs\n",
    "        "
   ]
  },
  {
   "cell_type": "code",
   "execution_count": 22,
   "id": "3c664993",
   "metadata": {},
   "outputs": [
    {
     "name": "stdout",
     "output_type": "stream",
     "text": [
      "---------------------------\n",
      "Counting experiment \"125\"\n",
      "---------------------------\n",
      "Int. luminosity = 29049.3 +/- 639.0845999999999\n",
      "---------------------------\n",
      "Channel \"4E\":\n",
      "   Background = 22.27604651170145 +/- 3.532474719858844\n",
      "   Observed events = 18\n",
      "   Signal efficiency = 0.03597546810172375 +/- 9.121782819697899e-05\n",
      "Channel \"4M\":\n",
      "   Background = 17.443037533500448 +/- 0.710918862664258\n",
      "   Observed events = 34\n",
      "   Signal efficiency = 0.07468642915191577 +/- 0.00013199936443515907\n",
      "Channel \"EEMM\":\n",
      "   Background = 21.726491701588753 +/- 1.1139605713337377\n",
      "   Observed events = 49\n",
      "   Signal efficiency = 0.10354357442950801 +/- 0.00015994832002381144\n",
      "\n",
      "Significance =  5.497553925599667\n",
      "p-value =  1.9254778575904e-08\n"
     ]
    }
   ],
   "source": [
    "mass=125\n",
    "countexp = pyStats.countingExperiment(str(mass), intLum=firstline[\"intLum\"], intLumUnc=firstline[\"intLumUncertainty\"]);\n",
    "for channel in inpdic[mass].keys():\n",
    "    countexp.addChannel(channel, bkg = inpdic[mass][channel][\"background\"], bkgUnc= inpdic[mass][channel][\"backgroundUncertainty\"], Nobs = inpdic[mass][channel][\"Nobs\"], eff=inpdic[mass][channel][\"efficiency\"], effUnc=inpdic[mass][channel][\"efficiencyUncertainty\"]);\n",
    "print(countexp);\n",
    "print( \"Significance = \",countexp.getSignificance() );\n",
    "print(\"p-value = \", norm.sf(countexp.getSignificance()));"
   ]
  },
  {
   "cell_type": "code",
   "execution_count": 20,
   "id": "bdc26fa9",
   "metadata": {},
   "outputs": [
    {
     "ename": "KeyError",
     "evalue": "'combined'",
     "output_type": "error",
     "traceback": [
      "\u001b[0;31m---------------------------------------------------------------------------\u001b[0m",
      "\u001b[0;31mKeyError\u001b[0m                                  Traceback (most recent call last)",
      "\u001b[0;32m/tmp/ipykernel_267422/228097225.py\u001b[0m in \u001b[0;36m<module>\u001b[0;34m\u001b[0m\n\u001b[1;32m      4\u001b[0m \u001b[0;31m#for channel in inpdic[mass].keys():\u001b[0m\u001b[0;34m\u001b[0m\u001b[0;34m\u001b[0m\u001b[0;34m\u001b[0m\u001b[0m\n\u001b[1;32m      5\u001b[0m \u001b[0mchannel\u001b[0m\u001b[0;34m=\u001b[0m\u001b[0;34m\"combined\"\u001b[0m\u001b[0;34m\u001b[0m\u001b[0;34m\u001b[0m\u001b[0m\n\u001b[0;32m----> 6\u001b[0;31m \u001b[0mcountexp\u001b[0m\u001b[0;34m.\u001b[0m\u001b[0maddChannel\u001b[0m\u001b[0;34m(\u001b[0m\u001b[0mchannel\u001b[0m\u001b[0;34m,\u001b[0m \u001b[0mbkg\u001b[0m \u001b[0;34m=\u001b[0m \u001b[0minpdic\u001b[0m\u001b[0;34m[\u001b[0m\u001b[0mmass\u001b[0m\u001b[0;34m]\u001b[0m\u001b[0;34m[\u001b[0m\u001b[0mchannel\u001b[0m\u001b[0;34m]\u001b[0m\u001b[0;34m[\u001b[0m\u001b[0;34m\"background\"\u001b[0m\u001b[0;34m]\u001b[0m\u001b[0;34m,\u001b[0m \u001b[0mbkgUnc\u001b[0m\u001b[0;34m=\u001b[0m \u001b[0minpdic\u001b[0m\u001b[0;34m[\u001b[0m\u001b[0mmass\u001b[0m\u001b[0;34m]\u001b[0m\u001b[0;34m[\u001b[0m\u001b[0mchannel\u001b[0m\u001b[0;34m]\u001b[0m\u001b[0;34m[\u001b[0m\u001b[0;34m\"backgroundUncertainty\"\u001b[0m\u001b[0;34m]\u001b[0m\u001b[0;34m,\u001b[0m \u001b[0mNobs\u001b[0m \u001b[0;34m=\u001b[0m \u001b[0minpdic\u001b[0m\u001b[0;34m[\u001b[0m\u001b[0mmass\u001b[0m\u001b[0;34m]\u001b[0m\u001b[0;34m[\u001b[0m\u001b[0mchannel\u001b[0m\u001b[0;34m]\u001b[0m\u001b[0;34m[\u001b[0m\u001b[0;34m\"Nobs\"\u001b[0m\u001b[0;34m]\u001b[0m\u001b[0;34m,\u001b[0m \u001b[0meff\u001b[0m\u001b[0;34m=\u001b[0m\u001b[0minpdic\u001b[0m\u001b[0;34m[\u001b[0m\u001b[0mmass\u001b[0m\u001b[0;34m]\u001b[0m\u001b[0;34m[\u001b[0m\u001b[0mchannel\u001b[0m\u001b[0;34m]\u001b[0m\u001b[0;34m[\u001b[0m\u001b[0;34m\"efficiency\"\u001b[0m\u001b[0;34m]\u001b[0m\u001b[0;34m,\u001b[0m \u001b[0meffUnc\u001b[0m\u001b[0;34m=\u001b[0m\u001b[0minpdic\u001b[0m\u001b[0;34m[\u001b[0m\u001b[0mmass\u001b[0m\u001b[0;34m]\u001b[0m\u001b[0;34m[\u001b[0m\u001b[0mchannel\u001b[0m\u001b[0;34m]\u001b[0m\u001b[0;34m[\u001b[0m\u001b[0;34m\"efficiencyUncertainty\"\u001b[0m\u001b[0;34m]\u001b[0m\u001b[0;34m)\u001b[0m\u001b[0;34m;\u001b[0m\u001b[0;34m\u001b[0m\u001b[0;34m\u001b[0m\u001b[0m\n\u001b[0m\u001b[1;32m      7\u001b[0m \u001b[0mprint\u001b[0m\u001b[0;34m(\u001b[0m\u001b[0mcountexp\u001b[0m\u001b[0;34m)\u001b[0m\u001b[0;34m;\u001b[0m\u001b[0;34m\u001b[0m\u001b[0;34m\u001b[0m\u001b[0m\n\u001b[1;32m      8\u001b[0m \u001b[0msig\u001b[0m\u001b[0;34m=\u001b[0m\u001b[0mcountexp\u001b[0m\u001b[0;34m.\u001b[0m\u001b[0mgetSignificance\u001b[0m\u001b[0;34m(\u001b[0m\u001b[0;34m)\u001b[0m\u001b[0;34m\u001b[0m\u001b[0;34m\u001b[0m\u001b[0m\n",
      "\u001b[0;31mKeyError\u001b[0m: 'combined'"
     ]
    }
   ],
   "source": [
    "from scipy.stats import norm\n",
    "mass=125\n",
    "countexp = pyStats.countingExperiment(str(mass), intLum=firstline[\"intLum\"], intLumUnc=firstline[\"intLumUncertainty\"]);\n",
    "#for channel in inpdic[mass].keys():\n",
    "channel=\"combined\"\n",
    "countexp.addChannel(channel, bkg = inpdic[mass][channel][\"background\"], bkgUnc= inpdic[mass][channel][\"backgroundUncertainty\"], Nobs = inpdic[mass][channel][\"Nobs\"], eff=inpdic[mass][channel][\"efficiency\"], effUnc=inpdic[mass][channel][\"efficiencyUncertainty\"]);\n",
    "print(countexp);\n",
    "sig=countexp.getSignificance()\n",
    "print( \"Significance = \",countexp.getSignificance() );\n",
    "tail=norm.sf(sig)\n",
    "print(\"p-value\", tail)\n",
    "#print( \"p-value = \", TMath.Abs(TMath.NormQuantile(pValue)) ); #convert p-value to significance\n"
   ]
  },
  {
   "cell_type": "code",
   "execution_count": 21,
   "id": "a9e5bbf5",
   "metadata": {},
   "outputs": [
    {
     "name": "stdout",
     "output_type": "stream",
     "text": [
      "4E\n",
      "Background =   22.27604651170145\n",
      "Data =  18\n",
      "pValue =  0.8448996566241816\n",
      "Significance =  1.0148010214449072\n",
      "4M\n",
      "Background =   17.443037533500448\n",
      "Data =  34\n",
      "pValue =  0.0002876758656822277\n",
      "Significance =  3.4429753603072575\n",
      "EEMM\n",
      "Background =   21.726491701588753\n",
      "Data =  49\n",
      "pValue =  3.4327028696381206e-07\n",
      "Significance =  4.9651328503512975\n",
      "combined\n",
      "pValue =  2.341839593416504e-06\n",
      "Significance =  4.578479561417604\n"
     ]
    }
   ],
   "source": [
    "import numpy as np\n",
    "mass=125\n",
    "combibackg=0\n",
    "combidat=0\n",
    "for channel in inpdic[mass].keys():\n",
    "    print(channel)\n",
    "    backg=inpdic[mass][channel][\"background\"]\n",
    "    combibackg+=backg\n",
    "    dat=inpdic[mass][channel][\"Nobs\"]\n",
    "    combidat+=dat\n",
    "    \n",
    "    print(\"Background =  \", backg)\n",
    "    print(\"Data = \", dat)\n",
    "    pValue=0\n",
    "    #i=np.linspace(dat,dat+80,1000)\n",
    "\n",
    "    for n in range(dat,dat+100):\n",
    "        pValue += TMath.Poisson(n,backg)\n",
    "    print(\"pValue = \", pValue)\n",
    "    print( \"Significance = \", TMath.Abs(TMath.NormQuantile(pValue)) ); #convert p-value to significance\n",
    "\n",
    "pValue=0\n",
    "#i=np.linspace(dat,dat+80,1000)\n",
    "print(\"combined\")\n",
    "for n in range(combidat,combidat+100):\n",
    "    pValue += TMath.Poisson(n,combibackg)\n",
    "print(\"pValue = \", pValue)\n",
    "print( \"Significance = \", TMath.Abs(TMath.NormQuantile(pValue)) ); #convert p-value to significance\n"
   ]
  },
  {
   "cell_type": "code",
   "execution_count": null,
   "id": "c50de65a",
   "metadata": {},
   "outputs": [],
   "source": []
  },
  {
   "cell_type": "code",
   "execution_count": null,
   "id": "272eb607",
   "metadata": {},
   "outputs": [],
   "source": []
  }
 ],
 "metadata": {
  "kernelspec": {
   "display_name": "Python 3 (ipykernel)",
   "language": "python",
   "name": "python3"
  },
  "language_info": {
   "codemirror_mode": {
    "name": "ipython",
    "version": 3
   },
   "file_extension": ".py",
   "mimetype": "text/x-python",
   "name": "python",
   "nbconvert_exporter": "python",
   "pygments_lexer": "ipython3",
   "version": "3.9.6"
  }
 },
 "nbformat": 4,
 "nbformat_minor": 5
}
