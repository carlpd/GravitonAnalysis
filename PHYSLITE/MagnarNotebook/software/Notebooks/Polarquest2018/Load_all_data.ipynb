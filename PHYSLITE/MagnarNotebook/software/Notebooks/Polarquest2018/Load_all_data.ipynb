{
 "cells": [
  {
   "cell_type": "code",
   "execution_count": null,
   "metadata": {},
   "outputs": [],
   "source": [
    "import pandas as pd\n",
    "import glob\n",
    "import numpy as np\n",
    "\n",
    "path = r'/storage/shared/data/fys5555/Polarquest2018/POLA-01/'\n",
    "allFiles_trending = glob.glob(path + \"*Trending.csv\")\n",
    "allFiles_header = glob.glob(path + \"*Header.csv\")\n",
    "allFiles_weather = glob.glob(path + \"*Weather.csv\")\n",
    "trending_data = pd.DataFrame()\n",
    "header_data = pd.DataFrame()\n",
    "weather_data = pd.DataFrame()\n",
    "list_ = []\n",
    "\n",
    "for trending_file in allFiles_trending:\n",
    "    df1 = pd.read_csv(trending_file)\n",
    "    trending_data = pd.concat((df1, trending_data))\n",
    "    \n",
    "for header_file in allFiles_header:\n",
    "    df2 = pd.read_csv(header_file)\n",
    "    header_data = pd.concat((df2, header_data))\n",
    "    \n",
    "for weather_file in allFiles_weather:\n",
    "    df3 = pd.read_csv(weather_file)\n",
    "    weather_data = pd.concat((df3, weather_data))"
   ]
  },
  {
   "cell_type": "code",
   "execution_count": null,
   "metadata": {},
   "outputs": [],
   "source": [
    "trending_new=trending_data#.drop(columns=['<!DOCTYPE HTML PUBLIC \"-//IETF//DTD HTML 2.0//EN\">'])\n",
    "header_new=header_data#.drop(columns=['<!DOCTYPE HTML PUBLIC \"-//IETF//DTD HTML 2.0//EN\">'])\n",
    "weather_new=weather_data#.drop(columns=['<!DOCTYPE HTML PUBLIC \"-//IETF//DTD HTML 2.0//EN\">'])"
   ]
  },
  {
   "cell_type": "code",
   "execution_count": null,
   "metadata": {},
   "outputs": [],
   "source": [
    "trending_new = trending_new[~trending_new.isin([np.nan, np.inf, -np.inf]).any(1)]\n",
    "header_new  = header_new[~header_new.isin([np.nan, np.inf, -np.inf]).any(1)]\n",
    "weather_new  = weather_new[~weather_new.isin([np.nan, np.inf, -np.inf]).any(1)]"
   ]
  },
  {
   "cell_type": "code",
   "execution_count": null,
   "metadata": {},
   "outputs": [],
   "source": [
    "trending_new.head()"
   ]
  },
  {
   "cell_type": "code",
   "execution_count": null,
   "metadata": {},
   "outputs": [],
   "source": [
    "import matplotlib.pyplot as plt"
   ]
  },
  {
   "cell_type": "code",
   "execution_count": null,
   "metadata": {},
   "outputs": [],
   "source": [
    "plt.hist(header_new[\"NumTrackEvents\"],bins=30)\n",
    "plt.ylabel('frequency')\n",
    "plt.xlabel('number of track events')\n",
    "plt.show"
   ]
  },
  {
   "cell_type": "code",
   "execution_count": null,
   "metadata": {},
   "outputs": [],
   "source": [
    "plt.plot(weather_new[\"OutdoorTemperature\"], weather_new[\"IndoorTemperature\"], 'bo')\n",
    "plt.xlabel('outdoor temperature')\n",
    "plt.ylabel('indoor temperature')"
   ]
  },
  {
   "cell_type": "code",
   "execution_count": null,
   "metadata": {},
   "outputs": [],
   "source": [
    "plt.plot(trending_new[\"RateTrackEventsTheta0_10\"], trending_new[\"RateHitEvents\"], 'bo')\n",
    "plt.xlabel('RateTrackEvents for $theta \\in [0,10]$')\n",
    "plt.ylabel('RateHitEvents')"
   ]
  },
  {
   "cell_type": "code",
   "execution_count": null,
   "metadata": {},
   "outputs": [],
   "source": [
    "from sklearn import linear_model\n",
    "#from sklearn.model_selection import train_test_split\n",
    "\n",
    "linreg = linear_model.LinearRegression()\n",
    "linreg.fit(trending_new[[\"RateTrackEventsTheta0_10\"]],trending_new[[\"RateHitEvents\"]])\n",
    "xnew = np.array([[15],[200]])\n",
    "Y_pred = linreg.predict(xnew)\n",
    "plt.plot(xnew,Y_pred, \"r-\")\n",
    "plt.plot(trending_new[[\"RateTrackEventsTheta0_10\"]], trending_new[\"RateHitEvents\"],'bo')\n",
    "#plt.axis([0,1.0,0, 5.0])\n",
    "plt.xlabel(r'RateTrackEventsTheta0_10')\n",
    "plt.ylabel(r'RateHitEvents')\n",
    "plt.title(r'Simple Linear Regression')\n",
    "plt.show()\n",
    "from sklearn.metrics import mean_squared_error, r2_score, mean_squared_log_error, mean_absolute_error\n",
    "\n",
    "print('The intercept alpha: \\n', linreg.intercept_)\n",
    "print('Coefficient beta (gradient) : \\n', linreg.coef_)"
   ]
  },
  {
   "cell_type": "code",
   "execution_count": null,
   "metadata": {},
   "outputs": [],
   "source": []
  }
 ],
 "metadata": {
  "kernelspec": {
   "display_name": "Python 3 (ipykernel)",
   "language": "python",
   "name": "python3"
  },
  "language_info": {
   "codemirror_mode": {
    "name": "ipython",
    "version": 3
   },
   "file_extension": ".py",
   "mimetype": "text/x-python",
   "name": "python",
   "nbconvert_exporter": "python",
   "pygments_lexer": "ipython3",
   "version": "3.7.4"
  }
 },
 "nbformat": 4,
 "nbformat_minor": 4
}
