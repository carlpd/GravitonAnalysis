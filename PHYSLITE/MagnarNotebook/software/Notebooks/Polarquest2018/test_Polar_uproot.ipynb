{
 "cells": [
  {
   "cell_type": "code",
   "execution_count": null,
   "metadata": {},
   "outputs": [],
   "source": [
    "import uproot\n",
    "import pandas as pd\n",
    "import matplotlib.pyplot as plt"
   ]
  },
  {
   "cell_type": "code",
   "execution_count": null,
   "metadata": {},
   "outputs": [],
   "source": [
    "directory = \"/storage/shared/data/fys5555/Polarquest2018/POLA-02\""
   ]
  },
  {
   "cell_type": "code",
   "execution_count": null,
   "metadata": {},
   "outputs": [],
   "source": [
    "load_trending = uproot.open(directory+\"/all_data.root\").get(\"Trending\")\n",
    "load_header = uproot.open(directory+\"/all_data.root\").get(\"Header\")\n",
    "load_weather = uproot.open(directory+\"/all_data.root\").get(\"Weather\")"
   ]
  },
  {
   "cell_type": "code",
   "execution_count": null,
   "metadata": {},
   "outputs": [],
   "source": [
    "load_trending"
   ]
  },
  {
   "cell_type": "code",
   "execution_count": null,
   "metadata": {},
   "outputs": [],
   "source": [
    "trending_branches = [\"BinStart\", \"BinEnd\", \"RateHitEvents\", \"RateHitEventsErr\", \"RateTrackEvents\", \"RateTrackEventsErr\", \"RateTrackEventsTheta0_10\",\"RateTrackEventsTheta10_20\", \"RateTrackEventsTheta20_30\", \"RateTrackEventsTheta30_40\",\"RateTrackEventsTheta60_90\",\"FractionTrackEvents\",\"FractionTrackEventsErr\",\"IndoorTemperature\",\"OutdoorTemperature\", \"Pressure\",\"AvTOTBot\",\"AvTOTMid\",\"AvTOTTop\",\"UniqueRunId\"]\n",
    "header_branches = [\"RunNumber\",\"RunStart\",\"RunStop\",\"RunDuration\",\"NumEvents\",\"NumHitEvents\",\"NumTrackEvents\",\"NumNoHitEvents\",\"NumNoHitsEvents\",\"NumMalformedEvents\",\"Zbottom\",\"Zmiddle\",\"latitude\",\"longitude\",\"altitude\",\"nSatellites\",\"UniqueRunId\",\"DeadChMaskBot\",\"DeadChMaskMid\",\"rtcFake\"]\n",
    "weather_branches = [\"Seconds\",\"IndoorTemperature\",\"OutdoorTemperature\",\"Pressure\",\"UniqueRunId\"]"
   ]
  },
  {
   "cell_type": "code",
   "execution_count": null,
   "metadata": {},
   "outputs": [],
   "source": [
    "trending_data = load_trending.arrays(filter_name=trending_branches,library=\"pd\")\n",
    "header_data = load_header.arrays(filter_name=header_branches,library=\"pd\")\n",
    "weather_data = load_weather.arrays(filter_name=weather_branches,library=\"pd\")"
   ]
  },
  {
   "cell_type": "code",
   "execution_count": null,
   "metadata": {},
   "outputs": [],
   "source": [
    "trending_data.head()"
   ]
  },
  {
   "cell_type": "code",
   "execution_count": null,
   "metadata": {},
   "outputs": [],
   "source": [
    "plt.hist(trending_data[\"RateHitEvents\"],bins=100)\n",
    "plt.show"
   ]
  },
  {
   "cell_type": "code",
   "execution_count": null,
   "metadata": {},
   "outputs": [],
   "source": []
  },
  {
   "cell_type": "code",
   "execution_count": null,
   "metadata": {},
   "outputs": [],
   "source": []
  }
 ],
 "metadata": {
  "kernelspec": {
   "display_name": "Python 3 (ipykernel)",
   "language": "python",
   "name": "python3"
  },
  "language_info": {
   "codemirror_mode": {
    "name": "ipython",
    "version": 3
   },
   "file_extension": ".py",
   "mimetype": "text/x-python",
   "name": "python",
   "nbconvert_exporter": "python",
   "pygments_lexer": "ipython3",
   "version": "3.7.4"
  }
 },
 "nbformat": 4,
 "nbformat_minor": 4
}
