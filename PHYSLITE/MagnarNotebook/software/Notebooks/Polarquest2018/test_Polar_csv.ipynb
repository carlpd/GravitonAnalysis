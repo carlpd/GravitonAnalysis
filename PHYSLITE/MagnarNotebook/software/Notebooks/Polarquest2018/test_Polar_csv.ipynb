{
 "cells": [
  {
   "cell_type": "markdown",
   "metadata": {},
   "source": [
    "This example shows how read the POLA-02 csv files and how to make some plots. More details as we go along. "
   ]
  },
  {
   "cell_type": "code",
   "execution_count": null,
   "metadata": {},
   "outputs": [],
   "source": [
    "#Importing the required packages\n",
    "import pandas as pd\n",
    "import numpy as np\n",
    "import matplotlib.pyplot as plt\n",
    "#OPTIONAL: Enlarge the notebook for better display.\n",
    "from IPython.core.display import display, HTML\n",
    "display(HTML(\"<style>.container { width:80% !important; }</style>\"))"
   ]
  },
  {
   "cell_type": "markdown",
   "metadata": {},
   "source": [
    "Reading the csv files from the download location."
   ]
  },
  {
   "cell_type": "code",
   "execution_count": null,
   "metadata": {},
   "outputs": [],
   "source": [
    "test_header = pd.read_csv(\"/storage/shared/data/fys5555/Polarquest2018/POLA-02/POLA-02_2019-09-08_2019-09-09_summary_Header.csv\")\n",
    "test_trending = pd.read_csv(\"/storage/shared/data/fys5555/Polarquest2018/POLA-02/POLA-02_2019-09-08_2019-09-09_summary_Trending.csv\")\n",
    "test_weather = pd.read_csv(\"/storage/shared/data/fys5555/Polarquest2018/POLA-02/POLA-02_2019-09-08_2019-09-09_summary_Weather.csv\")"
   ]
  },
  {
   "cell_type": "markdown",
   "metadata": {},
   "source": [
    "Displaying the first five rows of the data sets."
   ]
  },
  {
   "cell_type": "code",
   "execution_count": null,
   "metadata": {},
   "outputs": [],
   "source": [
    "test_header.head()"
   ]
  },
  {
   "cell_type": "code",
   "execution_count": null,
   "metadata": {},
   "outputs": [],
   "source": [
    "test_trending.head()"
   ]
  },
  {
   "cell_type": "code",
   "execution_count": null,
   "metadata": {},
   "outputs": [],
   "source": [
    "test_weather.head()"
   ]
  },
  {
   "cell_type": "markdown",
   "metadata": {},
   "source": [
    "Plotting a histogram of e.g. the number of track events. Histograms are very important for data analysis .Consult your favorite documentation on histograms. A good qualitative description is given in https://statistics.laerd.com/statistical-guides/understanding-histograms.php but for a more technical treatment, see https://en.wikipedia.org/wiki/Histogram. \n",
    "\n",
    "Also, consult the respective matplotlib website on plots (display, setting up axes, colors, ...)."
   ]
  },
  {
   "cell_type": "code",
   "execution_count": null,
   "metadata": {},
   "outputs": [],
   "source": [
    "plt.hist(test_header[\"NumTrackEvents\"],bins=30)\n",
    "plt.ylabel('frequency')\n",
    "plt.xlabel('number of track events')\n",
    "plt.show"
   ]
  },
  {
   "cell_type": "markdown",
   "metadata": {},
   "source": [
    "Making 2D plots: From these plots, we can sometimes infer the possible correlation between two variables in the data set. However, a more serious treatment requires advanced statistical methods (covariance, least squares, ...).  "
   ]
  },
  {
   "cell_type": "code",
   "execution_count": null,
   "metadata": {},
   "outputs": [],
   "source": [
    "plt.plot(test_weather[\"OutdoorTemperature\"], test_weather[\"IndoorTemperature\"], 'bo')\n",
    "plt.xlabel('outdoor temperature')\n",
    "plt.ylabel('indoor temperature')"
   ]
  },
  {
   "cell_type": "code",
   "execution_count": null,
   "metadata": {},
   "outputs": [],
   "source": [
    "plt.plot(test_trending[\"RateTrackEventsTheta0_10\"], test_trending[\"RateHitEvents\"], 'bo')\n",
    "plt.xlabel('RateTrackEvents for $theta \\in [0,10]$')\n",
    "plt.ylabel('RateHitEvents')"
   ]
  },
  {
   "cell_type": "markdown",
   "metadata": {},
   "source": [
    "From the above plot we suspect that the relationship between these two variables is linear of the form $y = \\beta x + \\alpha$.\n",
    "\n",
    "Therefore we can extrapolate this set of points by doing linear regression. This is a quite involved process (requires knowledge of linear algebra and statistics) but broadly speaking we have to deduce $\\alpha$ and $\\beta$ from the set of points. Fortunately there is a package in sci-kit learn that does this job for us. This is a quite simple example of a machine learning algorithm :)."
   ]
  },
  {
   "cell_type": "code",
   "execution_count": null,
   "metadata": {},
   "outputs": [],
   "source": [
    "from sklearn import linear_model\n",
    "#from sklearn.model_selection import train_test_split\n",
    "\n",
    "linreg = linear_model.LinearRegression()\n",
    "linreg.fit(test_trending[[\"RateTrackEventsTheta0_10\"]],test_trending.RateHitEvents)\n",
    "xnew = np.array([[15],[28]])\n",
    "Y_pred = linreg.predict(xnew)\n",
    "plt.plot(xnew,Y_pred, \"r-\")\n",
    "plt.plot(test_trending[[\"RateTrackEventsTheta0_10\"]], test_trending[\"RateHitEvents\"],'bo')\n",
    "#plt.axis([0,1.0,0, 5.0])\n",
    "plt.xlabel(r'RateTrackEventsTheta0_10')\n",
    "plt.ylabel(r'RateHitEvents')\n",
    "plt.title(r'Simple Linear Regression')\n",
    "plt.show()\n",
    "from sklearn.metrics import mean_squared_error, r2_score, mean_squared_log_error, mean_absolute_error\n",
    "\n",
    "print('The intercept alpha: \\n', linreg.intercept_)\n",
    "print('Coefficient beta (gradient) : \\n', linreg.coef_)"
   ]
  },
  {
   "cell_type": "code",
   "execution_count": null,
   "metadata": {},
   "outputs": [],
   "source": []
  }
 ],
 "metadata": {
  "kernelspec": {
   "display_name": "Python 3 (ipykernel)",
   "language": "python",
   "name": "python3"
  },
  "language_info": {
   "codemirror_mode": {
    "name": "ipython",
    "version": 3
   },
   "file_extension": ".py",
   "mimetype": "text/x-python",
   "name": "python",
   "nbconvert_exporter": "python",
   "pygments_lexer": "ipython3",
   "version": "3.7.4"
  }
 },
 "nbformat": 4,
 "nbformat_minor": 4
}
