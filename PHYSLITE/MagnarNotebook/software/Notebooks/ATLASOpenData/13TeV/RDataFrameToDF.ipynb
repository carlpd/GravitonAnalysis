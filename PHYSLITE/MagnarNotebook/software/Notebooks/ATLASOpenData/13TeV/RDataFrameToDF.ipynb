{
 "cells": [
  {
   "cell_type": "markdown",
   "metadata": {},
   "source": [
    "### When running this notebook via the Galaxy portal\n",
    "You can access your data via the dataset number. Using a Python kernel, you can access dataset number 42 with ``handle = open(get(42), 'r')``.\n",
    "To save data, write your data to a file, and then call ``put('filename.txt')``. The dataset will then be available in your galaxy history.\n",
    "<br><br>Note that if you are putting/getting to/from a different history than your default history, you must also provide the history-id.\n",
    "<br><br>More information including available galaxy-related environment variables can be found at https://github.com/bgruening/docker-jupyter-notebook. This notebook is running in a docker container based on the Docker Jupyter container described in that link.\n"
   ]
  },
  {
   "cell_type": "markdown",
   "metadata": {},
   "source": [
    "# ATLAS OpenData with RDataFrame"
   ]
  },
  {
   "cell_type": "markdown",
   "metadata": {},
   "source": [
    "This notebook uses <a href=\"https://root.cern/doc/master/classROOT_1_1RDataFrame.html\" target=\"_blank\">RDataFrame</a> in ROOT to perform an analysis of the 13 TeV ATLAS OpenData. It needs ROOT version >= 6.24/02. "
   ]
  },
  {
   "cell_type": "markdown",
   "metadata": {},
   "source": [
    "## Includes and imports\n",
    "\n",
    "The follwing cells includes the needed libraries as well as a helper function with some useful function to retrieve all the available samples and the categorization of backgrounds. See the ouput for more information."
   ]
  },
  {
   "cell_type": "code",
   "execution_count": 1,
   "metadata": {},
   "outputs": [
    {
     "name": "stdout",
     "output_type": "stream",
     "text": [
      "Welcome to JupyROOT 6.24/02\n",
      "importing Jupyter notebook from setPath.ipynb\n",
      "importing Jupyter notebook from /home/eirikgr/software/Input/OpenDataPandaFramework13TeV.ipynb\n",
      "This library contains handy functions to ease the access and use of the 13TeV ATLAS OpenData release\n",
      "\n",
      "getBkgCategories()\n",
      "\t Dumps the name of the various background cataegories available \n",
      "\t as well as the number of samples contained in each category.\n",
      "\t Returns a vector with the name of the categories\n",
      "\n",
      "getSamplesInCategory(cat)\n",
      "\t Dumps the name of the samples contained in a given category (cat)\n",
      "\t Returns dictionary with keys being DSIDs and values physics process name from filename.\n",
      "\n",
      "getMCCategory()\n",
      "\t Returns dictionary with keys DSID and values MC category\n",
      "\n",
      "initialize(indir)\n",
      "\t Collects all the root files available in a certain directory (indir)\n",
      "\n",
      "getSkims(indir)\n",
      "\t Prints all available skims in the directory\n",
      "\n",
      "\n",
      "\n",
      "Setting luminosity to 10064 pb^-1\n",
      "\n",
      "###############################\n",
      "#### Background categories ####\n",
      "###############################\n",
      "Category             N(samples)\n",
      "-------------------------------\n",
      "Diboson                      10\n",
      "Higgs                        20\n",
      "Wjets                        42\n",
      "Wjetsincl                     6\n",
      "Zjets                        42\n",
      "Zjetsincl                     3\n",
      "singleTop                     6\n",
      "topX                          3\n",
      "ttbar                         1\n",
      "###############################\n",
      "#### Signal categories ####\n",
      "###############################\n",
      "Category             N(samples)\n",
      "-------------------------------\n",
      "GG_ttn1                       4\n",
      "Gee                           5\n",
      "Gmumu                         5\n",
      "RS_G_ZZ                       5\n",
      "SUSYC1C1                     10\n",
      "SUSYC1N2                     18\n",
      "SUSYSlepSlep                 14\n",
      "TT_directTT                   4\n",
      "ZPrimeee                      4\n",
      "ZPrimemumu                    4\n",
      "ZPrimett                     12\n",
      "dmV_Zll                      10\n"
     ]
    }
   ],
   "source": [
    "import ROOT\n",
    "ROOT.EnableImplicitMT(220)\n",
    "import os\n",
    "import import_ipynb\n",
    "import setPath\n",
    "from Input.OpenDataPandaFramework13TeV import *\n",
    "%jsroot on"
   ]
  },
  {
   "cell_type": "code",
   "execution_count": 2,
   "metadata": {},
   "outputs": [
    {
     "name": "stdout",
     "output_type": "stream",
     "text": [
      "hepp03.hpc.uio.no\n"
     ]
    }
   ],
   "source": [
    "import socket\n",
    "print(socket.gethostname())"
   ]
  },
  {
   "cell_type": "code",
   "execution_count": 3,
   "metadata": {},
   "outputs": [
    {
     "name": "stdout",
     "output_type": "stream",
     "text": [
      "Run on data corresponding to 10.06 fb^-1\n"
     ]
    }
   ],
   "source": [
    "# Not really needed since lumi is set as a public variable in include above\n",
    "lumi = 10064.0\n",
    "print('Run on data corresponding to {:.2f} fb^-1'.format(lumi/ 1000.0))"
   ]
  },
  {
   "cell_type": "markdown",
   "metadata": {},
   "source": [
    "## Get the samples and categories\n",
    "\n",
    "Set the path to the location of the openData ntuples and the <a href=\"http://opendata.atlas.cern/release/2020/documentation/datasets/files.html\" target=\"_blank\">dataset</a> you want to run over. The *initialize()* checks for all available samples in the directory and categorize them accordingly."
   ]
  },
  {
   "cell_type": "code",
   "execution_count": 4,
   "metadata": {},
   "outputs": [
    {
     "name": "stdout",
     "output_type": "stream",
     "text": [
      "WARNING \t File mc_999999.E6LPXRWZPrime1000_ee.2lep.root not added as sample in Background_samples_13TeV.txt/Signal_samples_13TeV.txt\n",
      "####################################################################################################\n",
      "BACKGROIUND SAMPLES\n",
      "####################################################################################################\n",
      "WARNING \t File for ggH125_tautaulh not found in /storage/shared/data/fys5555/ATLAS_opendata//2lep/MC\n",
      "WARNING \t File for VBFH125_tautaulh not found in /storage/shared/data/fys5555/ATLAS_opendata//2lep/MC\n",
      "WARNING \t File for ttH125_gamgam not found in /storage/shared/data/fys5555/ATLAS_opendata//2lep/MC\n",
      "WARNING \t File for ggH125_gamgam not found in /storage/shared/data/fys5555/ATLAS_opendata//2lep/MC\n",
      "WARNING \t File for VBFH125_gamgam not found in /storage/shared/data/fys5555/ATLAS_opendata//2lep/MC\n",
      "WARNING \t File for WpH125J_Wincl_gamgam not found in /storage/shared/data/fys5555/ATLAS_opendata//2lep/MC\n",
      "WARNING \t File for ZH125J_Zincl_gamgam not found in /storage/shared/data/fys5555/ATLAS_opendata//2lep/MC\n",
      "\n",
      "###############################\n",
      "#### Background categories ####\n",
      "###############################\n",
      "Category             N(samples)\n",
      "-------------------------------\n",
      "Diboson                      10\n",
      "Higgs                        20\n",
      "Wjets                        42\n",
      "Wjetsincl                     6\n",
      "Zjets                        42\n",
      "Zjetsincl                     3\n",
      "singleTop                     6\n",
      "topX                          3\n",
      "ttbar                         1\n",
      "###############################\n",
      "#### Signal categories ####\n",
      "###############################\n",
      "Category             N(samples)\n",
      "-------------------------------\n",
      "GG_ttn1                       4\n",
      "Gee                           5\n",
      "Gmumu                         5\n",
      "RS_G_ZZ                       5\n",
      "SUSYC1C1                     10\n",
      "SUSYC1N2                     18\n",
      "SUSYSlepSlep                 14\n",
      "TT_directTT                   4\n",
      "ZPrimeee                      4\n",
      "ZPrimemumu                    4\n",
      "ZPrimett                     12\n",
      "dmV_Zll                      10\n"
     ]
    }
   ],
   "source": [
    "dir = \"/storage/shared/data/fys5555/ATLAS_opendata/\"\n",
    "#dir = \"/storage/shared/data/fys5555/ATLAS_opendata/RNTuples/\" #use RNtuple\n",
    "ana = \"2lep\"\n",
    "mcfiles = initialize(dir+\"/\"+ana+\"/MC\")\n",
    "datafiles = initialize(dir+\"/\"+ana+\"/Data\")\n",
    "allfiles = z = {**mcfiles, **datafiles}\n",
    "Backgrounds = getBkgCategories(); \n",
    "Signals = getSignalCategories();"
   ]
  },
  {
   "cell_type": "code",
   "execution_count": 5,
   "metadata": {},
   "outputs": [
    {
     "name": "stdout",
     "output_type": "stream",
     "text": [
      "Using 3 unhadded files for topX\n",
      "Using 3 unhadded files for Zjetsincl\n",
      "Using 10 unhadded files for Diboson\n",
      "Using 5 unhadded files for Gmumu\n",
      "Using 4 unhadded files for ZPrimeee\n",
      "Using 10 unhadded files for dmV_Zll\n",
      "Using 5 unhadded files for RS_G_ZZ\n",
      "Using 13 unhadded files for Higgs\n",
      "Using 4 unhadded files for ZPrimemumu\n",
      "Using 12 unhadded files for ZPrimett\n",
      "Using 6 unhadded files for Wjetsincl\n",
      "Using 5 unhadded files for Gee\n",
      "Using 42 unhadded files for Zjets\n",
      "Using 42 unhadded files for Wjets\n",
      "Using 10 unhadded files for SUSYC1C1\n",
      "Using 4 unhadded files for GG_ttn1\n",
      "Using 4 unhadded files for TT_directTT\n",
      "Using 18 unhadded files for SUSYC1N2\n",
      "Using 14 unhadded files for SUSYSlepSlep\n",
      "Using 1 unhadded files for mc_999999\n",
      "Using 1 unhadded files for ttbar\n",
      "Using 6 unhadded files for singleTop\n",
      "Using 4 unhadded files for data\n"
     ]
    }
   ],
   "source": [
    "processes = allfiles.keys()\n",
    "df = {}\n",
    "all_samples_MC = []\n",
    "for p in processes:\n",
    "    samples = []\n",
    "    datafrs = []\n",
    "    ns = 0\n",
    "    for d in allfiles[p][\"files\"]:\n",
    "        if ns == 0:\n",
    "            fold = \"/\".join(d.split(\"/\")[:-1])\n",
    "            haddfile = \"%s/%s.root\"%(fold,p)\n",
    "            if os.path.isfile(haddfile): \n",
    "                break\n",
    "        samples.append(d)\n",
    "        if not 'data' in p:\n",
    "            all_samples_MC.append(d)\n",
    "        ns += 1\n",
    "    if len(samples):\n",
    "        print(\"Using %i unhadded files for %s\"%(len(samples),p))\n",
    "        df[p] = ROOT.RDataFrame(\"mini\", samples)\n",
    "    else:\n",
    "        print(\"Using hadded file %s for %s\"%(haddfile,p))\n",
    "        df[p] = ROOT.RDataFrame(\"mini\", haddfile)"
   ]
  },
  {
   "cell_type": "code",
   "execution_count": 6,
   "metadata": {},
   "outputs": [],
   "source": [
    "df[\"mc\"] = ROOT.RDataFrame(\"mini\", all_samples_MC)"
   ]
  },
  {
   "cell_type": "code",
   "execution_count": 7,
   "metadata": {},
   "outputs": [
    {
     "name": "stdout",
     "output_type": "stream",
     "text": [
      "\u001b[01m\u001b[K/storage/shared/software/Input/Cfunctions.cxx:\u001b[m\u001b[K In function ‘\u001b[01m\u001b[Kstd::vector<std::__cxx11::basic_string<char> > DropColumns(std::vector<std::__cxx11::basic_string<char> >&&)\u001b[m\u001b[K’:\r\n",
      "\u001b[01m\u001b[K/storage/shared/software/Input/Cfunctions.cxx:152:28:\u001b[m\u001b[K \u001b[01;35m\u001b[Kwarning: \u001b[m\u001b[Kcapture of variable ‘\u001b[01m\u001b[Kblacklist\u001b[m\u001b[K’ with non-automatic storage duration\r\n",
      "    auto is_blacklisted = [&\u001b[01;35m\u001b[Kblacklist\u001b[m\u001b[K](const std::string &s)  { return std::find(blacklist.begin(), blacklist.end(), s) != blacklist.end(); };\r\n",
      "                            \u001b[01;35m\u001b[K^~~~~~~~~\u001b[m\u001b[K\r\n",
      "\u001b[01m\u001b[K/storage/shared/software/Input/Cfunctions.cxx:150:42:\u001b[m\u001b[K \u001b[01;36m\u001b[Knote: \u001b[m\u001b[K‘\u001b[01m\u001b[Kconst std::vector<std::__cxx11::basic_string<char> > blacklist\u001b[m\u001b[K’ declared here\r\n",
      "    static const std::vector<std::string> \u001b[01;36m\u001b[Kblacklist\u001b[m\u001b[K = {\"useless\", \"columns\"};\r\n",
      "                                          \u001b[01;36m\u001b[K^~~~~~~~~\u001b[m\u001b[K\r\n"
     ]
    }
   ],
   "source": [
    "! g++ -shared -fPIC -o Cfunctions.so /storage/shared/software/Input/Cfunctions.cxx `root-config --cflags --glibs`"
   ]
  },
  {
   "cell_type": "markdown",
   "metadata": {},
   "source": [
    "Include a pre-compiled c++ library of useful functions. Do ROOT.help() to see content."
   ]
  },
  {
   "cell_type": "code",
   "execution_count": 8,
   "metadata": {},
   "outputs": [
    {
     "data": {
      "text/plain": [
       "0"
      ]
     },
     "execution_count": 8,
     "metadata": {},
     "output_type": "execute_result"
    }
   ],
   "source": [
    "ROOT.gSystem.AddDynamicPath(\"/storage/shared/software/Input/\")\n",
    "ROOT.gROOT.ProcessLine(\".include /storage/shared/software/Input/\");\n",
    "ROOT.gInterpreter.AddIncludePath(\"/storage/shared/software/Input/\");\n",
    "ROOT.gInterpreter.Declare('#include \"/storage/shared/software/Input/Cfunctions.h\"') # Header with the definition of the myFilter function\n",
    "ROOT.gSystem.Load(\"Cfunctions.so\") # Library with the myFilter function"
   ]
  },
  {
   "cell_type": "code",
   "execution_count": 9,
   "metadata": {},
   "outputs": [
    {
     "name": "stdout",
     "output_type": "stream",
     "text": [
      "Library of handy functions to be used with RDataFrame\n",
      "=================\n",
      "isOS(const ROOT::VecOps::RVec<int>& chlep)\n",
      "\t Checks if pair of leptons has opposite sign. Returns bool\n",
      "=================\n",
      "isSF(Vec_t& fllep)\n",
      "\t Checks if pair of leptons has same flavour (i.e. electron, muon, tau etc.). Returns bool\n",
      "=================\n",
      "ComputeInvariantMass(Vec2_t& pt, Vec2_t& eta, Vec2_t& phi, Vec2_t& e)\n",
      "\t Computes invariant mass of leptons. Input can be any size, function will compute the total invariant mass of all objects.  Returns float\n",
      "=================\n",
      "calcMT2(Vec2_t& pt, Vec2_t& eta, Vec2_t& phi, Vec2_t& e, Float_t met_et, Float_t met_phi)\n",
      "\t Computes the stransverse mass [Ref.: https://gitlab.cern.ch/atlas-phys-susy-wg/CalcGenericMT2].  Returns float\n",
      "=================\n",
      "costhetastar(Vec2_t& pt, Vec2_t& eta, Vec2_t& phi, Vec2_t& e)\n",
      "\t Computes the cos(theta)* of two leptons.  Returns float\n",
      "=================\n",
      "deltaPhi_ll(Vec2_t& pt, Vec2_t& eta, Vec2_t& phi, Vec2_t& e)\n",
      "\t Computes the difference in phi between two leptons.  Returns float\n",
      "=================\n",
      "deltaPhi_metl(Vec2_t& pt, Vec2_t& eta, Vec2_t& phi, Vec2_t& e)\n",
      "\t Computes the difference in phi between missing transverse energy vector and the highest pT lepton.  Returns float\n",
      "=================\n",
      "checkPt(Vec2_t& pt, float cut1, float cut2)\n",
      "\t Checks if leptons passes some certain pT threshold set by the inputs.  Returns bool\n"
     ]
    }
   ],
   "source": [
    "ROOT.help()"
   ]
  },
  {
   "cell_type": "code",
   "execution_count": 10,
   "metadata": {},
   "outputs": [],
   "source": [
    "nlep = 2\n",
    "lepv = [\"lep_pt\",\"lep_eta\",\"lep_phi\",\"lep_E\",\n",
    "        \"lep_ptcone30\",\"lep_etcone20\",\n",
    "        \"lep_trackd0pvunbiased\",\"lep_tracksigd0pvunbiased\",\n",
    "        \"lep_isTightID\",\"lep_z0\"]"
   ]
  },
  {
   "cell_type": "code",
   "execution_count": 11,
   "metadata": {},
   "outputs": [],
   "source": [
    "MCcat = {}\n",
    "MCdescr = {}\n",
    "for cat in allfiles:\n",
    "    n = -1\n",
    "    for dsid in allfiles[cat][\"dsid\"]:\n",
    "        n += 1\n",
    "        try:\n",
    "            MCcat[int(dsid)] = cat\n",
    "            MCdescr[int(dsid)] = allfiles[cat][\"files\"][n].split(\"/\")[-1].split(\".\")[1]\n",
    "        except:\n",
    "            continue"
   ]
  },
  {
   "cell_type": "code",
   "execution_count": 12,
   "metadata": {},
   "outputs": [],
   "source": [
    "# Function to add\n",
    "def getCategory(dsid):\n",
    "    return MCcat[dsid]"
   ]
  },
  {
   "cell_type": "code",
   "execution_count": 13,
   "metadata": {},
   "outputs": [],
   "source": [
    "# Function to add\n",
    "def getDescr(dsid):\n",
    "    return MCdescr[dsid]"
   ]
  },
  {
   "cell_type": "code",
   "execution_count": 14,
   "metadata": {},
   "outputs": [
    {
     "name": "stdout",
     "output_type": "stream",
     "text": [
      "topX\n",
      "Looking at topX\n",
      "Zjetsincl\n",
      "Looking at Zjetsincl\n",
      "Diboson\n",
      "Looking at Diboson\n",
      "Gmumu\n",
      "Looking at Gmumu\n",
      "ZPrimeee\n",
      "Looking at ZPrimeee\n",
      "dmV_Zll\n",
      "Looking at dmV_Zll\n",
      "RS_G_ZZ\n",
      "Looking at RS_G_ZZ\n",
      "Higgs\n",
      "Looking at Higgs\n",
      "ZPrimemumu\n",
      "Looking at ZPrimemumu\n",
      "ZPrimett\n",
      "Looking at ZPrimett\n",
      "Wjetsincl\n",
      "Looking at Wjetsincl\n",
      "Gee\n",
      "Looking at Gee\n",
      "Zjets\n",
      "Looking at Zjets\n",
      "Wjets\n",
      "Looking at Wjets\n",
      "SUSYC1C1\n",
      "Looking at SUSYC1C1\n",
      "GG_ttn1\n",
      "Looking at GG_ttn1\n",
      "TT_directTT\n",
      "Looking at TT_directTT\n",
      "SUSYC1N2\n",
      "Looking at SUSYC1N2\n",
      "SUSYSlepSlep\n",
      "Looking at SUSYSlepSlep\n",
      "mc_999999\n",
      "Looking at mc_999999\n",
      "ttbar\n",
      "Looking at ttbar\n",
      "singleTop\n",
      "Looking at singleTop\n",
      "data\n",
      "Looking at data\n",
      "mc\n",
      "Looking at mc\n",
      "CPU times: user 519 ms, sys: 58.6 ms, total: 578 ms\n",
      "Wall time: 673 ms\n"
     ]
    }
   ],
   "source": [
    "%%time\n",
    "import time\n",
    "for p in df.keys():\n",
    "    \n",
    "    print(p)\n",
    "    \n",
    "    #if not p in [\"mc\"]: continue\n",
    "    \n",
    "    print(\"Looking at %s\"%p)\n",
    "    \n",
    "    # Define good leptons using pT > 25 GeV and isolation\n",
    "    df[p] = df[p].Define(\"goodLEP\",\"lep_etcone20/lep_pt < 0.15 && lep_ptcone30/lep_pt < 0.15\")\n",
    "    df[p] = df[p].Define(\"n_goodLEP\",\"Sum(goodLEP)\")\n",
    "    # Require number of good leptons\n",
    "    df[p] = df[p].Filter(\"n_goodLEP == 2\",\"2 good leptons\")\n",
    "    \n",
    "    # Calculate flavour and charge of the two leptons\n",
    "    df[p] = df[p].Define(\"isOS\",\"isOS(lep_charge[goodLEP])\")\n",
    "    df[p] = df[p].Define(\"isSF\",\"isSF(lep_type[goodLEP])\")\n",
    "    \n",
    "    \n",
    "    for i in range(nlep):\n",
    "        df[p] = df[p].Define(\"lep%i_flav\"%(i+1),\"getTypeTimesCharge(lep_charge[goodLEP],lep_type[goodLEP],%i)\"%(i))\n",
    "        for v in lepv:\n",
    "            if \"lep_\" in v:\n",
    "                var = v.replace(\"lep_\",\"\")\n",
    "            else:\n",
    "                var = v\n",
    "            #print(var)\n",
    "            df[p] = df[p].Define(\"lep%i_%s\"%(i+1,var),\"getVar(lep_%s[goodLEP],%i)\"%(var,i))\n",
    "            \n",
    "    #df[p] = df[p].Define(\"lep2_pt\",\"getVar(lep_pt[goodLEP],1)\")\n",
    "    # Cut on SF + OS\n",
    "    #df[p] = df[p].Filter(\"isSF\",\"Same flavour\")\n",
    "    #df[p] = df[p].Filter(\"isOS\",\"Opposite sign\")\n",
    "    # Compute mll\n",
    "    df[p] = df[p].Define(\"mll\",\"ComputeInvariantMass(lep_pt[goodLEP],lep_eta[goodLEP],lep_phi[goodLEP],lep_E[goodLEP])\")\n",
    "    df[p] = df[p].Define(\"mt2\",\"calcMT2(lep_pt[goodLEP],lep_eta[goodLEP],lep_phi[goodLEP],lep_E[goodLEP],met_et,met_phi)\")\n",
    "    \n",
    "    df[p] = df[p].Define(\"njet20\",\"countJets(jet_pt,20000)\")\n",
    "    df[p] = df[p].Define(\"njet60\",\"countJets(jet_pt,60000)\")\n",
    "    \n",
    "    df[p] = df[p].Define(\"nbjet60\",\"countBJets(jet_pt,jet_MV2c10,20000,60)\")\n",
    "    df[p] = df[p].Define(\"nbjet70\",\"countBJets(jet_pt,jet_MV2c10,20000,70)\")\n",
    "    df[p] = df[p].Define(\"nbjet77\",\"countBJets(jet_pt,jet_MV2c10,20000,77)\")\n",
    "    df[p] = df[p].Define(\"nbjet85\",\"countBJets(jet_pt,jet_MV2c10,20000,85)\")\n",
    "    \n",
    "    # Compute costheta*\n",
    "    df[p] = df[p].Define(\"costhstar\",\"costhetastar(lep_pt[goodLEP],lep_eta[goodLEP],lep_phi[goodLEP],lep_E[goodLEP])\")\n",
    "    \n",
    "    \n",
    "    # Calculate weight for scaling (inlcudes scaling to luminosisty)\n",
    "    if \"data\" in p:\n",
    "        df[p] = df[p].Define(\"weight\", \"1.0\")\n",
    "        #df[p] = df[p].Define(\"category\",\"getDataMetaData(channelNumber)\")\n",
    "        #df[p] = df[p].Define(\"physdescr\",\"getDataMetaData(channelNumber)\")\n",
    "    else:\n",
    "        df[p] = df[p].Define(\"weight\", \"scaleFactor_ELE * scaleFactor_MUON * scaleFactor_LepTRIGGER * scaleFactor_PILEUP * mcWeight * (XSection * {} / SumWeights)\".format(lumi))\n",
    "        #df[p] = df[p].Define(\"category\",\"getMCMetaData(channelNumber).second\")\n",
    "        #df[p] = df[p].Define(\"physdescr\",\"getMCMetaData(channelNumber).first\")"
   ]
  },
  {
   "cell_type": "code",
   "execution_count": 15,
   "metadata": {
    "scrolled": true
   },
   "outputs": [
    {
     "name": "stdout",
     "output_type": "stream",
     "text": [
      "goodLEP\n",
      "n_goodLEP\n",
      "isOS\n",
      "isSF\n",
      "lep1_flav\n",
      "lep1_pt\n",
      "lep1_eta\n",
      "lep1_phi\n",
      "lep1_E\n",
      "lep1_ptcone30\n",
      "lep1_etcone20\n",
      "lep1_trackd0pvunbiased\n",
      "lep1_tracksigd0pvunbiased\n",
      "lep1_isTightID\n",
      "lep1_z0\n",
      "lep2_flav\n",
      "lep2_pt\n",
      "lep2_eta\n",
      "lep2_phi\n",
      "lep2_E\n",
      "lep2_ptcone30\n",
      "lep2_etcone20\n",
      "lep2_trackd0pvunbiased\n",
      "lep2_tracksigd0pvunbiased\n",
      "lep2_isTightID\n",
      "lep2_z0\n",
      "mll\n",
      "mt2\n",
      "njet20\n",
      "njet60\n",
      "nbjet60\n",
      "nbjet70\n",
      "nbjet77\n",
      "nbjet85\n",
      "costhstar\n",
      "weight\n",
      "runNumber\n",
      "eventNumber\n",
      "channelNumber\n",
      "mcWeight\n",
      "scaleFactor_PILEUP\n",
      "scaleFactor_ELE\n",
      "scaleFactor_MUON\n",
      "scaleFactor_PHOTON\n",
      "scaleFactor_TAU\n",
      "scaleFactor_BTAG\n",
      "scaleFactor_LepTRIGGER\n",
      "scaleFactor_PhotonTRIGGER\n",
      "trigE\n",
      "trigM\n",
      "trigP\n",
      "lep_n\n",
      "lep_truthMatched\n",
      "lep_trigMatched\n",
      "lep_pt\n",
      "lep_eta\n",
      "lep_phi\n",
      "lep_E\n",
      "lep_z0\n",
      "lep_charge\n",
      "lep_type\n",
      "lep_isTightID\n",
      "lep_ptcone30\n",
      "lep_etcone20\n",
      "lep_trackd0pvunbiased\n",
      "lep_tracksigd0pvunbiased\n",
      "met_et\n",
      "met_phi\n",
      "jet_n\n",
      "jet_pt\n",
      "jet_eta\n",
      "jet_phi\n",
      "jet_E\n",
      "jet_jvt\n",
      "jet_trueflav\n",
      "jet_truthMatched\n",
      "jet_MV2c10\n",
      "photon_n\n",
      "photon_truthMatched\n",
      "photon_trigMatched\n",
      "photon_pt\n",
      "photon_eta\n",
      "photon_phi\n",
      "photon_E\n",
      "photon_isTightID\n",
      "photon_ptcone30\n",
      "photon_etcone20\n",
      "photon_convType\n",
      "tau_n\n",
      "tau_pt\n",
      "tau_eta\n",
      "tau_phi\n",
      "tau_E\n",
      "tau_isTightID\n",
      "tau_truthMatched\n",
      "tau_trigMatched\n",
      "tau_nTracks\n",
      "tau_BDTid\n",
      "ditau_m\n",
      "lep_pt_syst\n",
      "met_et_syst\n",
      "jet_pt_syst\n",
      "photon_pt_syst\n",
      "tau_pt_syst\n",
      "XSection\n",
      "SumWeights\n",
      "largeRjet_n\n",
      "largeRjet_pt\n",
      "largeRjet_eta\n",
      "largeRjet_phi\n",
      "largeRjet_E\n",
      "largeRjet_m\n",
      "largeRjet_truthMatched\n",
      "largeRjet_D2\n",
      "largeRjet_tau32\n",
      "largeRjet_pt_syst\n",
      "tau_charge\n"
     ]
    }
   ],
   "source": [
    "all_cols = []\n",
    "for c in df[\"Zjets\"].GetColumnNames():\n",
    "    all_cols.append(str(c))\n",
    "    print(c)"
   ]
  },
  {
   "cell_type": "code",
   "execution_count": 16,
   "metadata": {},
   "outputs": [],
   "source": [
    "all_cols = ['njet20','njet60','nbjet60','nbjet70','nbjet77','nbjet85',\n",
    "            #'category','physdescr',\n",
    "            'isOS','isSF','mll','mt2','met_et', 'met_phi',\n",
    "            'lep1_flav',\n",
    "            'lep1_pt',\n",
    "            'lep1_eta',\n",
    "            'lep1_phi',\n",
    "            'lep1_E',\n",
    "            'lep1_ptcone30',\n",
    "            'lep1_etcone20',\n",
    "            'lep1_trackd0pvunbiased',\n",
    "            'lep1_tracksigd0pvunbiased',\n",
    "            'lep1_isTightID',\n",
    "            'lep1_z0',\n",
    "            'lep2_flav',\n",
    "            'lep2_pt',\n",
    "            'lep2_eta',\n",
    "            'lep2_phi',\n",
    "            'lep2_E',\n",
    "            'lep2_ptcone30',\n",
    "            'lep2_etcone20',\n",
    "            'lep2_trackd0pvunbiased',\n",
    "            'lep2_tracksigd0pvunbiased',\n",
    "            'lep2_isTightID',\n",
    "            'lep2_z0',\n",
    "            'channelNumber',\n",
    "            'costhstar']"
   ]
  },
  {
   "cell_type": "code",
   "execution_count": 17,
   "metadata": {},
   "outputs": [],
   "source": [
    "#df[\"Gmumu\"].Display(\"category\").Print()"
   ]
  },
  {
   "cell_type": "code",
   "execution_count": 18,
   "metadata": {},
   "outputs": [],
   "source": [
    "#df['Gmumu'].Snapshot(\"thinned_tree\", \"out3.root\", ROOT.DropColumns(all_cols));"
   ]
  },
  {
   "cell_type": "code",
   "execution_count": 19,
   "metadata": {},
   "outputs": [],
   "source": [
    "numpy = df[\"mc\"].AsNumpy(all_cols)"
   ]
  },
  {
   "cell_type": "code",
   "execution_count": 20,
   "metadata": {},
   "outputs": [],
   "source": [
    "df = pd.DataFrame(data=numpy)"
   ]
  },
  {
   "cell_type": "code",
   "execution_count": 21,
   "metadata": {},
   "outputs": [
    {
     "data": {
      "text/plain": [
       "(130848028, 36)"
      ]
     },
     "execution_count": 21,
     "metadata": {},
     "output_type": "execute_result"
    }
   ],
   "source": [
    "df.shape"
   ]
  },
  {
   "cell_type": "code",
   "execution_count": 22,
   "metadata": {},
   "outputs": [],
   "source": [
    "df['category'] = df.apply(lambda row : getCategory(row['channelNumber']), axis = 1)\n",
    "df['physdescr'] = df.apply(lambda row : getDescr(row['channelNumber']), axis = 1)"
   ]
  },
  {
   "cell_type": "code",
   "execution_count": 23,
   "metadata": {},
   "outputs": [
    {
     "data": {
      "text/html": [
       "<div>\n",
       "<style scoped>\n",
       "    .dataframe tbody tr th:only-of-type {\n",
       "        vertical-align: middle;\n",
       "    }\n",
       "\n",
       "    .dataframe tbody tr th {\n",
       "        vertical-align: top;\n",
       "    }\n",
       "\n",
       "    .dataframe thead th {\n",
       "        text-align: right;\n",
       "    }\n",
       "</style>\n",
       "<table border=\"1\" class=\"dataframe\">\n",
       "  <thead>\n",
       "    <tr style=\"text-align: right;\">\n",
       "      <th></th>\n",
       "      <th>njet20</th>\n",
       "      <th>njet60</th>\n",
       "      <th>nbjet60</th>\n",
       "      <th>nbjet70</th>\n",
       "      <th>nbjet77</th>\n",
       "      <th>nbjet85</th>\n",
       "      <th>isOS</th>\n",
       "      <th>isSF</th>\n",
       "      <th>mll</th>\n",
       "      <th>mt2</th>\n",
       "      <th>...</th>\n",
       "      <th>lep2_ptcone30</th>\n",
       "      <th>lep2_etcone20</th>\n",
       "      <th>lep2_trackd0pvunbiased</th>\n",
       "      <th>lep2_tracksigd0pvunbiased</th>\n",
       "      <th>lep2_isTightID</th>\n",
       "      <th>lep2_z0</th>\n",
       "      <th>channelNumber</th>\n",
       "      <th>costhstar</th>\n",
       "      <th>category</th>\n",
       "      <th>physdescr</th>\n",
       "    </tr>\n",
       "  </thead>\n",
       "  <tbody>\n",
       "    <tr>\n",
       "      <th>0</th>\n",
       "      <td>2</td>\n",
       "      <td>2</td>\n",
       "      <td>0</td>\n",
       "      <td>0</td>\n",
       "      <td>1</td>\n",
       "      <td>1</td>\n",
       "      <td>1</td>\n",
       "      <td>1</td>\n",
       "      <td>260112.453125</td>\n",
       "      <td>274073.06250</td>\n",
       "      <td>...</td>\n",
       "      <td>0.0</td>\n",
       "      <td>-460.782593</td>\n",
       "      <td>0.010055</td>\n",
       "      <td>1.367220</td>\n",
       "      <td>1.0</td>\n",
       "      <td>-0.023045</td>\n",
       "      <td>301333</td>\n",
       "      <td>0.842731</td>\n",
       "      <td>ZPrimett</td>\n",
       "      <td>ZPrime3000_tt</td>\n",
       "    </tr>\n",
       "    <tr>\n",
       "      <th>1</th>\n",
       "      <td>3</td>\n",
       "      <td>2</td>\n",
       "      <td>2</td>\n",
       "      <td>2</td>\n",
       "      <td>2</td>\n",
       "      <td>2</td>\n",
       "      <td>1</td>\n",
       "      <td>0</td>\n",
       "      <td>416591.125000</td>\n",
       "      <td>250325.65625</td>\n",
       "      <td>...</td>\n",
       "      <td>0.0</td>\n",
       "      <td>-83.693237</td>\n",
       "      <td>0.018806</td>\n",
       "      <td>1.681733</td>\n",
       "      <td>1.0</td>\n",
       "      <td>0.071510</td>\n",
       "      <td>301333</td>\n",
       "      <td>0.699803</td>\n",
       "      <td>ZPrimett</td>\n",
       "      <td>ZPrime3000_tt</td>\n",
       "    </tr>\n",
       "    <tr>\n",
       "      <th>2</th>\n",
       "      <td>4</td>\n",
       "      <td>2</td>\n",
       "      <td>0</td>\n",
       "      <td>0</td>\n",
       "      <td>0</td>\n",
       "      <td>0</td>\n",
       "      <td>1</td>\n",
       "      <td>0</td>\n",
       "      <td>808462.062500</td>\n",
       "      <td>586403.37500</td>\n",
       "      <td>...</td>\n",
       "      <td>0.0</td>\n",
       "      <td>-723.799927</td>\n",
       "      <td>0.025268</td>\n",
       "      <td>2.887424</td>\n",
       "      <td>1.0</td>\n",
       "      <td>0.045441</td>\n",
       "      <td>301333</td>\n",
       "      <td>1.062639</td>\n",
       "      <td>ZPrimett</td>\n",
       "      <td>ZPrime3000_tt</td>\n",
       "    </tr>\n",
       "    <tr>\n",
       "      <th>3</th>\n",
       "      <td>4</td>\n",
       "      <td>2</td>\n",
       "      <td>1</td>\n",
       "      <td>2</td>\n",
       "      <td>2</td>\n",
       "      <td>2</td>\n",
       "      <td>1</td>\n",
       "      <td>1</td>\n",
       "      <td>240576.656250</td>\n",
       "      <td>326527.93750</td>\n",
       "      <td>...</td>\n",
       "      <td>0.0</td>\n",
       "      <td>90.810547</td>\n",
       "      <td>0.004849</td>\n",
       "      <td>0.640823</td>\n",
       "      <td>1.0</td>\n",
       "      <td>0.030815</td>\n",
       "      <td>301333</td>\n",
       "      <td>0.428338</td>\n",
       "      <td>ZPrimett</td>\n",
       "      <td>ZPrime3000_tt</td>\n",
       "    </tr>\n",
       "    <tr>\n",
       "      <th>4</th>\n",
       "      <td>4</td>\n",
       "      <td>4</td>\n",
       "      <td>0</td>\n",
       "      <td>1</td>\n",
       "      <td>1</td>\n",
       "      <td>1</td>\n",
       "      <td>0</td>\n",
       "      <td>1</td>\n",
       "      <td>387675.843750</td>\n",
       "      <td>885130.43750</td>\n",
       "      <td>...</td>\n",
       "      <td>0.0</td>\n",
       "      <td>4380.707031</td>\n",
       "      <td>0.019385</td>\n",
       "      <td>1.494093</td>\n",
       "      <td>1.0</td>\n",
       "      <td>-0.014116</td>\n",
       "      <td>301333</td>\n",
       "      <td>0.646013</td>\n",
       "      <td>ZPrimett</td>\n",
       "      <td>ZPrime3000_tt</td>\n",
       "    </tr>\n",
       "  </tbody>\n",
       "</table>\n",
       "<p>5 rows × 38 columns</p>\n",
       "</div>"
      ],
      "text/plain": [
       "   njet20  njet60  nbjet60  nbjet70  nbjet77  nbjet85  isOS  isSF  \\\n",
       "0       2       2        0        0        1        1     1     1   \n",
       "1       3       2        2        2        2        2     1     0   \n",
       "2       4       2        0        0        0        0     1     0   \n",
       "3       4       2        1        2        2        2     1     1   \n",
       "4       4       4        0        1        1        1     0     1   \n",
       "\n",
       "             mll           mt2  ...  lep2_ptcone30  lep2_etcone20  \\\n",
       "0  260112.453125  274073.06250  ...            0.0    -460.782593   \n",
       "1  416591.125000  250325.65625  ...            0.0     -83.693237   \n",
       "2  808462.062500  586403.37500  ...            0.0    -723.799927   \n",
       "3  240576.656250  326527.93750  ...            0.0      90.810547   \n",
       "4  387675.843750  885130.43750  ...            0.0    4380.707031   \n",
       "\n",
       "   lep2_trackd0pvunbiased  lep2_tracksigd0pvunbiased  lep2_isTightID  \\\n",
       "0                0.010055                   1.367220             1.0   \n",
       "1                0.018806                   1.681733             1.0   \n",
       "2                0.025268                   2.887424             1.0   \n",
       "3                0.004849                   0.640823             1.0   \n",
       "4                0.019385                   1.494093             1.0   \n",
       "\n",
       "    lep2_z0  channelNumber  costhstar  category      physdescr  \n",
       "0 -0.023045         301333   0.842731  ZPrimett  ZPrime3000_tt  \n",
       "1  0.071510         301333   0.699803  ZPrimett  ZPrime3000_tt  \n",
       "2  0.045441         301333   1.062639  ZPrimett  ZPrime3000_tt  \n",
       "3  0.030815         301333   0.428338  ZPrimett  ZPrime3000_tt  \n",
       "4 -0.014116         301333   0.646013  ZPrimett  ZPrime3000_tt  \n",
       "\n",
       "[5 rows x 38 columns]"
      ]
     },
     "execution_count": 23,
     "metadata": {},
     "output_type": "execute_result"
    }
   ],
   "source": [
    "df.head()"
   ]
  },
  {
   "cell_type": "code",
   "execution_count": 24,
   "metadata": {},
   "outputs": [],
   "source": [
    "df.to_hdf(\"/storage/shared/data/2lep_df_forML_bkg_signal_fromRDF.hdf5\",\"mini\")"
   ]
  }
 ],
 "metadata": {
  "kernelspec": {
   "display_name": "Python 3 (ipykernel)",
   "language": "python",
   "name": "python3"
  },
  "language_info": {
   "codemirror_mode": {
    "name": "ipython",
    "version": 3
   },
   "file_extension": ".py",
   "mimetype": "text/x-python",
   "name": "python",
   "nbconvert_exporter": "python",
   "pygments_lexer": "ipython3",
   "version": "3.7.4"
  }
 },
 "nbformat": 4,
 "nbformat_minor": 5
}
