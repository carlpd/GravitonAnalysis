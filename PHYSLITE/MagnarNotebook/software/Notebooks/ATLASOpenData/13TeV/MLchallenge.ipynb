{
 "cells": [
  {
   "cell_type": "code",
   "execution_count": 29,
   "metadata": {},
   "outputs": [],
   "source": [
    "import ROOT\n",
    "ROOT.EnableImplicitMT(220)\n",
    "import os\n",
    "import import_ipynb\n",
    "import setPath\n",
    "from Input.OpenDataPandaFramework13TeV import *\n",
    "#%jsroot on"
   ]
  },
  {
   "cell_type": "code",
   "execution_count": 2,
   "metadata": {},
   "outputs": [],
   "source": [
    "indir = \"/storage/shared/data/\"\n",
    "infile = '2lep_df_forML_bkg_signal_fromRDF.hdf5'\n",
    "df = pd.read_hdf(indir+infile) "
   ]
  },
  {
   "cell_type": "code",
   "execution_count": 3,
   "metadata": {},
   "outputs": [
    {
     "data": {
      "text/plain": [
       "array(['ZPrimett', 'Zjets', 'Diboson', 'Zjetsincl', 'dmV_Zll',\n",
       "       'SUSYSlepSlep', 'ttbar', 'Wjets', 'SUSYC1C1', 'Higgs', 'topX',\n",
       "       'SUSYC1N2', 'ZPrimemumu', 'GG_ttn1', 'RS_G_ZZ', 'Gmumu',\n",
       "       'Wjetsincl', 'ZPrimeee', 'Gee', 'singleTop', 'TT_directTT'],\n",
       "      dtype=object)"
      ]
     },
     "execution_count": 3,
     "metadata": {},
     "output_type": "execute_result"
    }
   ],
   "source": [
    "df.category.unique()"
   ]
  },
  {
   "cell_type": "markdown",
   "metadata": {},
   "source": [
    "Select which BSM model we want to train our model on. See all possibilities above. "
   ]
  },
  {
   "cell_type": "code",
   "execution_count": 4,
   "metadata": {},
   "outputs": [],
   "source": [
    "susysig = df.loc[df['category'] == 'SUSYSlepSlep']"
   ]
  },
  {
   "cell_type": "markdown",
   "metadata": {},
   "source": [
    "Define the SM background"
   ]
  },
  {
   "cell_type": "code",
   "execution_count": 5,
   "metadata": {},
   "outputs": [
    {
     "name": "stdout",
     "output_type": "stream",
     "text": [
      "###############################\n",
      "#### Background categories ####\n",
      "###############################\n",
      "Category             N(samples)\n",
      "-------------------------------\n",
      "Diboson                      10\n",
      "Higgs                        20\n",
      "Wjets                        42\n",
      "Wjetsincl                     6\n",
      "Zjets                        42\n",
      "Zjetsincl                     3\n",
      "singleTop                     6\n",
      "topX                          3\n",
      "ttbar                         1\n"
     ]
    }
   ],
   "source": [
    "bkgs = getBkgCategories()"
   ]
  },
  {
   "cell_type": "markdown",
   "metadata": {},
   "source": [
    "We choose to use the slices Zjets and Wjets samples so need to remove the inclusive ones"
   ]
  },
  {
   "cell_type": "code",
   "execution_count": 6,
   "metadata": {},
   "outputs": [],
   "source": [
    "bkgs.remove('Wjetsincl')\n",
    "bkgs.remove('Zjetsincl')"
   ]
  },
  {
   "cell_type": "markdown",
   "metadata": {},
   "source": [
    "Check the backgrounds which we want to include in the training..."
   ]
  },
  {
   "cell_type": "code",
   "execution_count": 7,
   "metadata": {},
   "outputs": [
    {
     "data": {
      "text/plain": [
       "['Diboson', 'Higgs', 'Wjets', 'Zjets', 'singleTop', 'topX', 'ttbar']"
      ]
     },
     "execution_count": 7,
     "metadata": {},
     "output_type": "execute_result"
    }
   ],
   "source": [
    "bkgs"
   ]
  },
  {
   "cell_type": "markdown",
   "metadata": {},
   "source": [
    "... and select them from the dataframe"
   ]
  },
  {
   "cell_type": "code",
   "execution_count": 8,
   "metadata": {},
   "outputs": [],
   "source": [
    "i = 0\n",
    "for b in bkgs:\n",
    "    if i == 0:\n",
    "        dfbkg = df.loc[df['category'] == b]\n",
    "    else:\n",
    "        dfbkg = pd.concat([dfbkg,df.loc[df['category'] == b]])\n",
    "    i += 1"
   ]
  },
  {
   "cell_type": "markdown",
   "metadata": {},
   "source": [
    "Some informatio about number of events and number of features"
   ]
  },
  {
   "cell_type": "code",
   "execution_count": 9,
   "metadata": {},
   "outputs": [
    {
     "data": {
      "text/plain": [
       "(63642138, 38)"
      ]
     },
     "execution_count": 9,
     "metadata": {},
     "output_type": "execute_result"
    }
   ],
   "source": [
    "dfbkg.shape"
   ]
  },
  {
   "cell_type": "code",
   "execution_count": 10,
   "metadata": {},
   "outputs": [
    {
     "data": {
      "text/plain": [
       "(86383, 38)"
      ]
     },
     "execution_count": 10,
     "metadata": {},
     "output_type": "execute_result"
    }
   ],
   "source": [
    "susysig.shape"
   ]
  },
  {
   "cell_type": "code",
   "execution_count": 11,
   "metadata": {},
   "outputs": [],
   "source": [
    "susysig.insert(loc=1,column='isSignal',value=np.ones(susysig.shape[0]))"
   ]
  },
  {
   "cell_type": "code",
   "execution_count": 12,
   "metadata": {},
   "outputs": [],
   "source": [
    "dfbkg.insert(loc=1,column='isSignal',value=np.zeros(dfbkg.shape[0]))"
   ]
  },
  {
   "cell_type": "code",
   "execution_count": 13,
   "metadata": {},
   "outputs": [],
   "source": [
    "X = pd.concat([dfbkg,susysig])\n",
    "y = X['isSignal'].to_numpy()"
   ]
  },
  {
   "cell_type": "code",
   "execution_count": 14,
   "metadata": {},
   "outputs": [],
   "source": [
    "from sklearn.model_selection import train_test_split\n",
    "X_train, X_test, y_train, y_test = train_test_split(X, y, test_size=0.50, random_state=42)"
   ]
  },
  {
   "cell_type": "code",
   "execution_count": 15,
   "metadata": {},
   "outputs": [
    {
     "data": {
      "text/plain": [
       "Index(['njet20', 'isSignal', 'njet60', 'nbjet60', 'nbjet70', 'nbjet77',\n",
       "       'nbjet85', 'isOS', 'isSF', 'mll', 'mt2', 'met_et', 'met_phi',\n",
       "       'lep1_flav', 'lep1_pt', 'lep1_eta', 'lep1_phi', 'lep1_E',\n",
       "       'lep1_ptcone30', 'lep1_etcone20', 'lep1_trackd0pvunbiased',\n",
       "       'lep1_tracksigd0pvunbiased', 'lep1_isTightID', 'lep1_z0', 'lep2_flav',\n",
       "       'lep2_pt', 'lep2_eta', 'lep2_phi', 'lep2_E', 'lep2_ptcone30',\n",
       "       'lep2_etcone20', 'lep2_trackd0pvunbiased', 'lep2_tracksigd0pvunbiased',\n",
       "       'lep2_isTightID', 'lep2_z0', 'channelNumber', 'costhstar', 'category',\n",
       "       'physdescr'],\n",
       "      dtype='object')"
      ]
     },
     "execution_count": 15,
     "metadata": {},
     "output_type": "execute_result"
    }
   ],
   "source": [
    "X_train.columns"
   ]
  },
  {
   "cell_type": "code",
   "execution_count": 16,
   "metadata": {},
   "outputs": [],
   "source": [
    "todrop = ['physdescr','category','channelNumber','isSignal','lep1_ptcone30','lep1_etcone20',\n",
    "         'lep1_trackd0pvunbiased','lep1_tracksigd0pvunbiased','lep1_isTightID','lep2_etcone20',\n",
    "         'lep2_trackd0pvunbiased','lep2_tracksigd0pvunbiased','lep2_isTightID']\n",
    "X_train = X_train.drop(todrop,axis = 1)\n"
   ]
  },
  {
   "cell_type": "code",
   "execution_count": 22,
   "metadata": {},
   "outputs": [],
   "source": [
    "X_test = X_test.drop(todrop,axis = 1)"
   ]
  },
  {
   "cell_type": "code",
   "execution_count": 17,
   "metadata": {},
   "outputs": [
    {
     "name": "stdout",
     "output_type": "stream",
     "text": [
      "[08:29:43] WARNING: /storage/software/easybuild/build/DataAnalysis/1.0.3/foss-2019b-Python-3.7.4/xgboost/xgboost-1.5.1/build/temp.linux-x86_64-3.7/xgboost/src/learner.cc:1115: Starting in XGBoost 1.3.0, the default evaluation metric used with the objective 'binary:logistic' was changed from 'error' to 'logloss'. Explicitly set eval_metric if you'd like to restore the old behavior.\n"
     ]
    },
    {
     "data": {
      "text/plain": [
       "XGBClassifier(base_score=0.5, booster='gbtree', colsample_bylevel=1,\n",
       "              colsample_bynode=1, colsample_bytree=1, enable_categorical=False,\n",
       "              gamma=0, gpu_id=-1, importance_type=None,\n",
       "              interaction_constraints='', learning_rate=0.1, max_delta_step=0,\n",
       "              max_depth=3, min_child_weight=1, missing=nan,\n",
       "              monotone_constraints='()', n_estimators=120, n_jobs=4,\n",
       "              num_parallel_tree=1, predictor='auto', random_state=0,\n",
       "              reg_alpha=0, reg_lambda=1, scale_pos_weight=1, subsample=1,\n",
       "              tree_method='approx', use_label_encoder=False,\n",
       "              validate_parameters=1, verbosity=None)"
      ]
     },
     "execution_count": 17,
     "metadata": {},
     "output_type": "execute_result"
    }
   ],
   "source": [
    "import xgboost as xgb\n",
    "xgbclassifier = xgb.XGBClassifier(\n",
    "    max_depth=3, \n",
    "    n_estimators=120,\n",
    "    learning_rate=0.1,\n",
    "    n_jobs=4,\n",
    "    use_label_encoder=False,\n",
    "    #scale_pos_weight=sum_wbkg/sum_wsig,\n",
    "    objective='binary:logistic')\n",
    "    #missing=-999.0) \n",
    "xgbclassifier.fit(X_train, y_train) "
   ]
  },
  {
   "cell_type": "code",
   "execution_count": 20,
   "metadata": {},
   "outputs": [],
   "source": [
    "xgbclassifier.save_model(\"mymodel.json\")"
   ]
  },
  {
   "cell_type": "code",
   "execution_count": 27,
   "metadata": {},
   "outputs": [
    {
     "name": "stdout",
     "output_type": "stream",
     "text": [
      "Defaulting to user installation because normal site-packages is not writeable\n",
      "Collecting pyqt5\n",
      "  Downloading PyQt5-5.15.9-cp37-abi3-manylinux_2_17_x86_64.whl (8.4 MB)\n",
      "     |████████████████████████████████| 8.4 MB 5.6 MB/s            �█████▌                        | 2.0 MB 5.6 MB/s eta 0:00:02 eta 0:00:01\n",
      "\u001b[?25hCollecting PyQt5-Qt5>=5.15.2\n",
      "  Downloading PyQt5_Qt5-5.15.2-py3-none-manylinux2014_x86_64.whl (59.9 MB)\n",
      "     |████████████████████████████████| 59.9 MB 71.2 MB/s            �▎                           | 7.9 MB 71.2 MB/s eta 0:00:01▊                          | 10.6 MB 71.2 MB/s eta 0:00:01��█████▋                     | 19.9 MB 71.2 MB/s eta 0:00:01��███████████▉                   | 24.1 MB 71.2 MB/s eta 0:00:01██████████████               | 31.8 MB 71.2 MB/s eta 0:00:01��██████████████████████████ | 57.9 MB 71.2 MB/s eta 0:00:01██▉| 59.6 MB 71.2 MB/s eta 0:00:01\n",
      "\u001b[?25hCollecting PyQt5-sip<13,>=12.11\n",
      "  Downloading PyQt5_sip-12.12.1-cp37-cp37m-manylinux_2_5_x86_64.manylinux1_x86_64.whl (345 kB)\n",
      "     |████████████████████████████████| 345 kB 93.5 MB/s            \n",
      "\u001b[?25hInstalling collected packages: PyQt5-sip, PyQt5-Qt5, pyqt5\n",
      "Successfully installed PyQt5-Qt5-5.15.2 PyQt5-sip-12.12.1 pyqt5-5.15.9\n",
      "\u001b[33mWARNING: You are using pip version 21.3.1; however, version 23.1.2 is available.\n",
      "You should consider upgrading via the '/storage/software/easybuild/software/Python/3.7.4-GCCcore-8.3.0/bin/python3.7 -m pip install --upgrade pip' command.\u001b[0m\n"
     ]
    }
   ],
   "source": [
    "import sys\n",
    "!{sys.executable} -m pip install pyqt5"
   ]
  },
  {
   "cell_type": "code",
   "execution_count": 31,
   "metadata": {},
   "outputs": [
    {
     "name": "stderr",
     "output_type": "stream",
     "text": [
      "/storage/software/easybuild/software/IPython/7.9.0-foss-2019b-Python-3.7.4/lib/python3.7/site-packages/ipykernel_launcher.py:10: UserWarning: Matplotlib is currently using agg, which is a non-GUI backend, so cannot show the figure.\n",
      "  # Remove the CWD from sys.path while we load stuff.\n"
     ]
    }
   ],
   "source": [
    "# Plot variable importance\n",
    "import matplotlib.pyplot as plt\n",
    "fig_size = plt.rcParams[\"figure.figsize\"] \n",
    "ax = xgb.plot_importance(xgbclassifier)\n",
    "ax.xaxis.label.set_size(20)\n",
    "ax.yaxis.label.set_size(30)\n",
    "fig_size[0] = 20\n",
    "fig_size[1] = 15\n",
    "plt.rcParams[\"figure.figsize\"] = fig_size\n",
    "plt.show()\n",
    "y_pred = xgbclassifier.predict(X_test)\n",
    "y_pred_prob = xgbclassifier.predict_proba(X_test)\n",
    "plt.savefig(\"myplot.png\")"
   ]
  },
  {
   "cell_type": "code",
   "execution_count": 44,
   "metadata": {},
   "outputs": [],
   "source": [
    "#  histogram of the ML outputs\n",
    "n_bkg, bins_bkg, patches_bkg = plt.hist(y_pred_prob[:,1][y_test==0], 100,  facecolor='blue', alpha=0.2,label=\"Background\")\n",
    "n_sig, bins_sig, patches_sig = plt.hist(y_pred_prob[:,1][y_test==1], 100,  facecolor='red', alpha=0.2, label=\"Signal\")\n",
    "plt.xlabel('ML output')\n",
    "plt.ylabel('Events')\n",
    "plt.yscale('log')\n",
    "plt.title('ML output, OpenData dataset, validation data')\n",
    "plt.grid(True)\n",
    "plt.legend()\n",
    "#plt.show()\n",
    "plt.savefig(\"mydist.png\")"
   ]
  },
  {
   "cell_type": "code",
   "execution_count": 51,
   "metadata": {},
   "outputs": [
    {
     "name": "stdout",
     "output_type": "stream",
     "text": [
      "0.00 = 31821245.00, 43016.00, 7.63\n",
      "0.01 = 264242.00, 37129.00, 72.23\n",
      "0.02 = 143029.00, 35142.00, 92.92\n",
      "0.03 = 99602.00, 33844.00, 107.24\n",
      "0.04 = 76268.00, 32874.00, 119.04\n",
      "0.05 = 62045.00, 32067.00, 128.74\n",
      "0.06 = 52277.00, 31400.00, 137.33\n",
      "0.07 = 44785.00, 30803.00, 145.55\n",
      "0.08 = 39332.00, 30316.00, 152.86\n",
      "0.09 = 35011.00, 29841.00, 159.48\n",
      "0.10 = 31416.00, 29421.00, 165.99\n",
      "0.11 = 28341.00, 29017.00, 172.36\n",
      "0.12 = 25919.00, 28640.00, 177.90\n",
      "0.13 = 23783.00, 28303.00, 183.53\n",
      "0.14 = 21986.00, 28000.00, 188.84\n",
      "0.15 = 20397.00, 27722.00, 194.11\n",
      "0.16 = 18837.00, 27444.00, 199.96\n",
      "0.17 = 17643.00, 27135.00, 204.29\n",
      "0.18 = 16580.00, 26878.00, 208.74\n",
      "0.19 = 15658.00, 26602.00, 212.59\n",
      "0.20 = 14712.00, 26342.00, 217.18\n",
      "0.21 = 13931.00, 26127.00, 221.36\n",
      "0.22 = 13196.00, 25896.00, 225.43\n",
      "0.23 = 12521.00, 25670.00, 229.41\n",
      "0.24 = 11963.00, 25470.00, 232.87\n",
      "0.25 = 11433.00, 25284.00, 236.46\n",
      "0.26 = 10880.00, 25055.00, 240.20\n",
      "0.27 = 10432.00, 24868.00, 243.48\n",
      "0.28 = 9932.00, 24675.00, 247.59\n",
      "0.29 = 9546.00, 24501.00, 250.77\n",
      "0.30 = 9179.00, 24333.00, 253.98\n",
      "0.31 = 8810.00, 24142.00, 257.21\n",
      "0.32 = 8458.00, 23974.00, 260.68\n",
      "0.33 = 8168.00, 23805.00, 263.40\n",
      "0.34 = 7853.00, 23624.00, 266.58\n",
      "0.35 = 7560.00, 23471.00, 269.94\n",
      "0.36 = 7278.00, 23293.00, 273.04\n",
      "0.37 = 7004.00, 23151.00, 276.63\n",
      "0.38 = 6749.00, 23011.00, 280.10\n",
      "0.39 = 6502.00, 22859.00, 283.49\n",
      "0.40 = 6262.00, 22735.00, 287.30\n",
      "0.41 = 6054.00, 22593.00, 290.37\n",
      "0.42 = 5847.00, 22455.00, 293.66\n",
      "0.43 = 5659.00, 22290.00, 296.31\n",
      "0.44 = 5467.00, 22157.00, 299.67\n",
      "0.45 = 5243.00, 21990.00, 303.69\n",
      "0.45 = 5060.00, 21859.00, 307.29\n",
      "0.46 = 4873.00, 21716.00, 311.09\n",
      "0.47 = 4678.00, 21549.00, 315.06\n",
      "0.48 = 4529.00, 21436.00, 318.52\n",
      "0.49 = 4368.00, 21275.00, 321.91\n",
      "0.50 = 4224.00, 21123.00, 325.01\n",
      "0.51 = 4092.00, 20972.00, 327.85\n",
      "0.52 = 3967.00, 20808.00, 330.37\n",
      "0.53 = 3828.00, 20659.00, 333.91\n",
      "0.54 = 3693.00, 20481.00, 337.02\n",
      "0.55 = 3548.00, 20312.00, 341.01\n",
      "0.56 = 3425.00, 20145.00, 344.22\n",
      "0.57 = 3303.00, 19998.00, 347.96\n",
      "0.58 = 3204.00, 19823.00, 350.21\n",
      "0.59 = 3080.00, 19656.00, 354.18\n",
      "0.60 = 2979.00, 19475.00, 356.81\n",
      "0.61 = 2860.00, 19332.00, 361.49\n",
      "0.62 = 2725.00, 19167.00, 367.17\n",
      "0.63 = 2632.00, 19024.00, 370.82\n",
      "0.64 = 2526.00, 18836.00, 374.78\n",
      "0.65 = 2400.00, 18686.00, 381.43\n",
      "0.66 = 2306.00, 18476.00, 384.75\n",
      "0.67 = 2203.00, 18268.00, 389.21\n",
      "0.68 = 2116.00, 18077.00, 392.98\n",
      "0.69 = 2024.00, 17873.00, 397.28\n",
      "0.70 = 1925.00, 17679.00, 402.94\n",
      "0.71 = 1854.00, 17478.00, 405.92\n",
      "0.72 = 1749.00, 17228.00, 411.95\n",
      "0.73 = 1675.00, 16979.00, 414.86\n",
      "0.74 = 1595.00, 16750.00, 419.41\n",
      "0.75 = 1528.00, 16487.00, 421.77\n",
      "0.76 = 1463.00, 16225.00, 424.19\n",
      "0.77 = 1380.00, 15939.00, 429.06\n",
      "0.78 = 1312.00, 15722.00, 434.05\n",
      "0.79 = 1239.00, 15476.00, 439.67\n",
      "0.80 = 1171.00, 15202.00, 444.24\n",
      "0.81 = 1110.00, 14909.00, 447.49\n",
      "0.82 = 1030.00, 14614.00, 455.36\n",
      "0.83 = 963.00, 14290.00, 460.49\n",
      "0.84 = 916.00, 13993.00, 462.34\n",
      "0.85 = 844.00, 13645.00, 469.68\n",
      "0.86 = 769.00, 13314.00, 480.12\n",
      "0.87 = 703.00, 12917.00, 487.17\n",
      "0.88 = 626.00, 12368.00, 494.32\n",
      "0.89 = 582.00, 11916.00, 493.93\n",
      "0.90 = 520.00, 11390.00, 499.48\n",
      "0.91 = 459.00, 10927.00, 510.03\n",
      "0.92 = 407.00, 10506.00, 520.76\n",
      "0.93 = 359.00, 9860.00, 520.39\n",
      "0.94 = 313.00, 9194.00, 519.68\n",
      "0.95 = 246.00, 8376.00, 534.03\n",
      "0.96 = 184.00, 7155.00, 527.47\n",
      "0.97 = 114.00, 6052.00, 566.82\n",
      "0.98 = 43.00, 4077.00, 621.74\n"
     ]
    }
   ],
   "source": [
    "for i in range(len(n_bkg)):\n",
    "    tot_bkg = n_bkg[i:].sum()\n",
    "    tot_sig = n_sig[i:].sum()\n",
    "    print(\"%.2f = %.2f, %.2f, %.2f\"%(bins_bkg[i],tot_bkg,tot_sig,tot_sig/np.sqrt(tot_bkg)))"
   ]
  },
  {
   "cell_type": "code",
   "execution_count": null,
   "metadata": {},
   "outputs": [],
   "source": []
  }
 ],
 "metadata": {
  "kernelspec": {
   "display_name": "Python 3 (ipykernel)",
   "language": "python",
   "name": "python3"
  },
  "language_info": {
   "codemirror_mode": {
    "name": "ipython",
    "version": 3
   },
   "file_extension": ".py",
   "mimetype": "text/x-python",
   "name": "python",
   "nbconvert_exporter": "python",
   "pygments_lexer": "ipython3",
   "version": "3.7.4"
  }
 },
 "nbformat": 4,
 "nbformat_minor": 2
}
