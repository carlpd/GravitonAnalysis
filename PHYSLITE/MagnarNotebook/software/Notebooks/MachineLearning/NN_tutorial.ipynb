{
 "cells": [
  {
   "cell_type": "markdown",
   "metadata": {},
   "source": [
    "# Neural networks tutorial"
   ]
  },
  {
   "cell_type": "markdown",
   "metadata": {},
   "source": [
    "## Introduction\n",
    "\n",
    "\n",
    "**Neural networks** are the amongst the most powerful and adaptable of the machine learning algorithms. Inspired by biology, they are formed by layers of connected **nodes**, with each connection being a **weight**. At each node, the weighted sum of the values of all of the nodes connected to it is passed through a non-linear **activation function**, and the output of this function then defines the value at that node. A single node with a set of inputs and weights and one output is known as a **perceptron** and when perceptrons are arranged into layers, with the nodes in each layer being connected to every node in the next layer, this is called a **fully connected multi-layer peceptron** (MLP). Layers of nodes between the input and output are known as **hidden layers**; an MLP with several or many hidden layers is referred to as **deep** and this leads to the concept of **deep learning**.\n",
    "\n",
    "In common with many ML algorithms, training involves adjusting the weights using gradient descent to minimize an objective function. To give the minimizer a set of gradients which it can use for the weight adjstment, a process called **back-propagation** calculates the gradients of the objective function with respect to each weight. Neural network training proceeds as follows:\n",
    "\n",
    " * Weights are initially randomized\n",
    " * Pass each event through the network (feed forward) arriving at a result\n",
    " * Compare with the target using some loss function, arriving at some error\n",
    " * Propagate this error backwards through the network, node by node and layer by layer, until each node has its own contribution to the overall error\n",
    " * Use these errors to calculate the partial derivatives of the loss function w.r.t. the weight at each neuron (gradients), by recursively applying the chain rule for derivatives\n",
    " * Use gradient descent to minimise the loss, which it does by updating the weights\n",
    " * New examples are then passed through the trained network with the weights fixed. \n",
    "\n",
    "Note that back-propagation is not the entire training procedure for a neural network - it sets up the gradient through calculation of the derivatives but the training is completed by the minimisation of this function via weight adjustment.\n",
    "\n",
    "An **epoch** is a single pass through all of the training data. Training over 100 epochs means the networks sees the training data, in full, 100 times. In **stochastic training** each new event leads to a weight update; this is noisier so less likely to fall into local minima during minimization. In **batch training** weights are only updated after a large number of events have been fed forwards, with the errors accumulating; this is faster but uses more memory. **Mini-batch** training is a compromise between the two, with small batches being selected at random from the full sample.\n",
    "\n",
    "Neural networks have a huge variety of hyperparameters. Aside from the size and shape of the network (number of hidden layers and the number of nodes in the different layers) there are also a wide range of regularisation techniques to avoid over-training (including **weight decay**, **dropout**, **momentum** and **early stopping**). There are also many choices that can be made in terms of the activation function in each layer. Taken together, this variety make neural networks hugely powerful and flexible but also challenging to optimally apply to a problem.    \n",
    "\n",
    "MLPs require the input data to be rectagular, that is, each event must have the same number of variables and each variable must be defined. For data that doesn't conform to this, there are several architectual variations, designed for specific types of data, that shape the data into a form that can be ingested by an MLP. These include **comvolutional networks** for images, **recurrent networks** for time sequences and **graph networks** for data organised as connected graphs. Each of these types requires significant additional expertise to get the best performance.\n",
    "\n",
    "For more information on neural networks, please refer to the slides delivered as part of FYS5555. For an in-depth review of the topic, the (free) online [Deep Learning Book](https://www.deeplearningbook.org) is an excellent and thorough guide.\n",
    "\n"
   ]
  },
  {
   "cell_type": "markdown",
   "metadata": {},
   "source": [
    "## Getting started\n",
    "\n",
    "In this tutorial you will build a neural network and apply it to the same dataset as was used in the BDT tutorial - the Higgs ML Challenge dataset. It will follow closely the structure of the BDT tutorial and assumes that you have completed this earlier part.\n",
    "\n",
    "If you are using the Oslo Galaxy service there is no need to install any software. If you are using your own computer, you should follow the installation instructions in the README of this package. \n",
    "\n",
    "Throughout we will use [Keras](https://keras.io) - a package for building neural network models, which is implemented in Google's TensorFlow framework\n",
    "\n",
    "We will use data internally generated by SciKitLearn as well as data from the [Open Data Portal](http://opendata.cern.ch)\n",
    "\n",
    "Before starting anything else, you check that everything is working correctly by running the cell immediately below..."
   ]
  },
  {
   "cell_type": "code",
   "execution_count": 1,
   "metadata": {},
   "outputs": [
    {
     "name": "stderr",
     "output_type": "stream",
     "text": [
      "2023-04-18 21:24:44.250736: I tensorflow/core/platform/cpu_feature_guard.cc:193] This TensorFlow binary is optimized with oneAPI Deep Neural Network Library (oneDNN) to use the following CPU instructions in performance-critical operations:  SSE4.1 SSE4.2\n",
      "To enable them in other operations, rebuild TensorFlow with the appropriate compiler flags.\n"
     ]
    }
   ],
   "source": [
    "# Import of required packages\n",
    "import tensorflow as tf\n",
    "import numpy as np\n",
    "import pandas as pd\n",
    "from tensorflow import keras\n",
    "from tensorflow.keras import layers\n",
    "from tensorflow.keras.layers import Normalization\n",
    "import matplotlib.pyplot as plt\n",
    "import matplotlib\n",
    "# Preliminaries ensuring the plots aren't too small\n",
    "matplotlib.rcParams.update({'font.size': 20})\n",
    "fig_size = plt.rcParams[\"figure.figsize\"]\n",
    "fig_size[0] = 15\n",
    "fig_size[1] = 8\n",
    "plt.rcParams[\"figure.figsize\"] = fig_size"
   ]
  },
  {
   "cell_type": "markdown",
   "metadata": {
    "collapsed": true
   },
   "source": [
    "## Using the HiggsML dataset\n",
    "\n",
    "In this section we will apply a neural network to a \"real\" dataset from the OpenData Portal - the [HiggsML dataset](http://opendata.cern.ch/record/328). This is simulated data that was used for the HiggsML Challenge some years ago (and in fact, XGBoost won the challenge). The dataset is in plain text format and consists of columns of physics quantities plus a label indicating whether the event (row) is signal or background. The signal is the challenging H$\\to\\tau\\tau$ decay. \n",
    "\n",
    "We will first use Pandas to extract the information from the plain text file, and then apply XGBoost to it. We will study some of the BDT properties along the way.\n",
    "\n",
    "First take a look at the documentation accompanying the HiggsML challenge. In particular pay particular attention to the list of variables. Note two things in particular:\n",
    "* Apart from the columns defining event weights and other supplementary information, the variable names begin either with \"PRI\" or \"DER\". This stands for \"primary\" (variables directly representing a reconstructed object like a track or jet) and \"derived\" (variables calculated from reconstructed objects, that impose additional knowledge of physics\n",
    "* Some of the variables can only be defined when certain reconstructed objects exist: for instance, if there are no jets then `PRI_jet_leading_pt` cannot be defined since there is no leading jet. In the HiggsML dataset such entries are set to `-999.9` to indicate that the variable doesn't exist for this event. Such undefined variables are very troublesome for many machine learning algorithms and must be preprocessed away beforehand - but they present no problem for BDTs. All you have to do is tell the algorithm that any value with `-999.0` should be ignored, and if it needs to cut on these variables, it just assigns the events where the variable is missing to one leaf or the other, according to some criteria.\n",
    "\n",
    "### Using Pandas to extract the data\n",
    "\n",
    "**Try it out**: download the comma-separated-values data file from the above link, extract (uncompress) it and place it in the same directory as this notebook (some operating systems, e.g. macOS, may do the extraction automatically on download). Then, import the data with the columnnar-data handling package [Pandas](https://pandas.pydata.org), which ships with Anaconda. Plot some (maybe all) of the different values. Then create the data samples."
   ]
  },
  {
   "cell_type": "code",
   "execution_count": 2,
   "metadata": {},
   "outputs": [
    {
     "data": {
      "text/html": [
       "<div>\n",
       "<style scoped>\n",
       "    .dataframe tbody tr th:only-of-type {\n",
       "        vertical-align: middle;\n",
       "    }\n",
       "\n",
       "    .dataframe tbody tr th {\n",
       "        vertical-align: top;\n",
       "    }\n",
       "\n",
       "    .dataframe thead th {\n",
       "        text-align: right;\n",
       "    }\n",
       "</style>\n",
       "<table border=\"1\" class=\"dataframe\">\n",
       "  <thead>\n",
       "    <tr style=\"text-align: right;\">\n",
       "      <th></th>\n",
       "      <th>EventId</th>\n",
       "      <th>DER_mass_MMC</th>\n",
       "      <th>DER_mass_transverse_met_lep</th>\n",
       "      <th>DER_mass_vis</th>\n",
       "      <th>DER_pt_h</th>\n",
       "      <th>DER_deltaeta_jet_jet</th>\n",
       "      <th>DER_mass_jet_jet</th>\n",
       "      <th>DER_prodeta_jet_jet</th>\n",
       "      <th>DER_deltar_tau_lep</th>\n",
       "      <th>DER_pt_tot</th>\n",
       "      <th>...</th>\n",
       "      <th>PRI_jet_leading_eta</th>\n",
       "      <th>PRI_jet_leading_phi</th>\n",
       "      <th>PRI_jet_subleading_pt</th>\n",
       "      <th>PRI_jet_subleading_eta</th>\n",
       "      <th>PRI_jet_subleading_phi</th>\n",
       "      <th>PRI_jet_all_pt</th>\n",
       "      <th>Weight</th>\n",
       "      <th>Label</th>\n",
       "      <th>KaggleSet</th>\n",
       "      <th>KaggleWeight</th>\n",
       "    </tr>\n",
       "  </thead>\n",
       "  <tbody>\n",
       "    <tr>\n",
       "      <th>0</th>\n",
       "      <td>100000</td>\n",
       "      <td>138.470</td>\n",
       "      <td>51.655</td>\n",
       "      <td>97.827</td>\n",
       "      <td>27.980</td>\n",
       "      <td>0.91</td>\n",
       "      <td>124.711</td>\n",
       "      <td>2.666</td>\n",
       "      <td>3.064</td>\n",
       "      <td>41.928</td>\n",
       "      <td>...</td>\n",
       "      <td>2.150</td>\n",
       "      <td>0.444</td>\n",
       "      <td>46.062</td>\n",
       "      <td>1.24</td>\n",
       "      <td>-2.475</td>\n",
       "      <td>113.497</td>\n",
       "      <td>0.000814</td>\n",
       "      <td>s</td>\n",
       "      <td>t</td>\n",
       "      <td>0.002653</td>\n",
       "    </tr>\n",
       "    <tr>\n",
       "      <th>1</th>\n",
       "      <td>100001</td>\n",
       "      <td>160.937</td>\n",
       "      <td>68.768</td>\n",
       "      <td>103.235</td>\n",
       "      <td>48.146</td>\n",
       "      <td>-999.00</td>\n",
       "      <td>-999.000</td>\n",
       "      <td>-999.000</td>\n",
       "      <td>3.473</td>\n",
       "      <td>2.078</td>\n",
       "      <td>...</td>\n",
       "      <td>0.725</td>\n",
       "      <td>1.158</td>\n",
       "      <td>-999.000</td>\n",
       "      <td>-999.00</td>\n",
       "      <td>-999.000</td>\n",
       "      <td>46.226</td>\n",
       "      <td>0.681042</td>\n",
       "      <td>b</td>\n",
       "      <td>t</td>\n",
       "      <td>2.233584</td>\n",
       "    </tr>\n",
       "    <tr>\n",
       "      <th>2</th>\n",
       "      <td>100002</td>\n",
       "      <td>-999.000</td>\n",
       "      <td>162.172</td>\n",
       "      <td>125.953</td>\n",
       "      <td>35.635</td>\n",
       "      <td>-999.00</td>\n",
       "      <td>-999.000</td>\n",
       "      <td>-999.000</td>\n",
       "      <td>3.148</td>\n",
       "      <td>9.336</td>\n",
       "      <td>...</td>\n",
       "      <td>2.053</td>\n",
       "      <td>-2.028</td>\n",
       "      <td>-999.000</td>\n",
       "      <td>-999.00</td>\n",
       "      <td>-999.000</td>\n",
       "      <td>44.251</td>\n",
       "      <td>0.715742</td>\n",
       "      <td>b</td>\n",
       "      <td>t</td>\n",
       "      <td>2.347389</td>\n",
       "    </tr>\n",
       "    <tr>\n",
       "      <th>3</th>\n",
       "      <td>100003</td>\n",
       "      <td>143.905</td>\n",
       "      <td>81.417</td>\n",
       "      <td>80.943</td>\n",
       "      <td>0.414</td>\n",
       "      <td>-999.00</td>\n",
       "      <td>-999.000</td>\n",
       "      <td>-999.000</td>\n",
       "      <td>3.310</td>\n",
       "      <td>0.414</td>\n",
       "      <td>...</td>\n",
       "      <td>-999.000</td>\n",
       "      <td>-999.000</td>\n",
       "      <td>-999.000</td>\n",
       "      <td>-999.00</td>\n",
       "      <td>-999.000</td>\n",
       "      <td>-0.000</td>\n",
       "      <td>1.660654</td>\n",
       "      <td>b</td>\n",
       "      <td>t</td>\n",
       "      <td>5.446378</td>\n",
       "    </tr>\n",
       "    <tr>\n",
       "      <th>4</th>\n",
       "      <td>100004</td>\n",
       "      <td>175.864</td>\n",
       "      <td>16.915</td>\n",
       "      <td>134.805</td>\n",
       "      <td>16.405</td>\n",
       "      <td>-999.00</td>\n",
       "      <td>-999.000</td>\n",
       "      <td>-999.000</td>\n",
       "      <td>3.891</td>\n",
       "      <td>16.405</td>\n",
       "      <td>...</td>\n",
       "      <td>-999.000</td>\n",
       "      <td>-999.000</td>\n",
       "      <td>-999.000</td>\n",
       "      <td>-999.00</td>\n",
       "      <td>-999.000</td>\n",
       "      <td>0.000</td>\n",
       "      <td>1.904263</td>\n",
       "      <td>b</td>\n",
       "      <td>t</td>\n",
       "      <td>6.245333</td>\n",
       "    </tr>\n",
       "  </tbody>\n",
       "</table>\n",
       "<p>5 rows × 35 columns</p>\n",
       "</div>"
      ],
      "text/plain": [
       "   EventId  DER_mass_MMC  DER_mass_transverse_met_lep  DER_mass_vis  DER_pt_h  \\\n",
       "0   100000       138.470                       51.655        97.827    27.980   \n",
       "1   100001       160.937                       68.768       103.235    48.146   \n",
       "2   100002      -999.000                      162.172       125.953    35.635   \n",
       "3   100003       143.905                       81.417        80.943     0.414   \n",
       "4   100004       175.864                       16.915       134.805    16.405   \n",
       "\n",
       "   DER_deltaeta_jet_jet  DER_mass_jet_jet  DER_prodeta_jet_jet  \\\n",
       "0                  0.91           124.711                2.666   \n",
       "1               -999.00          -999.000             -999.000   \n",
       "2               -999.00          -999.000             -999.000   \n",
       "3               -999.00          -999.000             -999.000   \n",
       "4               -999.00          -999.000             -999.000   \n",
       "\n",
       "   DER_deltar_tau_lep  DER_pt_tot  ...  PRI_jet_leading_eta  \\\n",
       "0               3.064      41.928  ...                2.150   \n",
       "1               3.473       2.078  ...                0.725   \n",
       "2               3.148       9.336  ...                2.053   \n",
       "3               3.310       0.414  ...             -999.000   \n",
       "4               3.891      16.405  ...             -999.000   \n",
       "\n",
       "   PRI_jet_leading_phi  PRI_jet_subleading_pt  PRI_jet_subleading_eta  \\\n",
       "0                0.444                 46.062                    1.24   \n",
       "1                1.158               -999.000                 -999.00   \n",
       "2               -2.028               -999.000                 -999.00   \n",
       "3             -999.000               -999.000                 -999.00   \n",
       "4             -999.000               -999.000                 -999.00   \n",
       "\n",
       "   PRI_jet_subleading_phi  PRI_jet_all_pt    Weight  Label  KaggleSet  \\\n",
       "0                  -2.475         113.497  0.000814      s          t   \n",
       "1                -999.000          46.226  0.681042      b          t   \n",
       "2                -999.000          44.251  0.715742      b          t   \n",
       "3                -999.000          -0.000  1.660654      b          t   \n",
       "4                -999.000           0.000  1.904263      b          t   \n",
       "\n",
       "   KaggleWeight  \n",
       "0      0.002653  \n",
       "1      2.233584  \n",
       "2      2.347389  \n",
       "3      5.446378  \n",
       "4      6.245333  \n",
       "\n",
       "[5 rows x 35 columns]"
      ]
     },
     "execution_count": 2,
     "metadata": {},
     "output_type": "execute_result"
    }
   ],
   "source": [
    "# Import the Pandas package\n",
    "import pandas as pd\n",
    "# Import the HiggsML dataset\n",
    "df = pd.read_csv(\"/storage/shared/data/fys5555/higgsch/atlas-higgs-challenge-2014-v2.csv\") #,usecols=variables)\n",
    "#df = pd.read_csv(\"/Users/jamesrc/cernbox/FYS5555/atlas-higgs-challenge-2014-v2.csv\")\n",
    "# Take a look at the first five rows (events) of the resulting Pandas dataframe\n",
    "df.head()"
   ]
  },
  {
   "cell_type": "code",
   "execution_count": 3,
   "metadata": {},
   "outputs": [
    {
     "data": {
      "text/html": [
       "<div>\n",
       "<style scoped>\n",
       "    .dataframe tbody tr th:only-of-type {\n",
       "        vertical-align: middle;\n",
       "    }\n",
       "\n",
       "    .dataframe tbody tr th {\n",
       "        vertical-align: top;\n",
       "    }\n",
       "\n",
       "    .dataframe thead th {\n",
       "        text-align: right;\n",
       "    }\n",
       "</style>\n",
       "<table border=\"1\" class=\"dataframe\">\n",
       "  <thead>\n",
       "    <tr style=\"text-align: right;\">\n",
       "      <th></th>\n",
       "      <th>EventId</th>\n",
       "      <th>DER_mass_MMC</th>\n",
       "      <th>DER_mass_transverse_met_lep</th>\n",
       "      <th>DER_mass_vis</th>\n",
       "      <th>DER_pt_h</th>\n",
       "      <th>DER_deltaeta_jet_jet</th>\n",
       "      <th>DER_mass_jet_jet</th>\n",
       "      <th>DER_prodeta_jet_jet</th>\n",
       "      <th>DER_deltar_tau_lep</th>\n",
       "      <th>DER_pt_tot</th>\n",
       "      <th>...</th>\n",
       "      <th>PRI_jet_leading_eta</th>\n",
       "      <th>PRI_jet_leading_phi</th>\n",
       "      <th>PRI_jet_subleading_pt</th>\n",
       "      <th>PRI_jet_subleading_eta</th>\n",
       "      <th>PRI_jet_subleading_phi</th>\n",
       "      <th>PRI_jet_all_pt</th>\n",
       "      <th>Weight</th>\n",
       "      <th>Label</th>\n",
       "      <th>KaggleSet</th>\n",
       "      <th>KaggleWeight</th>\n",
       "    </tr>\n",
       "  </thead>\n",
       "  <tbody>\n",
       "    <tr>\n",
       "      <th>0</th>\n",
       "      <td>100000</td>\n",
       "      <td>138.470</td>\n",
       "      <td>51.655</td>\n",
       "      <td>97.827</td>\n",
       "      <td>27.980</td>\n",
       "      <td>0.91</td>\n",
       "      <td>124.711</td>\n",
       "      <td>2.666</td>\n",
       "      <td>3.064</td>\n",
       "      <td>41.928</td>\n",
       "      <td>...</td>\n",
       "      <td>2.150</td>\n",
       "      <td>0.444</td>\n",
       "      <td>46.062</td>\n",
       "      <td>1.24</td>\n",
       "      <td>-2.475</td>\n",
       "      <td>113.497</td>\n",
       "      <td>0.000814</td>\n",
       "      <td>1</td>\n",
       "      <td>t</td>\n",
       "      <td>0.002653</td>\n",
       "    </tr>\n",
       "    <tr>\n",
       "      <th>1</th>\n",
       "      <td>100001</td>\n",
       "      <td>160.937</td>\n",
       "      <td>68.768</td>\n",
       "      <td>103.235</td>\n",
       "      <td>48.146</td>\n",
       "      <td>-999.00</td>\n",
       "      <td>-999.000</td>\n",
       "      <td>-999.000</td>\n",
       "      <td>3.473</td>\n",
       "      <td>2.078</td>\n",
       "      <td>...</td>\n",
       "      <td>0.725</td>\n",
       "      <td>1.158</td>\n",
       "      <td>-999.000</td>\n",
       "      <td>-999.00</td>\n",
       "      <td>-999.000</td>\n",
       "      <td>46.226</td>\n",
       "      <td>0.681042</td>\n",
       "      <td>0</td>\n",
       "      <td>t</td>\n",
       "      <td>2.233584</td>\n",
       "    </tr>\n",
       "    <tr>\n",
       "      <th>2</th>\n",
       "      <td>100002</td>\n",
       "      <td>-999.000</td>\n",
       "      <td>162.172</td>\n",
       "      <td>125.953</td>\n",
       "      <td>35.635</td>\n",
       "      <td>-999.00</td>\n",
       "      <td>-999.000</td>\n",
       "      <td>-999.000</td>\n",
       "      <td>3.148</td>\n",
       "      <td>9.336</td>\n",
       "      <td>...</td>\n",
       "      <td>2.053</td>\n",
       "      <td>-2.028</td>\n",
       "      <td>-999.000</td>\n",
       "      <td>-999.00</td>\n",
       "      <td>-999.000</td>\n",
       "      <td>44.251</td>\n",
       "      <td>0.715742</td>\n",
       "      <td>0</td>\n",
       "      <td>t</td>\n",
       "      <td>2.347389</td>\n",
       "    </tr>\n",
       "    <tr>\n",
       "      <th>3</th>\n",
       "      <td>100003</td>\n",
       "      <td>143.905</td>\n",
       "      <td>81.417</td>\n",
       "      <td>80.943</td>\n",
       "      <td>0.414</td>\n",
       "      <td>-999.00</td>\n",
       "      <td>-999.000</td>\n",
       "      <td>-999.000</td>\n",
       "      <td>3.310</td>\n",
       "      <td>0.414</td>\n",
       "      <td>...</td>\n",
       "      <td>-999.000</td>\n",
       "      <td>-999.000</td>\n",
       "      <td>-999.000</td>\n",
       "      <td>-999.00</td>\n",
       "      <td>-999.000</td>\n",
       "      <td>-0.000</td>\n",
       "      <td>1.660654</td>\n",
       "      <td>0</td>\n",
       "      <td>t</td>\n",
       "      <td>5.446378</td>\n",
       "    </tr>\n",
       "    <tr>\n",
       "      <th>4</th>\n",
       "      <td>100004</td>\n",
       "      <td>175.864</td>\n",
       "      <td>16.915</td>\n",
       "      <td>134.805</td>\n",
       "      <td>16.405</td>\n",
       "      <td>-999.00</td>\n",
       "      <td>-999.000</td>\n",
       "      <td>-999.000</td>\n",
       "      <td>3.891</td>\n",
       "      <td>16.405</td>\n",
       "      <td>...</td>\n",
       "      <td>-999.000</td>\n",
       "      <td>-999.000</td>\n",
       "      <td>-999.000</td>\n",
       "      <td>-999.00</td>\n",
       "      <td>-999.000</td>\n",
       "      <td>0.000</td>\n",
       "      <td>1.904263</td>\n",
       "      <td>0</td>\n",
       "      <td>t</td>\n",
       "      <td>6.245333</td>\n",
       "    </tr>\n",
       "  </tbody>\n",
       "</table>\n",
       "<p>5 rows × 35 columns</p>\n",
       "</div>"
      ],
      "text/plain": [
       "   EventId  DER_mass_MMC  DER_mass_transverse_met_lep  DER_mass_vis  DER_pt_h  \\\n",
       "0   100000       138.470                       51.655        97.827    27.980   \n",
       "1   100001       160.937                       68.768       103.235    48.146   \n",
       "2   100002      -999.000                      162.172       125.953    35.635   \n",
       "3   100003       143.905                       81.417        80.943     0.414   \n",
       "4   100004       175.864                       16.915       134.805    16.405   \n",
       "\n",
       "   DER_deltaeta_jet_jet  DER_mass_jet_jet  DER_prodeta_jet_jet  \\\n",
       "0                  0.91           124.711                2.666   \n",
       "1               -999.00          -999.000             -999.000   \n",
       "2               -999.00          -999.000             -999.000   \n",
       "3               -999.00          -999.000             -999.000   \n",
       "4               -999.00          -999.000             -999.000   \n",
       "\n",
       "   DER_deltar_tau_lep  DER_pt_tot  ...  PRI_jet_leading_eta  \\\n",
       "0               3.064      41.928  ...                2.150   \n",
       "1               3.473       2.078  ...                0.725   \n",
       "2               3.148       9.336  ...                2.053   \n",
       "3               3.310       0.414  ...             -999.000   \n",
       "4               3.891      16.405  ...             -999.000   \n",
       "\n",
       "   PRI_jet_leading_phi  PRI_jet_subleading_pt  PRI_jet_subleading_eta  \\\n",
       "0                0.444                 46.062                    1.24   \n",
       "1                1.158               -999.000                 -999.00   \n",
       "2               -2.028               -999.000                 -999.00   \n",
       "3             -999.000               -999.000                 -999.00   \n",
       "4             -999.000               -999.000                 -999.00   \n",
       "\n",
       "   PRI_jet_subleading_phi  PRI_jet_all_pt    Weight  Label  KaggleSet  \\\n",
       "0                  -2.475         113.497  0.000814      1          t   \n",
       "1                -999.000          46.226  0.681042      0          t   \n",
       "2                -999.000          44.251  0.715742      0          t   \n",
       "3                -999.000          -0.000  1.660654      0          t   \n",
       "4                -999.000           0.000  1.904263      0          t   \n",
       "\n",
       "   KaggleWeight  \n",
       "0      0.002653  \n",
       "1      2.233584  \n",
       "2      2.347389  \n",
       "3      5.446378  \n",
       "4      6.245333  \n",
       "\n",
       "[5 rows x 35 columns]"
      ]
     },
     "execution_count": 3,
     "metadata": {},
     "output_type": "execute_result"
    }
   ],
   "source": [
    "# Turn the signal and background labels into 0s and 1s\n",
    "df.Label = df.Label.replace('s',1) \n",
    "df.Label = df.Label.replace('b',0) \n",
    "df.head()"
   ]
  },
  {
   "cell_type": "code",
   "execution_count": 4,
   "metadata": {},
   "outputs": [
    {
     "name": "stdout",
     "output_type": "stream",
     "text": [
      "EventId                          int64\n",
      "DER_mass_MMC                   float64\n",
      "DER_mass_transverse_met_lep    float64\n",
      "DER_mass_vis                   float64\n",
      "DER_pt_h                       float64\n",
      "DER_deltaeta_jet_jet           float64\n",
      "DER_mass_jet_jet               float64\n",
      "DER_prodeta_jet_jet            float64\n",
      "DER_deltar_tau_lep             float64\n",
      "DER_pt_tot                     float64\n",
      "DER_sum_pt                     float64\n",
      "DER_pt_ratio_lep_tau           float64\n",
      "DER_met_phi_centrality         float64\n",
      "DER_lep_eta_centrality         float64\n",
      "PRI_tau_pt                     float64\n",
      "PRI_tau_eta                    float64\n",
      "PRI_tau_phi                    float64\n",
      "PRI_lep_pt                     float64\n",
      "PRI_lep_eta                    float64\n",
      "PRI_lep_phi                    float64\n",
      "PRI_met                        float64\n",
      "PRI_met_phi                    float64\n",
      "PRI_met_sumet                  float64\n",
      "PRI_jet_num                      int64\n",
      "PRI_jet_leading_pt             float64\n",
      "PRI_jet_leading_eta            float64\n",
      "PRI_jet_leading_phi            float64\n",
      "PRI_jet_subleading_pt          float64\n",
      "PRI_jet_subleading_eta         float64\n",
      "PRI_jet_subleading_phi         float64\n",
      "PRI_jet_all_pt                 float64\n",
      "Weight                         float64\n",
      "Label                            int64\n",
      "KaggleSet                       object\n",
      "KaggleWeight                   float64\n",
      "dtype: object\n"
     ]
    }
   ],
   "source": [
    "# Get the full list of variable names\n",
    "print(df.dtypes)"
   ]
  },
  {
   "cell_type": "code",
   "execution_count": 5,
   "metadata": {},
   "outputs": [
    {
     "data": {
      "image/png": "[encoded data removed]",
      "text/plain": [
       "<Figure size 432x288 with 1 Axes>"
      ]
     },
     "metadata": {
      "needs_background": "light"
     },
     "output_type": "display_data"
    }
   ],
   "source": [
    "# Inspect some (or all...) of the columns using the names printed in the above cell\n",
    "variable = 'DER_mass_transverse_met_lep' \n",
    "hist = df[variable].hist(bins=100)\n",
    "hist.set_xlabel('DER_mass_transverse_met_lep')\n",
    "plt.show()"
   ]
  },
  {
   "cell_type": "code",
   "execution_count": 6,
   "metadata": {},
   "outputs": [
    {
     "name": "stdout",
     "output_type": "stream",
     "text": [
      "Using 130918 samples for training and 32730 for validation; 654590 available for evaluation\n"
     ]
    }
   ],
   "source": [
    "# Split the data into training, validation and evaluation sets\n",
    "# Note that the validation set here isn't used for hyperparameter tuning but for monitoring accuracy\n",
    "drop = [\"Weight\",\"KaggleSet\",\"KaggleWeight\",\"EventId\"] # Remove features that shouldn't be used in training\n",
    "eval_dataframe = df.drop(drop,axis=1).sample(frac=0.8, random_state=1337)\n",
    "trainval_dataframe = df.drop(drop,axis=1).drop(eval_dataframe.index)\n",
    "val_dataframe = trainval_dataframe.sample(frac=0.2, random_state=1245)\n",
    "train_dataframe = trainval_dataframe.drop(val_dataframe.index)\n",
    "\n",
    "print(\n",
    "    \"Using %d samples for training and %d for validation; %d available for evaluation\"\n",
    "    % (len(train_dataframe), len(val_dataframe), len(eval_dataframe))\n",
    ")\n"
   ]
  },
  {
   "cell_type": "code",
   "execution_count": 7,
   "metadata": {},
   "outputs": [
    {
     "name": "stderr",
     "output_type": "stream",
     "text": [
      "2023-04-18 21:25:06.217115: I tensorflow/core/platform/cpu_feature_guard.cc:193] This TensorFlow binary is optimized with oneAPI Deep Neural Network Library (oneDNN) to use the following CPU instructions in performance-critical operations:  SSE4.1 SSE4.2\n",
      "To enable them in other operations, rebuild TensorFlow with the appropriate compiler flags.\n"
     ]
    }
   ],
   "source": [
    "# Prepare keras datasets\n",
    "def dataframe_to_dataset(dataframe):\n",
    "    dataframe = dataframe.copy()\n",
    "    labels = dataframe.pop(\"Label\") # This tells the model what the targets are\n",
    "    ds = tf.data.Dataset.from_tensor_slices((dict(dataframe), labels))\n",
    "    #ds = ds.shuffle(buffer_size=len(dataframe))\n",
    "    return ds\n",
    "\n",
    "\n",
    "train_ds = dataframe_to_dataset(train_dataframe).batch(32)\n",
    "val_ds = dataframe_to_dataset(val_dataframe).batch(32)"
   ]
  },
  {
   "cell_type": "markdown",
   "metadata": {},
   "source": [
    "### Normalizing the data\n",
    "\n",
    "Unlike BDTs, but in common with most ML algorithms, neural networks must be passed **normalized** data. This can be easily done using a Keras tools as shown in the cell below. Note that the scaling transformation derived from the training data must also be applied to the test and evaluation data as well, since to do otherwise would run the risk of imposing skews which could lead to unpredicatable results.\n"
   ]
  },
  {
   "cell_type": "code",
   "execution_count": 8,
   "metadata": {},
   "outputs": [],
   "source": [
    "# Function for normalising numerical features\n",
    "def encode_numerical_feature(feature, name, dataset):\n",
    "    # Create a Normalization layer for our feature\n",
    "    normalizer = Normalization()\n",
    "\n",
    "    # Prepare a Dataset that only yields our feature\n",
    "    feature_ds = dataset.map(lambda x, y: x[name])\n",
    "    feature_ds = feature_ds.map(lambda x: tf.expand_dims(x, -1))\n",
    "\n",
    "    # Learn the statistics of the data\n",
    "    normalizer.adapt(feature_ds)\n",
    "\n",
    "    # Normalize the input feature\n",
    "    encoded_feature = normalizer(feature)\n",
    "    return encoded_feature"
   ]
  },
  {
   "cell_type": "markdown",
   "metadata": {},
   "source": [
    "### Building the neural network model\n",
    "\n",
    "We're now ready to start constructing the neural network. First we build up the features one at a time, applying the normalization as we proceed. "
   ]
  },
  {
   "cell_type": "code",
   "execution_count": 9,
   "metadata": {},
   "outputs": [],
   "source": [
    "numerical_features = {}\n",
    "numerical_features_encoded = {}\n",
    "for name in df.drop(drop+[\"Label\"], axis=1).columns:\n",
    "    numerical_features[name] = keras.Input(shape=(1,), name=name)\n",
    "    numerical_features_encoded[name] = encode_numerical_feature(numerical_features[name], name, train_ds)\n",
    "all_inputs = list(numerical_features.values())\n",
    "all_features = layers.concatenate(list(numerical_features_encoded.values()))"
   ]
  },
  {
   "cell_type": "markdown",
   "metadata": {},
   "source": [
    "Now we can build the neural network itself. Here we have a single hidden layer with 30 nodes (one per input) and rectified linear activation. The output layer is a single sigmoid node."
   ]
  },
  {
   "cell_type": "code",
   "execution_count": 11,
   "metadata": {},
   "outputs": [],
   "source": [
    "# Build the neural network. \n",
    "x = layers.Dense(30, activation=\"relu\")(all_features)\n",
    "x = layers.Dropout(0.5)(x) # This is a regularisation setting\n",
    "output = layers.Dense(1, activation=\"sigmoid\")(x)\n",
    "model = keras.Model(all_inputs, output)\n",
    "model.compile(\"adam\", \"binary_crossentropy\", metrics=[\"accuracy\"]) \n",
    "# Hyperparemetrs: \"adam\" - gradient descent algorithm; \"binary_crossentropy\" - loss function measure"
   ]
  },
  {
   "cell_type": "code",
   "execution_count": 12,
   "metadata": {},
   "outputs": [
    {
     "name": "stdout",
     "output_type": "stream",
     "text": [
      "You must install pydot (`pip install pydot`) and install graphviz (see instructions at https://graphviz.gitlab.io/download/) for plot_model to work.\n"
     ]
    }
   ],
   "source": [
    "# `rankdir='LR'` is to make the graph horizontal.\n",
    "keras.utils.plot_model(model, show_shapes=True, rankdir=\"LR\")"
   ]
  },
  {
   "cell_type": "markdown",
   "metadata": {},
   "source": [
    "Now we're ready to run the training..."
   ]
  },
  {
   "cell_type": "code",
   "execution_count": 13,
   "metadata": {},
   "outputs": [
    {
     "name": "stdout",
     "output_type": "stream",
     "text": [
      "Epoch 1/50\n",
      "4092/4092 [==============================] - 8s 2ms/step - loss: 0.4910 - accuracy: 0.7618 - val_loss: 0.4264 - val_accuracy: 0.8075\n",
      "Epoch 2/50\n",
      "4092/4092 [==============================] - 7s 2ms/step - loss: 0.4487 - accuracy: 0.7945 - val_loss: 0.4184 - val_accuracy: 0.8119\n",
      "Epoch 3/50\n",
      "4092/4092 [==============================] - 7s 2ms/step - loss: 0.4430 - accuracy: 0.7990 - val_loss: 0.4151 - val_accuracy: 0.8140\n",
      "Epoch 4/50\n",
      "4092/4092 [==============================] - 7s 2ms/step - loss: 0.4402 - accuracy: 0.7997 - val_loss: 0.4108 - val_accuracy: 0.8159\n",
      "Epoch 5/50\n",
      "4092/4092 [==============================] - 7s 2ms/step - loss: 0.4390 - accuracy: 0.8016 - val_loss: 0.4109 - val_accuracy: 0.8167\n",
      "Epoch 6/50\n",
      "4092/4092 [==============================] - 7s 2ms/step - loss: 0.4377 - accuracy: 0.8031 - val_loss: 0.4072 - val_accuracy: 0.8177\n",
      "Epoch 7/50\n",
      "4092/4092 [==============================] - 7s 2ms/step - loss: 0.4374 - accuracy: 0.8038 - val_loss: 0.4071 - val_accuracy: 0.8180\n",
      "Epoch 8/50\n",
      "4092/4092 [==============================] - 7s 2ms/step - loss: 0.4360 - accuracy: 0.8041 - val_loss: 0.4054 - val_accuracy: 0.8185\n",
      "Epoch 9/50\n",
      "4092/4092 [==============================] - 7s 2ms/step - loss: 0.4348 - accuracy: 0.8050 - val_loss: 0.4055 - val_accuracy: 0.8191\n",
      "Epoch 10/50\n",
      "4092/4092 [==============================] - 7s 2ms/step - loss: 0.4344 - accuracy: 0.8052 - val_loss: 0.4049 - val_accuracy: 0.8185\n",
      "Epoch 11/50\n",
      "4092/4092 [==============================] - 7s 2ms/step - loss: 0.4349 - accuracy: 0.8041 - val_loss: 0.4044 - val_accuracy: 0.8189\n",
      "Epoch 12/50\n",
      "4092/4092 [==============================] - 7s 2ms/step - loss: 0.4337 - accuracy: 0.8058 - val_loss: 0.4049 - val_accuracy: 0.8193\n",
      "Epoch 13/50\n",
      "4092/4092 [==============================] - 7s 2ms/step - loss: 0.4338 - accuracy: 0.8053 - val_loss: 0.4038 - val_accuracy: 0.8190\n",
      "Epoch 14/50\n",
      "4092/4092 [==============================] - 7s 2ms/step - loss: 0.4319 - accuracy: 0.8067 - val_loss: 0.4036 - val_accuracy: 0.8187\n",
      "Epoch 15/50\n",
      "4092/4092 [==============================] - 7s 2ms/step - loss: 0.4316 - accuracy: 0.8061 - val_loss: 0.4047 - val_accuracy: 0.8200\n",
      "Epoch 16/50\n",
      "4092/4092 [==============================] - 7s 2ms/step - loss: 0.4324 - accuracy: 0.8062 - val_loss: 0.4042 - val_accuracy: 0.8197\n",
      "Epoch 17/50\n",
      "4092/4092 [==============================] - 7s 2ms/step - loss: 0.4326 - accuracy: 0.8060 - val_loss: 0.4028 - val_accuracy: 0.8197\n",
      "Epoch 18/50\n",
      "4092/4092 [==============================] - 7s 2ms/step - loss: 0.4332 - accuracy: 0.8058 - val_loss: 0.4034 - val_accuracy: 0.8199\n",
      "Epoch 19/50\n",
      "4092/4092 [==============================] - 7s 2ms/step - loss: 0.4333 - accuracy: 0.8056 - val_loss: 0.4033 - val_accuracy: 0.8185\n",
      "Epoch 20/50\n",
      "4092/4092 [==============================] - 7s 2ms/step - loss: 0.4335 - accuracy: 0.8061 - val_loss: 0.4045 - val_accuracy: 0.8193\n",
      "Epoch 21/50\n",
      "4092/4092 [==============================] - 7s 2ms/step - loss: 0.4317 - accuracy: 0.8061 - val_loss: 0.4036 - val_accuracy: 0.8189\n",
      "Epoch 22/50\n",
      "4092/4092 [==============================] - 7s 2ms/step - loss: 0.4314 - accuracy: 0.8071 - val_loss: 0.4028 - val_accuracy: 0.8191\n",
      "Epoch 23/50\n",
      "4092/4092 [==============================] - 7s 2ms/step - loss: 0.4323 - accuracy: 0.8057 - val_loss: 0.4028 - val_accuracy: 0.8190\n",
      "Epoch 24/50\n",
      "4092/4092 [==============================] - 7s 2ms/step - loss: 0.4326 - accuracy: 0.8058 - val_loss: 0.4040 - val_accuracy: 0.8185\n",
      "Epoch 25/50\n",
      "4092/4092 [==============================] - 7s 2ms/step - loss: 0.4329 - accuracy: 0.8066 - val_loss: 0.4033 - val_accuracy: 0.8195\n",
      "Epoch 26/50\n",
      "4092/4092 [==============================] - 7s 2ms/step - loss: 0.4306 - accuracy: 0.8074 - val_loss: 0.4018 - val_accuracy: 0.8210\n",
      "Epoch 27/50\n",
      "4092/4092 [==============================] - 7s 2ms/step - loss: 0.4322 - accuracy: 0.8062 - val_loss: 0.4025 - val_accuracy: 0.8208\n",
      "Epoch 28/50\n",
      "4092/4092 [==============================] - 7s 2ms/step - loss: 0.4305 - accuracy: 0.8069 - val_loss: 0.4029 - val_accuracy: 0.8198\n",
      "Epoch 29/50\n",
      "4092/4092 [==============================] - 7s 2ms/step - loss: 0.4320 - accuracy: 0.8074 - val_loss: 0.4022 - val_accuracy: 0.8187\n",
      "Epoch 30/50\n",
      "4092/4092 [==============================] - 7s 2ms/step - loss: 0.4319 - accuracy: 0.8066 - val_loss: 0.4021 - val_accuracy: 0.8204\n",
      "Epoch 31/50\n",
      "4092/4092 [==============================] - 7s 2ms/step - loss: 0.4312 - accuracy: 0.8059 - val_loss: 0.4030 - val_accuracy: 0.8189\n",
      "Epoch 32/50\n",
      "4092/4092 [==============================] - 7s 2ms/step - loss: 0.4316 - accuracy: 0.8061 - val_loss: 0.4023 - val_accuracy: 0.8198\n",
      "Epoch 33/50\n",
      "4092/4092 [==============================] - 7s 2ms/step - loss: 0.4313 - accuracy: 0.8067 - val_loss: 0.4037 - val_accuracy: 0.8194\n",
      "Epoch 34/50\n",
      "4092/4092 [==============================] - 7s 2ms/step - loss: 0.4322 - accuracy: 0.8066 - val_loss: 0.4026 - val_accuracy: 0.8196\n",
      "Epoch 35/50\n",
      "4092/4092 [==============================] - 7s 2ms/step - loss: 0.4324 - accuracy: 0.8058 - val_loss: 0.4030 - val_accuracy: 0.8200\n",
      "Epoch 36/50\n",
      "4092/4092 [==============================] - 7s 2ms/step - loss: 0.4314 - accuracy: 0.8066 - val_loss: 0.4027 - val_accuracy: 0.8194\n",
      "Epoch 37/50\n",
      "4092/4092 [==============================] - 8s 2ms/step - loss: 0.4317 - accuracy: 0.8076 - val_loss: 0.4032 - val_accuracy: 0.8193\n",
      "Epoch 38/50\n",
      "4092/4092 [==============================] - 7s 2ms/step - loss: 0.4306 - accuracy: 0.8076 - val_loss: 0.4024 - val_accuracy: 0.8192\n",
      "Epoch 39/50\n",
      "4092/4092 [==============================] - 7s 2ms/step - loss: 0.4314 - accuracy: 0.8071 - val_loss: 0.4023 - val_accuracy: 0.8198\n",
      "Epoch 40/50\n",
      "4092/4092 [==============================] - 7s 2ms/step - loss: 0.4309 - accuracy: 0.8065 - val_loss: 0.4023 - val_accuracy: 0.8197\n",
      "Epoch 41/50\n",
      "4092/4092 [==============================] - 7s 2ms/step - loss: 0.4330 - accuracy: 0.8062 - val_loss: 0.4031 - val_accuracy: 0.8198\n",
      "Epoch 42/50\n",
      "4092/4092 [==============================] - 7s 2ms/step - loss: 0.4315 - accuracy: 0.8075 - val_loss: 0.4038 - val_accuracy: 0.8186\n",
      "Epoch 43/50\n",
      "4092/4092 [==============================] - 7s 2ms/step - loss: 0.4317 - accuracy: 0.8075 - val_loss: 0.4024 - val_accuracy: 0.8192\n",
      "Epoch 44/50\n",
      "4092/4092 [==============================] - 7s 2ms/step - loss: 0.4321 - accuracy: 0.8067 - val_loss: 0.4020 - val_accuracy: 0.8196\n",
      "Epoch 45/50\n",
      "4092/4092 [==============================] - 7s 2ms/step - loss: 0.4322 - accuracy: 0.8070 - val_loss: 0.4018 - val_accuracy: 0.8206\n",
      "Epoch 46/50\n",
      "4092/4092 [==============================] - 7s 2ms/step - loss: 0.4319 - accuracy: 0.8056 - val_loss: 0.4023 - val_accuracy: 0.8197\n",
      "Epoch 47/50\n",
      "4092/4092 [==============================] - 7s 2ms/step - loss: 0.4322 - accuracy: 0.8066 - val_loss: 0.4016 - val_accuracy: 0.8197\n",
      "Epoch 48/50\n",
      "4092/4092 [==============================] - 8s 2ms/step - loss: 0.4318 - accuracy: 0.8054 - val_loss: 0.4026 - val_accuracy: 0.8198\n",
      "Epoch 49/50\n",
      "4092/4092 [==============================] - 8s 2ms/step - loss: 0.4314 - accuracy: 0.8065 - val_loss: 0.4019 - val_accuracy: 0.8205\n",
      "Epoch 50/50\n",
      "4092/4092 [==============================] - 7s 2ms/step - loss: 0.4303 - accuracy: 0.8073 - val_loss: 0.4026 - val_accuracy: 0.8191\n"
     ]
    },
    {
     "data": {
      "text/plain": [
       "<keras.callbacks.History at 0x7f9f98fa6860>"
      ]
     },
     "execution_count": 13,
     "metadata": {},
     "output_type": "execute_result"
    }
   ],
   "source": [
    "# Run training, 50 passes over the training dataset\n",
    "model.fit(train_ds, epochs=50, validation_data=val_ds)"
   ]
  },
  {
   "cell_type": "markdown",
   "metadata": {},
   "source": [
    "### Interfence\n",
    "\n",
    "The model is now trained and the weights are fixed. Probably you'll be getting a reported validation accuracy of just over 80%. We can now pass events through the the network in \"feed forward\" mode, getting an output for each event. The closer to one the output is, the closer to being signal-like the event is. "
   ]
  },
  {
   "cell_type": "code",
   "execution_count": 17,
   "metadata": {},
   "outputs": [
    {
     "name": "stdout",
     "output_type": "stream",
     "text": [
      "1023/1023 [==============================] - 1s 1ms/step\n"
     ]
    }
   ],
   "source": [
    "# Test the NN performance using the validation dataset\n",
    "nn_output = model.predict( val_ds ) "
   ]
  },
  {
   "cell_type": "markdown",
   "metadata": {},
   "source": [
    "Now we are in a position to plot the NN outputs on the validation dataset for signal and background, and the resulting response-operator (ROC) curves, using the BDT outputs obtained in the cell above. The more separated the background and signal distributions, the better the model is performing."
   ]
  },
  {
   "cell_type": "code",
   "execution_count": 26,
   "metadata": {},
   "outputs": [
    {
     "data": {
      "image/png": "[encoded data removed]",
      "text/plain": [
       "<Figure size 432x288 with 1 Axes>"
      ]
     },
     "metadata": {
      "needs_background": "light"
     },
     "output_type": "display_data"
    }
   ],
   "source": [
    "#  histogram of the BDT outputs\n",
    "n, bins, patches = plt.hist(nn_output[:,0][val_dataframe.Label==0], 200, facecolor='blue', alpha=0.2,label=\"Background\")\n",
    "n, bins, patches = plt.hist(nn_output[:,0][val_dataframe.Label==1], 200, facecolor='red', alpha=0.2, label=\"Signal\")\n",
    "\n",
    "plt.xlabel('NN output')\n",
    "plt.ylabel('Events')\n",
    "plt.title('NN output, HiggsML dataset, validation data')\n",
    "plt.grid(True)\n",
    "plt.legend()\n",
    "plt.show()"
   ]
  },
  {
   "cell_type": "code",
   "execution_count": 25,
   "metadata": {},
   "outputs": [
    {
     "data": {
      "image/png": "[encoded data removed]",
      "text/plain": [
       "<Figure size 432x288 with 1 Axes>"
      ]
     },
     "metadata": {
      "needs_background": "light"
     },
     "output_type": "display_data"
    }
   ],
   "source": [
    "# ROC curve\n",
    "from sklearn.metrics import roc_curve,auc\n",
    "fpr, tpr, thresholds = roc_curve(val_dataframe.Label,nn_output[:,0], pos_label=1)\n",
    "roc_auc = auc(fpr,tpr)\n",
    "plt.figure()\n",
    "lw = 2\n",
    "plt.plot(fpr, tpr, color='darkorange',\n",
    "         lw=lw, label='ROC curve (area = %0.2f)' % roc_auc)\n",
    "plt.plot([0, 1], [0, 1], color='navy', lw=lw, linestyle='--')\n",
    "plt.xlim([0.0, 1.0])\n",
    "plt.ylim([0.0, 1.05])\n",
    "plt.xlabel('False Positive Rate')\n",
    "plt.ylabel('True Positive Rate')\n",
    "plt.title('ROC for xgBoost on HiggsML dataset')\n",
    "plt.legend(loc=\"lower right\")\n",
    "plt.show()"
   ]
  },
  {
   "cell_type": "markdown",
   "metadata": {},
   "source": [
    "**Try it out**: re-run the NN a few times with different numbers of hidden layers, different activations, regularisation strategies etc. You can also try to increase the number of events used in the training by adjusting the fraction of events going into the (unused) evaluation dataset. You can find more information on the available parameters in the [Keras documentation](https://keras.io). Inspect the outputs and the resulting ROC. "
   ]
  },
  {
   "cell_type": "markdown",
   "metadata": {},
   "source": [
    "### Neural network hyperparameter tuning\n",
    "\n",
    "Keras offers a [hyperparameter tuning facility](https://keras.io/keras_tuner/) somewhat similar to the XGBoost version. Its use is beyond the scope of this tutorial, but you are welcome to try it out by following the instructions on the website. The procedure is the same as for the BDT: sets of parameters are selected at random and cross validation is performed by shuffling the training and validation data in each cycle. The final performance is then tested using the evaluation sample, which you'll note we have not used. "
   ]
  },
  {
   "cell_type": "markdown",
   "metadata": {
    "collapsed": true
   },
   "source": [
    "## Comparing BDTs and neural networks\n",
    "\n",
    "Now that you've had a chance to try both BDTs and neural networks, you may have appreciated some important differences:\n",
    "\n",
    " * There is no simple way to measure variable importance with a neural network, unlike with a BDT\n",
    " * Variables with little discriminating power can adversely affect the performance of a neural network, whereas BDTs are unaffected\n",
    " * Data must be normalised before ingestion into a neural networks; this is unnecessary with BDTs\n",
    " * Variables that are undefined for some events (e.g. pT of the third jet in an event with fewer than three jets) are a serious problem in neural networks and must be filled with some value in some way, or the data must be recast to side-step the problem. BDTs are unaffected by such empty variables, as long as they are labelled as such in the input. Note that this isn't an issue in the HiggsML dataset as the data was curated to avoid such issues.\n",
    " \n",
    "As a general rule, simple classification problems with limited statistics such as the HiggsML challenge are best addressed with a BDT since a shallow neural network is unlikely to outperform it and has the drawbacks listed above. However, problems involving very large datasets could benefit from the greater learning capacity of deep neural networks, which will start to outpeform a BDT at some level of statistics. More complex problems involving graph, image or sequence data need the flexibility offered by the wide variety of neural network architectures. \n",
    "\n",
    "In the end, the right tool should be used for the right job - reach for simpler tools where they are sufficient to address the problem, and for more powerful and complex tools when these are justified.\n"
   ]
  },
  {
   "cell_type": "markdown",
   "metadata": {},
   "source": [
    "## Next steps\n",
    "\n",
    "Now that you have a bit of experience with BDTs and neural networks, you might like to try to apply your knowledge to the ATLAS Open Data. See the README for the relevant links."
   ]
  }
 ],
 "metadata": {
  "kernelspec": {
   "display_name": "Python 3 (ipykernel)",
   "language": "python",
   "name": "python3"
  },
  "language_info": {
   "codemirror_mode": {
    "name": "ipython",
    "version": 3
   },
   "file_extension": ".py",
   "mimetype": "text/x-python",
   "name": "python",
   "nbconvert_exporter": "python",
   "pygments_lexer": "ipython3",
   "version": "3.9.12"
  }
 },
 "nbformat": 4,
 "nbformat_minor": 2
}
