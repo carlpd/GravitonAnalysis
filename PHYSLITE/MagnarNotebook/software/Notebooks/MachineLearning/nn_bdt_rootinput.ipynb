{
 "cells": [
  {
   "cell_type": "markdown",
   "metadata": {},
   "source": [
    "# Machine Learning on ATLAS Open Data"
   ]
  },
  {
   "cell_type": "code",
   "execution_count": null,
   "metadata": {},
   "outputs": [],
   "source": [
    "import sys\n",
    "import pickle\n",
    "import json\n",
    "import numpy as np\n",
    "import pandas as pd\n",
    "import os.path\n",
    "from IPython.display import Image\n",
    "from IPython.core.display import HTML "
   ]
  },
  {
   "cell_type": "code",
   "execution_count": null,
   "metadata": {},
   "outputs": [],
   "source": [
    "import uproot\n",
    "import vector\n",
    "import awkward"
   ]
  },
  {
   "cell_type": "code",
   "execution_count": null,
   "metadata": {},
   "outputs": [],
   "source": [
    "import matplotlib\n",
    "import matplotlib.mlab as mlab\n",
    "import matplotlib.pyplot as plt\n",
    "from matplotlib.backends.backend_pdf import PdfPages\n",
    "import math\n",
    "# SKL\n",
    "from sklearn import metrics\n",
    "from sklearn.metrics import roc_curve\n",
    "from sklearn.metrics import roc_auc_score\n",
    "from sklearn.metrics import precision_recall_curve\n",
    "from sklearn.model_selection import train_test_split\n",
    "from sklearn import preprocessing"
   ]
  },
  {
   "cell_type": "code",
   "execution_count": null,
   "metadata": {},
   "outputs": [],
   "source": [
    "import time"
   ]
  },
  {
   "cell_type": "code",
   "execution_count": null,
   "metadata": {},
   "outputs": [],
   "source": [
    "import tensorflow as tf"
   ]
  },
  {
   "cell_type": "code",
   "execution_count": null,
   "metadata": {},
   "outputs": [],
   "source": [
    "import glob"
   ]
  },
  {
   "cell_type": "code",
   "execution_count": null,
   "metadata": {},
   "outputs": [],
   "source": [
    "from keras.models import Sequential, load_model\n",
    "from tensorflow.keras import layers, losses\n",
    "from tensorflow.keras.datasets import fashion_mnist\n",
    "from tensorflow.keras.models import Model"
   ]
  },
  {
   "cell_type": "code",
   "execution_count": null,
   "metadata": {},
   "outputs": [],
   "source": [
    "from tensorflow.python.client import device_lib "
   ]
  },
  {
   "cell_type": "code",
   "execution_count": null,
   "metadata": {},
   "outputs": [],
   "source": [
    "import xgboost as xgb"
   ]
  },
  {
   "cell_type": "code",
   "execution_count": null,
   "metadata": {},
   "outputs": [],
   "source": [
    "import sys\n",
    "import logging\n",
    "logging.basicConfig(\n",
    "                    format=\"%(message)s\",\n",
    "                    level=logging.ERROR,\n",
    "                    stream=sys.stdout)\n",
    "logging.getLogger('matplotlib.font_manager').disabled = True"
   ]
  },
  {
   "cell_type": "markdown",
   "metadata": {},
   "source": [
    "Set the following variable to 1 if you want to try to use the GPU, otherwise it should be set to -1"
   ]
  },
  {
   "cell_type": "code",
   "execution_count": null,
   "metadata": {},
   "outputs": [],
   "source": [
    "os.environ[\"CUDA_VISIBLE_DEVICES\"] = \"-1\""
   ]
  },
  {
   "cell_type": "markdown",
   "metadata": {},
   "source": [
    "Ok, let's start by reading in some data after we've loaded all of the modules above. The dataframe can in principle be any data frame with a set of features, but this examples will use a data frame created from the ATLAS Open data using the example in the NtupToDF notebook which you can find in [zpath github](https://github.uio.no/zpath/software/tree/master/Notebooks/ATLASOpenData/13TeV) (and which should also be accessible from the FYS5555 interactive session in Galaxy). But for this tutorial you would not need to bother about this since we already created a data frame which is directly accessible from the local disk."
   ]
  },
  {
   "cell_type": "code",
   "execution_count": null,
   "metadata": {},
   "outputs": [],
   "source": [
    "df = pd.read_hdf(\"/storage/shared/data/2lep_df_forML.hdf5\")"
   ]
  },
  {
   "cell_type": "markdown",
   "metadata": {},
   "source": [
    "The signal simulations are put in a separate hdf5 file, but put it into (concatenate) the same data frame"
   ]
  },
  {
   "cell_type": "code",
   "execution_count": null,
   "metadata": {},
   "outputs": [],
   "source": [
    "df = pd.concat([df,pd.read_hdf(\"/storage/shared/data/2lep_df_forML_signal.hdf5\")])"
   ]
  },
  {
   "cell_type": "markdown",
   "metadata": {},
   "source": [
    "Have a look at the first five events (rows) data frame (it contains 21 variables/features). Among them the background/signal category and weights for scaling the simulation to data."
   ]
  },
  {
   "cell_type": "code",
   "execution_count": null,
   "metadata": {},
   "outputs": [],
   "source": [
    "df.head()"
   ]
  },
  {
   "cell_type": "markdown",
   "metadata": {},
   "source": [
    "... and here are all the features"
   ]
  },
  {
   "cell_type": "code",
   "execution_count": null,
   "metadata": {},
   "outputs": [],
   "source": [
    "df.columns"
   ]
  },
  {
   "cell_type": "markdown",
   "metadata": {},
   "source": [
    "And this is how many features and events we have"
   ]
  },
  {
   "cell_type": "code",
   "execution_count": null,
   "metadata": {},
   "outputs": [],
   "source": [
    "print(\"Number of events = %i\"%df.shape[0])\n",
    "print(\"Number of features = %i\"%df.shape[1])"
   ]
  },
  {
   "cell_type": "markdown",
   "metadata": {},
   "source": [
    "Load some home made tools, mainly for reading ROOT files. Feel free to use you own."
   ]
  },
  {
   "cell_type": "code",
   "execution_count": null,
   "metadata": {},
   "outputs": [],
   "source": [
    "from CommonTools import reconstructionError,relativeErrorByFeature, printResults\n",
    "from helpFuncs import *"
   ]
  },
  {
   "cell_type": "markdown",
   "metadata": {},
   "source": [
    "## Select the signal model\n",
    "The data frame contains events from all the various signal models available in the 2Lep data set. When we will train our network below we obviously only want to consider one of them. Let's first have a look on the available signal models in the data frame."
   ]
  },
  {
   "cell_type": "code",
   "execution_count": null,
   "metadata": {},
   "outputs": [],
   "source": [
    "df[df['isSignal'] == 1][\"category\"].unique()"
   ]
  },
  {
   "cell_type": "code",
   "execution_count": null,
   "metadata": {},
   "outputs": [],
   "source": [
    "bkg_categories = df[df['isSignal'] == 0][\"category\"].unique()"
   ]
  },
  {
   "cell_type": "markdown",
   "metadata": {},
   "source": [
    " Let's pick the SUSY chargino-chargino prouction decaying via leptons (SUSYC1C1). I.e. the following process."
   ]
  },
  {
   "cell_type": "code",
   "execution_count": null,
   "metadata": {},
   "outputs": [],
   "source": [
    "Image(url= \"https://gitlab.cern.ch/atlas-phys-susy-wg/feynmangraphs/-/wikis/uploads/C1C1-llvvN1N1-slsl.png\", width=300, height=300)"
   ]
  },
  {
   "cell_type": "markdown",
   "metadata": {},
   "source": [
    "Put the signal model we want into a new data frame"
   ]
  },
  {
   "cell_type": "code",
   "execution_count": null,
   "metadata": {},
   "outputs": [],
   "source": [
    "sig_df = df[df['category'] == 'SUSYC1C1']"
   ]
  },
  {
   "cell_type": "markdown",
   "metadata": {},
   "source": [
    "and similarly for the background (removing all the signal models)"
   ]
  },
  {
   "cell_type": "code",
   "execution_count": null,
   "metadata": {},
   "outputs": [],
   "source": [
    "bkg_df = df[df['isSignal'] == 0]"
   ]
  },
  {
   "cell_type": "code",
   "execution_count": null,
   "metadata": {},
   "outputs": [],
   "source": [
    "bkg_df = df[df['lep_pt1'] < 2000]\n",
    "bkg_df = df[df['met'] < 2000]"
   ]
  },
  {
   "cell_type": "markdown",
   "metadata": {},
   "source": [
    "We now have the background and signal samples we want to use in our machine learning studies below. Let's check the sizes of our samples"
   ]
  },
  {
   "cell_type": "code",
   "execution_count": null,
   "metadata": {},
   "outputs": [],
   "source": [
    "print(\"*\"*30)\n",
    "print(\"Background\")\n",
    "print(\"*\"*30)\n",
    "print(\"Number of events = %i\"%bkg_df.shape[0])\n",
    "print(\"Number of features = %i\"%bkg_df.shape[1])\n",
    "print(\"*\"*30)\n",
    "print(\"Signal\")\n",
    "print(\"*\"*30)\n",
    "print(\"Number of events = %i\"%sig_df.shape[0])\n",
    "print(\"Number of features = %i\"%sig_df.shape[1])"
   ]
  },
  {
   "cell_type": "markdown",
   "metadata": {},
   "source": [
    "## Machine Learning\n",
    "Ok, finally we're ready to start cracking with the ML! First let's see if we can see the two (or at least one) of the GPUS available on the hepp02 and 03 machines."
   ]
  },
  {
   "cell_type": "code",
   "execution_count": null,
   "metadata": {},
   "outputs": [],
   "source": [
    "gpu_available = tf.test.is_gpu_available();\n",
    "if gpu_available:\n",
    "    print(\"Great! You found the GPU!!! Let's go hunt some SUSY :-)\")\n",
    "else:\n",
    "    print(\"Did not find any GPUs. Too bad.\")\n",
    "#print(device_lib.list_local_devices()) "
   ]
  },
  {
   "cell_type": "markdown",
   "metadata": {},
   "source": [
    "We also needs to drop some features (such as the isSignal, weights and category) since we do not want to let the network train on these"
   ]
  },
  {
   "cell_type": "code",
   "execution_count": null,
   "metadata": {},
   "outputs": [],
   "source": [
    "drop_col = ['category','isSignal','weight']\n",
    "sig_df.drop(labels=drop_col,axis=1,inplace=True)\n",
    "bkg_df.drop(labels=drop_col,axis=1,inplace=True)"
   ]
  },
  {
   "cell_type": "markdown",
   "metadata": {},
   "source": [
    "Check that it worked, the shape should now have less features and put them in a list (to be used when plotting later)"
   ]
  },
  {
   "cell_type": "code",
   "execution_count": null,
   "metadata": {},
   "outputs": [],
   "source": [
    "sig_df.shape\n",
    "featuresList = sig_df.columns"
   ]
  },
  {
   "cell_type": "markdown",
   "metadata": {},
   "source": [
    "Lets first split the background into train and test samples"
   ]
  },
  {
   "cell_type": "code",
   "execution_count": null,
   "metadata": {},
   "outputs": [],
   "source": [
    "X_train_ref, X_test_ref = train_test_split(bkg_df, test_size=0.2, random_state=42)"
   ]
  },
  {
   "cell_type": "markdown",
   "metadata": {},
   "source": [
    "and do the same for the signal"
   ]
  },
  {
   "cell_type": "code",
   "execution_count": null,
   "metadata": {},
   "outputs": [],
   "source": [
    "X_train_sub, X_test_sub = train_test_split(sig_df, test_size=0.2, random_state=42)"
   ]
  },
  {
   "cell_type": "markdown",
   "metadata": {},
   "source": [
    "Combining the signal and background"
   ]
  },
  {
   "cell_type": "code",
   "execution_count": null,
   "metadata": {},
   "outputs": [],
   "source": [
    "X_train = np.concatenate((X_train_ref,X_train_sub),0)                                                                                                                                                                                                                               \n",
    "X_test = np.concatenate((X_test_ref,X_test_sub),0) \n",
    "\n",
    "Y_train_ref = np.zeros(X_train_ref.shape[0])                                                                                                                                                                                                                                                   \n",
    "Y_train_sub = np.ones(X_train_sub.shape[0])      \n",
    "Y_train = np.concatenate((Y_train_ref,Y_train_sub),0) \n",
    "\n",
    "Y_test_ref = np.zeros(X_test_ref.shape[0])                                                                                                                                                                                                                                                   \n",
    "Y_test_sub = np.ones(X_test_sub.shape[0])      \n",
    "Y_test = np.concatenate((Y_test_ref,Y_test_sub),0) "
   ]
  },
  {
   "cell_type": "code",
   "execution_count": null,
   "metadata": {},
   "outputs": [],
   "source": [
    "# Feature scaling                                                                                                                                                                                                                                                                    \n",
    "min_max_scaler = preprocessing.MinMaxScaler()                                                                                                                                                                                                                                        \n",
    "X_train = min_max_scaler.fit_transform(X_train)                                                                                                                                                                                                                                      \n",
    "X_test = min_max_scaler.transform(X_test)        "
   ]
  },
  {
   "cell_type": "code",
   "execution_count": null,
   "metadata": {},
   "outputs": [],
   "source": [
    "# Special feature scaling for autoencoder (since it is only trained on the reference)                                                                                                                                                                                                \n",
    "min_max_scaler_ae = preprocessing.MinMaxScaler()                                                                                                                                                                                                                                     \n",
    "X_train_ref_ae = min_max_scaler_ae.fit_transform(X_train_ref)                                                                                                                                                                                                                        \n",
    "X_test_ref_ae = min_max_scaler.transform(X_test_ref)                                                                                                                                                                                                                                 \n",
    "X_test_sub_ae = min_max_scaler.transform(X_test_sub)         "
   ]
  },
  {
   "cell_type": "markdown",
   "metadata": {},
   "source": [
    "Let's see what we just did with our features"
   ]
  },
  {
   "cell_type": "code",
   "execution_count": null,
   "metadata": {},
   "outputs": [],
   "source": [
    "max(bkg_df['met'])"
   ]
  },
  {
   "cell_type": "code",
   "execution_count": null,
   "metadata": {},
   "outputs": [],
   "source": [
    "isRef = True\n",
    "nbins = 100\n",
    "feature = 'lep_eta1'\n",
    "\n",
    "nf = np.where(bkg_df.columns.values == feature)[0][0]\n",
    "a = np.array([X_train_ref_ae.item((i,nf)) for i in range(X_train_ref_ae.shape[0])])\n",
    "\n",
    "figAE, axsAE = plt.subplots(2, 1)\n",
    "axAE1, axAE2 = axsAE.ravel()\n",
    "\n",
    "ns1, bins1, patches1 = axAE1.hist(bkg_df[feature], bins=nbins, facecolor='blue' if isRef else 'green', histtype='stepfilled',label='ref' if isRef else 'subj')\n",
    "ns2, bins2, patches2 = axAE2.hist(a,       bins=nbins, facecolor='blue' if isRef else 'green', histtype='stepfilled',label='ref (scaled)' if isRef else 'subj (scaled)')\n",
    "\n",
    "axAE1.legend()\n",
    "axAE2.legend()\n",
    "axAE2.set_xlabel(feature) \n",
    "plt.yscale('log')"
   ]
  },
  {
   "attachments": {
    "autoencoder.png": {
     "image/png": "[encoded data removed]"
    }
   },
   "cell_type": "markdown",
   "metadata": {},
   "source": [
    "# Autoencoder\n",
    "An autoencoder is a neural network that is trained to attempt to copy its input to its output. Internally, it has a hidden layer that describes a code used to represent the input. The network may be viewed as consisting of two parts: an encoder function $h = f(x)$ and a decoder that produces a reconstruction $r = g(h)$ as illustrated below\n",
    "\n",
    "![autoencoder.png](attachment:autoencoder.png)\n",
    "\n",
    "If an autoencoder succeeds in simply learning to set $g(f(x)) = x$ everywhere, then it is not especially useful. Instead, autoencoders are designed to be unable to learn to copy perfectly. Usually they are restricted in ways that allow them to copy only approximately, and to copy only input that resembles the training data. Because the model is forced to prioritize which aspects of the input should be copied, it often learns useful properties of the data.\n",
    "\n",
    "For more information on autoencoders please have a look at the [Deep Learning Book](https://www.deeplearningbook.org/contents/autoencoders.html).\n",
    "\n",
    "In the context of this tutorial we are interested in training an autoencoder which can find useful properties of the SM background. When the trained autoencoder later it is applied on some new physics model the hope is that it will have problems to decode it. This will result in events not looking like bakcgorund will have large reconstruction errors when the NN tries to decode them, while events that are background-like will have small errors. This then allows to discriminate between signal and background.\n",
    "\n",
    "Let's first start to build a sequential model (defines the layers of the NN). More information on sequential models can be found [here](https://keras.io/guides/sequential_model/) "
   ]
  },
  {
   "cell_type": "code",
   "execution_count": null,
   "metadata": {},
   "outputs": [],
   "source": [
    "class AnomalyDetector(Model):\n",
    "  nf = 10\n",
    "  def __init__(self,nf):\n",
    "    super(AnomalyDetector, self).__init__()\n",
    "    self.encoder = tf.keras.Sequential([\n",
    "        layers.Dense(18, activation=\"relu\"),\n",
    "        layers.Dense(8, activation=\"relu\"),\n",
    "        layers.Dense(18, activation=\"relu\")\n",
    "    ])  \n",
    "    self.decoder = tf.keras.Sequential([\n",
    "        layers.Dense(16, activation=\"relu\"),\n",
    "        layers.Dense(32, activation=\"relu\"),\n",
    "        layers.Dense(nf, activation=\"sigmoid\"),\n",
    "    ])\n",
    "  def call(self, x):\n",
    "    encoded = self.encoder(x)\n",
    "    decoded = self.decoder(encoded)\n",
    "    return decoded"
   ]
  },
  {
   "cell_type": "code",
   "execution_count": null,
   "metadata": {},
   "outputs": [],
   "source": [
    "from keras.layers import Dense, Activation\n",
    "start = time.time()  \n",
    "nfeat = X_train_ref_ae.shape[1]\n",
    "print(\"Number of features used in traing %i\"%nfeat)\n",
    "# using the class above\n",
    "#ae = AnomalyDetector(nfeat)\n",
    "ae = Sequential()   \n",
    "ae.add(Dense(units=8, input_dim=nfeat))                                                                                                                                                                      \n",
    "ae.add(Activation(\"relu\"))                                                                                                                                                                                 \n",
    "ae.add(Dense(units=nfeat, input_dim=8))                                                                                                                                                                      \n",
    "ae.add(Activation(\"linear\"))              "
   ]
  },
  {
   "cell_type": "code",
   "execution_count": null,
   "metadata": {},
   "outputs": [],
   "source": [
    "ae.summary()"
   ]
  },
  {
   "cell_type": "code",
   "execution_count": null,
   "metadata": {},
   "outputs": [],
   "source": [
    "ae.compile(loss=\"mean_squared_error\",optimizer=\"sgd\")\n",
    "history = ae.fit(X_train_ref_ae,X_train_ref_ae,epochs=1,batch_size=1000,validation_data=(X_test_ref_ae, X_test_ref_ae))                "
   ]
  },
  {
   "cell_type": "code",
   "execution_count": null,
   "metadata": {},
   "outputs": [],
   "source": [
    "ae.save_weights(\"autoencoder_newmodel_50epochs.h5\")   "
   ]
  },
  {
   "cell_type": "code",
   "execution_count": null,
   "metadata": {},
   "outputs": [],
   "source": [
    "#ae = Sequential()  \n",
    "ae.load_weights('/storage/shared/data/autoencoder_newmodel_50epochs.h5')  # load model weights"
   ]
  },
  {
   "cell_type": "code",
   "execution_count": null,
   "metadata": {},
   "outputs": [],
   "source": [
    "# Testing\n",
    "#predicted_same_ae = ae.predict(X_train_ref_ae)\n",
    "predicted_diff_ae = ae.predict(X_test_ref_ae)\n",
    "predicted_sub_ae = ae.predict(X_test_sub_ae)\n",
    "# Reconstruction error\n",
    "#rec_errors_same_ae = reconstructionError(X_train_ref_ae,predicted_same_ae)\n",
    "rec_errors_diff_ae = reconstructionError(X_test_ref_ae,predicted_diff_ae)\n",
    "rec_errors_sub_ae = reconstructionError(X_test_sub_ae,predicted_sub_ae)"
   ]
  },
  {
   "cell_type": "code",
   "execution_count": null,
   "metadata": {},
   "outputs": [],
   "source": []
  },
  {
   "cell_type": "markdown",
   "metadata": {},
   "source": [
    "# Investigating the results\n",
    "Let's plot some useful results of the traines classifier when testing it on the test input."
   ]
  },
  {
   "cell_type": "code",
   "execution_count": null,
   "metadata": {},
   "outputs": [],
   "source": [
    "y_pos = np.arange(len(bkg_df.columns))\n",
    "bins = np.linspace(-0.5, 1.5, 250)"
   ]
  },
  {
   "cell_type": "markdown",
   "metadata": {},
   "source": [
    "First plot the reconstruction error of the test reference and subject data sets"
   ]
  },
  {
   "cell_type": "code",
   "execution_count": null,
   "metadata": {},
   "outputs": [],
   "source": [
    "# Outputs\n",
    "figAE, axsAE = plt.subplots(2, 1);\n",
    "axAE1, axAE2 = axsAE.ravel();\n",
    "figAE.set_size_inches(10,15);\n",
    "for ax in axAE1, axAE2:\n",
    "    ax.set_ylabel(\"Events\")\n",
    "    ax.set_xlabel(\"log10(Autoencoder reconstruction error)\")\n",
    "#axAE1.hist(rec_errors_same_ae, bins, facecolor='blue', alpha=0.4, histtype='stepfilled');\n",
    "#axAE1.hist(rec_errors_diff_ae, bins, facecolor='green', alpha=0.4, histtype='stepfilled');\n",
    "axAE2.hist(rec_errors_diff_ae, bins, facecolor='green', alpha=0.4, histtype='stepfilled');\n",
    "axAE2.hist(rec_errors_sub_ae, bins, facecolor='red', alpha=0.4, histtype='stepfilled');\n",
    "axAE1.set_xscale('log')\n",
    "axAE1.set_yscale('log')\n",
    "axAE2.set_yscale('log')"
   ]
  },
  {
   "cell_type": "markdown",
   "metadata": {},
   "source": [
    "And then look at the ROC-curve"
   ]
  },
  {
   "cell_type": "code",
   "execution_count": null,
   "metadata": {},
   "outputs": [],
   "source": [
    "# ROC\n",
    "Y_ref = np.zeros(X_test_ref.shape[0]).reshape(X_test_ref.shape[0],1);\n",
    "Y_sub = np.ones(X_test_sub.shape[0]).reshape(X_test_sub.shape[0],1);\n",
    "Y_ROC = np.concatenate((Y_ref,Y_sub),0);\n",
    "rec_errors_ROC = np.concatenate((rec_errors_diff_ae,rec_errors_sub_ae),0)\n",
    "fpr, tpr, thresholds = roc_curve(Y_ROC, rec_errors_ROC, pos_label=1)\n",
    "ae_auc = roc_auc_score(Y_ROC, rec_errors_ROC)\n",
    "figRocAE, axRocAE = plt.subplots()\n",
    "figRocAE.set_size_inches(10,15)\n",
    "axRocAE.plot(fpr, tpr, label='ROC curve')\n",
    "axRocAE.plot([0, 1], [0, 1], 'k--')\n",
    "axRocAE.set_xlim([0.0, 1.0])\n",
    "axRocAE.set_ylim([0.0, 1.05])\n",
    "axRocAE.set_xlabel('False Anomaly Rate')\n",
    "axRocAE.set_ylabel('True Anomaly Rate')\n",
    "axRocAE.text(0.4,0.2,\"AUC = %.4f\" % ae_auc,fontsize=15)\n",
    "axRocAE.set_title(\"Autoencoder ROC\")"
   ]
  },
  {
   "cell_type": "markdown",
   "metadata": {},
   "source": [
    "And finally the variable importance"
   ]
  },
  {
   "cell_type": "code",
   "execution_count": null,
   "metadata": {},
   "outputs": [],
   "source": [
    "# Variable importance\n",
    "rec_errors_varwise_sub = relativeErrorByFeature(X_test_sub_ae,predicted_sub_ae)\n",
    "figVarAE, axVarAE = plt.subplots(1,1)\n",
    "figVarAE.set_size_inches(10,15)\n",
    "axVarAE.barh(y_pos, 100*rec_errors_varwise_sub, align='center', alpha=0.4)\n",
    "axVarAE.set_ylim([0,len(featuresList)])\n",
    "axVarAE.set_yticks(y_pos)\n",
    "axVarAE.set_yticklabels(featuresList,fontsize=8)\n",
    "axVarAE.set_xlabel('Relative importance, %')\n",
    "axVarAE.set_title(\"Estimated variable importance using outputs (autoencoder)\")\n",
    "#pdf_pages.savefig(figVarAE)"
   ]
  },
  {
   "cell_type": "markdown",
   "metadata": {},
   "source": [
    "# Plotting R&D (Not yet working)"
   ]
  },
  {
   "cell_type": "code",
   "execution_count": null,
   "metadata": {},
   "outputs": [],
   "source": [
    "mc_mll = []\n",
    "mc_weights = []\n",
    "mc_colors = []\n",
    "mc_labels = []\n",
    "\n",
    "data_mll = []\n",
    "data_mll_errors = []\n",
    "\n",
    "var = \"met\"\n",
    "top = -999\n",
    "\n",
    "nmax = 1000\n",
    "nmin = 0\n",
    "binw = 20\n",
    "\n",
    "data_x = []\n",
    "if not ((nmax-nmin)/binw).is_integer():\n",
    "    print(\"ERROR \\t Limits and bin width are not compatible\")\n",
    "print(int((nmax-nmin)/binw)+1)\n",
    "bins = [nmin + (x*binw) for x in range(int((nmax-nmin)/binw)+1)]\n",
    "for i in range(len(bins)-1):\n",
    "    #print(bins[i])\n",
    "    data_x.append(bins[i]+(bins[i+1]-bins[i])/2)\n",
    "for s in bkg_categories:\n",
    "    if s == \"Data\":\n",
    "        data_mll,_ = np.histogram(X_data.as_matrix(columns=X_data.columns[X_data.columns.get_loc(var):X_data.columns.get_loc(var)+1])/1000., bins=bins)\n",
    "        data_mll_errors = np.sqrt(data_mll)\n",
    "    else:\n",
    "        df = bkg_df.loc[df['category'] == s]\n",
    "        mc_mll.append(rslt_df.as_matrix(columns=rslt_df.columns[rslt_df.columns.get_loc(var):rslt_df.columns.get_loc(var)+1])/1000.)\n",
    "        mc_weights.append(rslt_df.as_matrix(columns=rslt_df.columns[rslt_df.columns.get_loc(\"wgt\"):rslt_df.columns.get_loc(\"wgt\")+1]))\n",
    "        mc_colors.append(bkg_plot_dic[s])\n",
    "        mc_labels.append(s)\n",
    "        if np.amax(mc_mll[-1]) > top:\n",
    "            top = np.amax(mc_mll[-1])\n",
    "        del [rslt_df]\n",
    "    print(s)"
   ]
  },
  {
   "cell_type": "code",
   "execution_count": null,
   "metadata": {},
   "outputs": [],
   "source": [
    "figure(num=None, figsize=(10, 8), dpi=100, facecolor='w', edgecolor='k')\n",
    "plt.hist(mc_mll,bins=bins,weights=mc_weights,stacked=True,color=mc_colors, label=mc_labels); #weights=mc_weights,\n",
    "plt.errorbar( x=data_x, y=data_mll, yerr=data_mll_errors, fmt='ko', label='Data')\n",
    "plt.yscale('log')\n",
    "plt.ylabel(r'Events',fontname='sans-serif',horizontalalignment='right',y=1.0,fontsize=11)\n",
    "plt.xlabel(r'$M_{ll}$ [GeV]',fontname='sans-serif',horizontalalignment='right',x=1.0,fontsize=11)\n",
    "\n",
    "plt.ylim(bottom=1,top=top*10)\n",
    "\n",
    "ax = plt.gca()\n",
    "plt.text(0.45,0.97,r'$\\mathbf{{ATLAS}}$ Open Data',ha=\"left\",va=\"top\",family='sans-serif',transform=ax.transAxes,fontsize=13)\n",
    "plt.text(0.45,0.92,'for education only',ha=\"left\",va=\"top\",family='sans-serif',transform=ax.transAxes,style='italic',fontsize=8)\n",
    "plt.text(0.45,0.90,r'$\\sqrt{s}=13\\,\\mathrm{TeV},\\;\\int L\\,dt=10\\,\\mathrm{fb}^{-1}$',ha=\"left\",va=\"top\",family='sans-serif',transform=ax.transAxes)\n",
    "\n",
    "\n",
    "plt.legend()"
   ]
  }
 ],
 "metadata": {
  "kernelspec": {
   "display_name": "Python 3 (ipykernel)",
   "language": "python",
   "name": "python3"
  },
  "language_info": {
   "codemirror_mode": {
    "name": "ipython",
    "version": 3
   },
   "file_extension": ".py",
   "mimetype": "text/x-python",
   "name": "python",
   "nbconvert_exporter": "python",
   "pygments_lexer": "ipython3",
   "version": "3.7.4"
  }
 },
 "nbformat": 4,
 "nbformat_minor": 4
}
